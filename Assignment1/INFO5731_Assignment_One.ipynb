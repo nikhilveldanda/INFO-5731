{
  "nbformat": 4,
<<<<<<< HEAD
  "nbformat_minor": 2,
=======
  "nbformat_minor": 0,
>>>>>>> 486b37bcea2174d8d5da15bd27390d14039d8875
  "metadata": {
    "colab": {
      "name": "INFO5731_Assignment_One.ipynb",
      "provenance": [],
      "collapsed_sections": [],
      "include_colab_link": true
    },
    "kernelspec": {
      "display_name": "Python 3",
      "language": "python",
      "name": "python3"
    },
    "language_info": {
      "codemirror_mode": {
        "name": "ipython",
        "version": 3
      },
      "file_extension": ".py",
      "mimetype": "text/x-python",
      "name": "python",
      "nbconvert_exporter": "python",
      "pygments_lexer": "ipython3",
      "version": "3.8.5"
    }
  },
  "cells": [
    {
      "cell_type": "markdown",
<<<<<<< HEAD
      "source": [
        "<a href=\"https://colab.research.google.com/github/nikhilveldanda/INFO-5731/blob/Assignment1/INFO5731_Assignment_One.ipynb\" target=\"_parent\"><img src=\"https://colab.research.google.com/assets/colab-badge.svg\" alt=\"Open In Colab\"/></a>"
      ],
      "metadata": {
        "id": "view-in-github",
        "colab_type": "text"
      }
    },
    {
      "cell_type": "markdown",
      "source": [
        "# **INFO5731 Assignment One**"
      ],
      "metadata": {
        "id": "Ryk8D1Q4Wsrp"
      }
    },
    {
      "cell_type": "markdown",
=======
      "metadata": {
        "id": "view-in-github",
        "colab_type": "text"
      },
      "source": [
        "<a href=\"https://colab.research.google.com/github/nikhilveldanda/INFO-5731/blob/Assignment1/INFO5731_Assignment_One.ipynb\" target=\"_parent\"><img src=\"https://colab.research.google.com/assets/colab-badge.svg\" alt=\"Open In Colab\"/></a>"
      ]
    },
    {
      "cell_type": "markdown",
      "metadata": {
        "id": "Ryk8D1Q4Wsrp"
      },
      "source": [
        "# **INFO5731 Assignment One**"
      ]
    },
    {
      "cell_type": "markdown",
      "metadata": {
        "id": "90_NR8c5XGWc"
      },
>>>>>>> 486b37bcea2174d8d5da15bd27390d14039d8875
      "source": [
        "# Question 1\n",
        "\n",
        "(20 points). Write a Python program to generate 12 random numbers between 1 and 100. Sort the list of numbers in ascending order and print it out. Sort the list of numbers in descending order and print it out. Calculate the average for the group and print it out."
<<<<<<< HEAD
      ],
      "metadata": {
        "id": "90_NR8c5XGWc"
      }
    },
    {
      "cell_type": "code",
      "execution_count": 1,
      "source": [
        "import random\r\n",
        "# creating a list of 12 random numbers.\r\n",
        "l1=[random.randint(1,100) for i in range(12) ]\r\n",
        "# Ordering according to the requirement given using method sorted.\r\n",
        "print(\"Ascending Order\", sorted(l1))\r\n",
        "print(\"Descending Order\",sorted(l1,reverse=True))\r\n",
        "print(\"Average\",sum(l1)/len(l1))"
      ],
=======
      ]
    },
    {
      "cell_type": "code",
      "metadata": {
        "colab": {
          "base_uri": "https://localhost:8080/"
        },
        "id": "5QX6bJjGWXY9",
        "outputId": "ede478fa-b51d-4e44-e106-a6eac35700a5"
      },
      "source": [
        "import random\n",
        "l1=[random.randint(1,100) for i in range(12) ]\n",
        "\n",
        "print(\"Ascending Order\", sorted(l1))\n",
        "print(\"Descending Order\",sorted(l1,reverse=True))\n",
        "print(\"Average\",sum(l1)/len(l1))"
      ],
      "execution_count": 1,
>>>>>>> 486b37bcea2174d8d5da15bd27390d14039d8875
      "outputs": [
        {
          "output_type": "stream",
          "name": "stdout",
          "text": [
            "Ascending Order [35, 36, 40, 47, 62, 78, 79, 80, 83, 89, 90, 95]\n",
            "Descending Order [95, 90, 89, 83, 80, 79, 78, 62, 47, 40, 36, 35]\n",
            "Average 67.83333333333333\n"
          ]
        }
<<<<<<< HEAD
      ],
      "metadata": {
        "colab": {
          "base_uri": "https://localhost:8080/"
        },
        "id": "5QX6bJjGWXY9",
        "outputId": "ede478fa-b51d-4e44-e106-a6eac35700a5"
      }
    },
    {
      "cell_type": "markdown",
=======
      ]
    },
    {
      "cell_type": "markdown",
      "metadata": {
        "id": "1F_PZdH9Sh49"
      },
>>>>>>> 486b37bcea2174d8d5da15bd27390d14039d8875
      "source": [
        "# Question 2\n",
        "(25 points). Write a program that will do the following string formatting tasks:\n",
        "\n",
        "(1) Ask the user to enter two sentences.\n",
        "\n",
        "(2) Make each sentence into a list. Each element in the list should correspond to a word in the sentence. For example, if the sentence is \"Alas! Am I alive? This is my first python program\", the program should print out ['Alas, '!', 'Am', 'I', 'alive, '?', 'This', 'is', 'my', 'first', 'python', 'program'].\n",
        "\n",
        "(3) Compare the two sentences. Print out a list of words that occur in both sentences.\n",
        "\n",
        "(4) Remove any punctuation from the sentence and print it back out. It should remove at least the following characters, but it can remove more: period(“.”), comma (“,”), semicolon (“;”), and colon (“:”)\n",
        "\n",
        "(5) Count the number of vowels in the sentences. Print out each vowel and the number of times it appears in the sentences, such as: a:2, e:1, i:0, etc"
<<<<<<< HEAD
      ],
      "metadata": {
        "id": "1F_PZdH9Sh49"
      }
    },
    {
      "cell_type": "code",
      "execution_count": 2,
      "source": [
        "# Your code here\r\n",
        "import re\r\n",
        "#1 Taking two inputs from keyboard\r\n",
        "print(\"#1\")\r\n",
        "st1 = input(\"Enter sentence 1 \")\r\n",
        "st2 = input(\"Enter sentence 2 \")\r\n",
        "print(\"\\n\")\r\n",
        "#2 using regular expressions\r\n",
        "print(\"#2\")\r\n",
        "s1 = (re.findall(r\"[\\w']+|[.,!?;]\", st1))\r\n",
        "s2 = (re.findall(r\"[\\w']+|[.,!?;]\", st2))\r\n",
        "\r\n",
        "print(s1 + s2)\r\n",
        "print(\"\\n\")\r\n",
        "#3 using series of set function methods to get required result\r\n",
        "print(\"#3\")\r\n",
        "print(\"Two sentences comparision list \",list(set(s1).intersection(set(s2))))\r\n",
        "print(\"\\n\")\r\n",
        "#4\r\n",
        "print(\"#4\")\r\n",
        "removed_punc_st1 = \"\".join([i for i in st1 if i not in \".,;:'/?!\"])\r\n",
        "removed_punc_st2 = \"\".join([i for i in st2 if i not in \".,;:'/?!\"])\r\n",
        "\r\n",
        "print(\"sentence 1 with removed punctuation:\",removed_punc_st1)\r\n",
        "print(\"sentence 2 with removed punctuation:\",removed_punc_st2)\r\n",
        "print(\"\\n\")\r\n",
        "#5\r\n",
        "print(\"#5\")\r\n",
        "\r\n",
        "def count_vowels(str1,dict1 = {}):\r\n",
        "  \"\"\"\r\n",
        "  Count vowels function\r\n",
        "  \"\"\"\r\n",
        "  for i in 'aeiou':\r\n",
        "    dict1[i] = str1.lower().count(i)\r\n",
        "  return dict1\r\n",
        "\r\n",
        "print(\"Vowels count in sentence 1\",count_vowels(st1))\r\n",
        "print(\"Vowels count in sentence 2\",count_vowels(st2))"
      ],
=======
      ]
    },
    {
      "cell_type": "code",
      "metadata": {
        "colab": {
          "base_uri": "https://localhost:8080/"
        },
        "id": "Y0oOSlsOS0cq",
        "outputId": "a7153cbc-3d3e-4bdf-e901-e52996a4ee64"
      },
      "source": [
        "# Your code here\n",
        "import re\n",
        "#1\n",
        "print(\"#1\")\n",
        "st1 = input(\"Enter sentence 1 \")\n",
        "st2 = input(\"Enter sentence 2 \")\n",
        "print(\"\\n\")\n",
        "#2\n",
        "print(\"#2\")\n",
        "s1 = (re.findall(r\"[\\w']+|[.,!?;]\", st1))\n",
        "s2 = (re.findall(r\"[\\w']+|[.,!?;]\", st2))\n",
        "\n",
        "print(s1 + s2)\n",
        "print(\"\\n\")\n",
        "#3\n",
        "print(\"#3\")\n",
        "print(\"Two sentences comparision list \",list(set(s1).intersection(set(s2))))\n",
        "print(\"\\n\")\n",
        "#4\n",
        "print(\"#4\")\n",
        "removed_punc_st1 = \"\".join([i for i in st1 if i not in \".,;:'/?!\"])\n",
        "removed_punc_st2 = \"\".join([i for i in st2 if i not in \".,;:'/?!\"])\n",
        "\n",
        "print(\"sentence 1 with removed punctuation:\",removed_punc_st1)\n",
        "print(\"sentence 2 with removed punctuation:\",removed_punc_st2)\n",
        "print(\"\\n\")\n",
        "#5\n",
        "print(\"#5\")\n",
        "\n",
        "def count_vowels(str1,dict1 = {}):\n",
        "  for i in 'aeiou':\n",
        "    dict1[i] = str1.lower().count(i)\n",
        "  return dict1\n",
        "\n",
        "print(\"Vowels count in sentence 1\",count_vowels(st1))\n",
        "print(\"Vowels count in sentence 2\",count_vowels(st2))"
      ],
      "execution_count": 2,
>>>>>>> 486b37bcea2174d8d5da15bd27390d14039d8875
      "outputs": [
        {
          "output_type": "stream",
          "name": "stdout",
          "text": [
            "#1\n",
            "Enter sentence 1 Alas! Am I alive?\n",
            "Enter sentence 2 This is my first python program. Alas!\n",
            "\n",
            "\n",
            "#2\n",
            "['Alas', '!', 'Am', 'I', 'alive', '?', 'This', 'is', 'my', 'first', 'python', 'program', '.', 'Alas', '!']\n",
            "\n",
            "\n",
            "#3\n",
            "Two sentences comparision list  ['!', 'Alas']\n",
            "\n",
            "\n",
            "#4\n",
            "sentence 1 with removed punctuation: Alas Am I alive\n",
            "sentence 2 with removed punctuation: This is my first python program Alas\n",
            "\n",
            "\n",
            "#5\n",
            "Vowels count in sentence 1 {'a': 4, 'e': 1, 'i': 2, 'o': 0, 'u': 0}\n",
            "Vowels count in sentence 2 {'a': 3, 'e': 0, 'i': 3, 'o': 2, 'u': 0}\n"
          ]
        }
<<<<<<< HEAD
      ],
      "metadata": {
        "colab": {
          "base_uri": "https://localhost:8080/"
        },
        "id": "Y0oOSlsOS0cq",
        "outputId": "a7153cbc-3d3e-4bdf-e901-e52996a4ee64"
      }
    },
    {
      "cell_type": "markdown",
=======
      ]
    },
    {
      "cell_type": "markdown",
      "metadata": {
        "id": "CmFoI4jDS9nx"
      },
>>>>>>> 486b37bcea2174d8d5da15bd27390d14039d8875
      "source": [
        "# Question 3 \n",
        "\n",
        "(15 points). The formula that describes the volume V of a sphere with radius r is the following:\n",
        "\n",
        "$ V=\\frac{4}{3}\\ast\\ \\pi\\ast\\ r^3 $\n",
        "\n",
        "Write a program to calculate the value of V when r is in the range of 1–10. Output the result in the following format:\n",
        "\n",
        "\tr\tV\n",
        "\t1\t…\n",
        "\t2\t…\n",
        "\t3\t…\n"
<<<<<<< HEAD
      ],
      "metadata": {
        "id": "CmFoI4jDS9nx"
      }
    },
    {
      "cell_type": "code",
      "execution_count": 3,
      "source": [
        "# Your code here\r\n",
        "# Code to calculate the formula for first 10 numbers\r\n",
        "print(\"r      V\")\r\n",
        "for r in range(1,11):\r\n",
        "  print(\"{0}\".format(r),\" \",((4/3)*(22/7)*(r**3)))"
      ],
=======
      ]
    },
    {
      "cell_type": "code",
      "metadata": {
        "colab": {
          "base_uri": "https://localhost:8080/"
        },
        "id": "pEyqeioAT95b",
        "outputId": "5f67d667-ffe4-4947-dddb-b7b70c03eda1"
      },
      "source": [
        "# Your code here\n",
        "print(\"r      V\")\n",
        "for r in range(1,11):\n",
        "\n",
        "\n",
        "  print(\"{0}\".format(r),\" \",((4/3)*(22/7)*(r**3)))"
      ],
      "execution_count": 3,
>>>>>>> 486b37bcea2174d8d5da15bd27390d14039d8875
      "outputs": [
        {
          "output_type": "stream",
          "name": "stdout",
          "text": [
            "r      V\n",
            "1   4.19047619047619\n",
            "2   33.52380952380952\n",
            "3   113.14285714285712\n",
            "4   268.19047619047615\n",
            "5   523.8095238095237\n",
            "6   905.142857142857\n",
            "7   1437.333333333333\n",
            "8   2145.523809523809\n",
            "9   3054.857142857142\n",
            "10   4190.47619047619\n"
          ]
        }
<<<<<<< HEAD
      ],
      "metadata": {
        "colab": {
          "base_uri": "https://localhost:8080/"
        },
        "id": "pEyqeioAT95b",
        "outputId": "5f67d667-ffe4-4947-dddb-b7b70c03eda1"
      }
    },
    {
      "cell_type": "markdown",
=======
      ]
    },
    {
      "cell_type": "markdown",
      "metadata": {
        "id": "z3tBE7E-Xn5X"
      },
>>>>>>> 486b37bcea2174d8d5da15bd27390d14039d8875
      "source": [
        "# Question 4\n",
        "\n",
        "(40 points). In the field of Data Science, data is often formatted as a comma-delimited (CSV) file, where each line in a file corresponds to a field's value. Refer to Chapter 9 (p. 106) for more information on comma-delimited files. To answer this question, you will need to download the file [Assignment1_denton_housing.csv](https://github.com/unt-iialab/info5731-fall2021/blob/main/assignments/Assignment1_denton_housing.csv) included with this assignment. The file [Assignment1_denton_housing.csv](https://github.com/unt-iialab/info5731-fall2021/blob/main/assignments/Assignment1_denton_housing.csv) contains statistics about housing in the city of Denton from 2008 to 2014. Write a program to implement the following questions.\n",
        "\n",
        "(1) (10 pts) Calculate the difference in the number of Occupied Housing Units from year to year and print it. The difference must be calculated for the consecutive years such as 2008-2009, 2009-2010 etc. Finally, print the values in the ascending order.\n",
        "\n",
        "(2) (10 pts) For all the years, calculate the percentage of housing units which are vacant an occupied. Print the results in the following format:\n",
        "\n",
        "Year Vacant Housing Units Occupied Housing Units\n",
        "\n",
        "    2008  30%   70%                          \n",
        "\t2009 ----- -----\n",
        "\t2010 ----- -----\n",
        "    2011 ----- -----\n",
        "\t2012 ----- -----\n",
        "    2013 ----- -----\n",
        "\t2014 ----- -----\n",
        "  \n",
        "  \n",
        "\n",
        "(3) (10 pts) Calculate and print the valued and years in which the highest number of housing units were vacant and occupied. Print the results in the following format:  \n",
        "\n",
        "                              Year\tValue\n",
        "\tVacant Housing Units\t  -----   -----\n",
        "\tOccupied Housing Units\t-----   -----\n",
        "\n",
        "(4) (10 pts) Calculate the harmonic mean of the total housing units and print it out. You can find the information about harmonic mean here: https://ncalculators.com/statistics/harmonic-mean-calculator.htm"
<<<<<<< HEAD
      ],
      "metadata": {
        "id": "z3tBE7E-Xn5X"
      }
    },
    {
      "cell_type": "code",
      "execution_count": 4,
      "source": [
        "import pandas as pd"
      ],
      "outputs": [],
      "metadata": {
        "id": "GY8h4B5e5yE1"
      }
    },
    {
      "cell_type": "code",
      "execution_count": 5,
      "source": [
        "# reading csv file\r\n",
        "df = pd.read_csv(\"https://raw.githubusercontent.com/unt-iialab/info5731-fall2021/main/assignments/Assignment1_denton_housing.csv\")\r\n",
        "df.head()"
      ],
=======
      ]
    },
    {
      "cell_type": "code",
      "metadata": {
        "id": "GY8h4B5e5yE1"
      },
      "source": [
        "import pandas as pd"
      ],
      "execution_count": 4,
      "outputs": []
    },
    {
      "cell_type": "code",
      "metadata": {
        "id": "4hfrEYlE5yJO",
        "outputId": "724a01bc-7211-452f-c53f-7c3524d5e03b",
        "colab": {
          "base_uri": "https://localhost:8080/",
          "height": 203
        }
      },
      "source": [
        "df = pd.read_csv(\"https://raw.githubusercontent.com/unt-iialab/info5731-fall2021/main/assignments/Assignment1_denton_housing.csv\")\n",
        "df.head()"
      ],
      "execution_count": 5,
>>>>>>> 486b37bcea2174d8d5da15bd27390d14039d8875
      "outputs": [
        {
          "output_type": "execute_result",
          "data": {
            "text/html": [
              "<div>\n",
              "<style scoped>\n",
              "    .dataframe tbody tr th:only-of-type {\n",
              "        vertical-align: middle;\n",
              "    }\n",
              "\n",
              "    .dataframe tbody tr th {\n",
              "        vertical-align: top;\n",
              "    }\n",
              "\n",
              "    .dataframe thead th {\n",
              "        text-align: right;\n",
              "    }\n",
              "</style>\n",
              "<table border=\"1\" class=\"dataframe\">\n",
              "  <thead>\n",
              "    <tr style=\"text-align: right;\">\n",
              "      <th></th>\n",
              "      <th>year</th>\n",
              "      <th>title_field</th>\n",
              "      <th>value</th>\n",
              "    </tr>\n",
              "  </thead>\n",
              "  <tbody>\n",
              "    <tr>\n",
              "      <th>0</th>\n",
              "      <td>2014</td>\n",
              "      <td>Total Housing Units</td>\n",
              "      <td>49109</td>\n",
              "    </tr>\n",
              "    <tr>\n",
              "      <th>1</th>\n",
              "      <td>2014</td>\n",
              "      <td>Vacant Housing Units</td>\n",
              "      <td>2814</td>\n",
              "    </tr>\n",
              "    <tr>\n",
              "      <th>2</th>\n",
              "      <td>2014</td>\n",
              "      <td>Occupied Housing Units</td>\n",
              "      <td>46295</td>\n",
              "    </tr>\n",
              "    <tr>\n",
              "      <th>3</th>\n",
              "      <td>2013</td>\n",
              "      <td>Total Housing Units</td>\n",
              "      <td>47888</td>\n",
              "    </tr>\n",
              "    <tr>\n",
              "      <th>4</th>\n",
              "      <td>2013</td>\n",
              "      <td>Vacant Housing Units</td>\n",
              "      <td>4215</td>\n",
              "    </tr>\n",
              "  </tbody>\n",
              "</table>\n",
              "</div>"
            ],
            "text/plain": [
              "   year             title_field  value\n",
              "0  2014     Total Housing Units  49109\n",
              "1  2014    Vacant Housing Units   2814\n",
              "2  2014  Occupied Housing Units  46295\n",
              "3  2013     Total Housing Units  47888\n",
              "4  2013    Vacant Housing Units   4215"
            ]
          },
          "metadata": {},
          "execution_count": 5
        }
<<<<<<< HEAD
      ],
      "metadata": {
        "id": "4hfrEYlE5yJO",
        "outputId": "724a01bc-7211-452f-c53f-7c3524d5e03b",
        "colab": {
          "base_uri": "https://localhost:8080/",
          "height": 203
        }
      }
    },
    {
      "cell_type": "markdown",
      "source": [
        "### Q 4.1"
      ],
      "metadata": {
        "id": "BeIosQ9BQ5fa"
      }
    },
    {
      "cell_type": "code",
      "execution_count": 6,
      "source": [
        "# using lag to get previous years data and manipulating data as per requirement.\r\n",
        "df['Data_lagged'] = df.loc[df['title_field'] == 'Occupied Housing Units'].sort_values(\"year\")[\"value\"].shift(1)\r\n",
        "df['Val_Diff'] = df['value'] - df['Data_lagged']\r\n",
        "df[\"years\"]= df[\"year\"].astype(\"string\") + \"-\" + (df[\"year\"]+1).astype(\"string\")\r\n",
        "df.loc[df['title_field'] == 'Occupied Housing Units'].sort_values([\"year\"])[[\"years\",\"Val_Diff\"]].sort_values(\"Val_Diff\")"
      ],
=======
      ]
    },
    {
      "cell_type": "markdown",
      "metadata": {
        "id": "BeIosQ9BQ5fa"
      },
      "source": [
        "### Q 4.1"
      ]
    },
    {
      "cell_type": "code",
      "metadata": {
        "id": "QKWjt3zm8aLF",
        "outputId": "ccf194fd-be14-4927-f3e4-bdf137f5d8f8",
        "colab": {
          "base_uri": "https://localhost:8080/",
          "height": 265
        }
      },
      "source": [
        "df['Data_lagged'] = df.loc[df['title_field'] == 'Occupied Housing Units'].sort_values(\"year\")[\"value\"].shift(1)\n",
        "df['Val_Diff'] = df['value'] - df['Data_lagged']\n",
        "df[\"years\"]= df[\"year\"].astype(\"string\") + \"-\" + (df[\"year\"]+1).astype(\"string\")\n",
        "df.loc[df['title_field'] == 'Occupied Housing Units'].sort_values([\"year\"])[[\"years\",\"Val_Diff\"]].sort_values(\"Val_Diff\")"
      ],
      "execution_count": 6,
>>>>>>> 486b37bcea2174d8d5da15bd27390d14039d8875
      "outputs": [
        {
          "output_type": "execute_result",
          "data": {
            "text/html": [
              "<div>\n",
              "<style scoped>\n",
              "    .dataframe tbody tr th:only-of-type {\n",
              "        vertical-align: middle;\n",
              "    }\n",
              "\n",
              "    .dataframe tbody tr th {\n",
              "        vertical-align: top;\n",
              "    }\n",
              "\n",
              "    .dataframe thead th {\n",
              "        text-align: right;\n",
              "    }\n",
              "</style>\n",
              "<table border=\"1\" class=\"dataframe\">\n",
              "  <thead>\n",
              "    <tr style=\"text-align: right;\">\n",
              "      <th></th>\n",
              "      <th>years</th>\n",
              "      <th>Val_Diff</th>\n",
              "    </tr>\n",
              "  </thead>\n",
              "  <tbody>\n",
              "    <tr>\n",
              "      <th>17</th>\n",
              "      <td>2009-2010</td>\n",
              "      <td>-795.0</td>\n",
              "    </tr>\n",
              "    <tr>\n",
              "      <th>11</th>\n",
              "      <td>2011-2012</td>\n",
              "      <td>-303.0</td>\n",
              "    </tr>\n",
              "    <tr>\n",
              "      <th>8</th>\n",
              "      <td>2012-2013</td>\n",
              "      <td>1404.0</td>\n",
              "    </tr>\n",
              "    <tr>\n",
              "      <th>5</th>\n",
              "      <td>2013-2014</td>\n",
              "      <td>1565.0</td>\n",
              "    </tr>\n",
              "    <tr>\n",
              "      <th>2</th>\n",
              "      <td>2014-2015</td>\n",
              "      <td>2622.0</td>\n",
              "    </tr>\n",
              "    <tr>\n",
              "      <th>14</th>\n",
              "      <td>2010-2011</td>\n",
              "      <td>5091.0</td>\n",
              "    </tr>\n",
              "    <tr>\n",
              "      <th>20</th>\n",
              "      <td>2008-2009</td>\n",
              "      <td>NaN</td>\n",
              "    </tr>\n",
              "  </tbody>\n",
              "</table>\n",
              "</div>"
            ],
            "text/plain": [
              "        years  Val_Diff\n",
              "17  2009-2010    -795.0\n",
              "11  2011-2012    -303.0\n",
              "8   2012-2013    1404.0\n",
              "5   2013-2014    1565.0\n",
              "2   2014-2015    2622.0\n",
              "14  2010-2011    5091.0\n",
              "20  2008-2009       NaN"
            ]
          },
          "metadata": {},
          "execution_count": 6
        }
<<<<<<< HEAD
      ],
      "metadata": {
        "id": "QKWjt3zm8aLF",
        "outputId": "ccf194fd-be14-4927-f3e4-bdf137f5d8f8",
        "colab": {
          "base_uri": "https://localhost:8080/",
          "height": 265
        }
      }
    },
    {
      "cell_type": "markdown",
      "source": [
        "### Q 4.2"
      ],
      "metadata": {
        "id": "Ad8zPwALRBC3"
      }
    },
    {
      "cell_type": "code",
      "execution_count": 7,
      "source": [
        "# Generating the lists for the requirement.\r\n",
        "vacant = df[df['title_field'] == 'Vacant Housing Units'].sort_values(by=['year'])['value'].values.tolist()\r\n",
        "occupied = df[df['title_field'] == 'Occupied Housing Units'].sort_values(by=['year'])['value'].values.tolist()\r\n",
        "total = df[df['title_field'] == 'Total Housing Units'].sort_values(by=['year'])['value'].values.tolist()\r\n",
        "year = df[df['title_field'] == 'Total Housing Units'].sort_values(by=['year'])['year'].values.tolist()\r\n",
        "Vacant = [round((vacant/total)*100,2) for vacant,total in zip(vacant,total)]\r\n",
        "occupied = [round((occupied/total)*100,2) for occupied, total in zip(occupied, total)]\r\n",
        "# creating pandas dataframe from lists.\r\n",
        "final_df = pd.DataFrame(list(zip(year,Vacant, occupied)), columns =['Year','Vacant %', 'Occupied %'])\r\n",
        "final_df"
      ],
=======
      ]
    },
    {
      "cell_type": "markdown",
      "metadata": {
        "id": "Ad8zPwALRBC3"
      },
      "source": [
        "### Q 4.2"
      ]
    },
    {
      "cell_type": "code",
      "metadata": {
        "id": "inhlOBnAM7kr",
        "outputId": "2a66b04b-329d-4782-87f9-ae18239e38d1",
        "colab": {
          "base_uri": "https://localhost:8080/",
          "height": 265
        }
      },
      "source": [
        "vacant = df[df['title_field'] == 'Vacant Housing Units'].sort_values(by=['year'])['value'].values.tolist()\n",
        "occupied = df[df['title_field'] == 'Occupied Housing Units'].sort_values(by=['year'])['value'].values.tolist()\n",
        "total = df[df['title_field'] == 'Total Housing Units'].sort_values(by=['year'])['value'].values.tolist()\n",
        "year = df[df['title_field'] == 'Total Housing Units'].sort_values(by=['year'])['year'].values.tolist()\n",
        "Vacant = [round((vacant/total)*100,2) for vacant,total in zip(vacant,total)]\n",
        "occupied = [round((occupied/total)*100,2) for occupied, total in zip(occupied, total)]\n",
        "final_df = pd.DataFrame(list(zip(year,Vacant, occupied)), columns =['Year','Vacant %', 'Occupied %'])\n",
        "final_df"
      ],
      "execution_count": 7,
>>>>>>> 486b37bcea2174d8d5da15bd27390d14039d8875
      "outputs": [
        {
          "output_type": "execute_result",
          "data": {
            "text/html": [
              "<div>\n",
              "<style scoped>\n",
              "    .dataframe tbody tr th:only-of-type {\n",
              "        vertical-align: middle;\n",
              "    }\n",
              "\n",
              "    .dataframe tbody tr th {\n",
              "        vertical-align: top;\n",
              "    }\n",
              "\n",
              "    .dataframe thead th {\n",
              "        text-align: right;\n",
              "    }\n",
              "</style>\n",
              "<table border=\"1\" class=\"dataframe\">\n",
              "  <thead>\n",
              "    <tr style=\"text-align: right;\">\n",
              "      <th></th>\n",
              "      <th>Year</th>\n",
              "      <th>Vacant %</th>\n",
              "      <th>Occupied %</th>\n",
              "    </tr>\n",
              "  </thead>\n",
              "  <tbody>\n",
              "    <tr>\n",
              "      <th>0</th>\n",
              "      <td>2008</td>\n",
              "      <td>10.88</td>\n",
              "      <td>89.12</td>\n",
              "    </tr>\n",
              "    <tr>\n",
              "      <th>1</th>\n",
              "      <td>2009</td>\n",
              "      <td>9.07</td>\n",
              "      <td>90.93</td>\n",
              "    </tr>\n",
              "    <tr>\n",
              "      <th>2</th>\n",
              "      <td>2010</td>\n",
              "      <td>8.14</td>\n",
              "      <td>91.86</td>\n",
              "    </tr>\n",
              "    <tr>\n",
              "      <th>3</th>\n",
              "      <td>2011</td>\n",
              "      <td>9.38</td>\n",
              "      <td>90.62</td>\n",
              "    </tr>\n",
              "    <tr>\n",
              "      <th>4</th>\n",
              "      <td>2012</td>\n",
              "      <td>6.68</td>\n",
              "      <td>93.32</td>\n",
              "    </tr>\n",
              "    <tr>\n",
              "      <th>5</th>\n",
              "      <td>2013</td>\n",
              "      <td>8.80</td>\n",
              "      <td>91.20</td>\n",
              "    </tr>\n",
              "    <tr>\n",
              "      <th>6</th>\n",
              "      <td>2014</td>\n",
              "      <td>5.73</td>\n",
              "      <td>94.27</td>\n",
              "    </tr>\n",
              "  </tbody>\n",
              "</table>\n",
              "</div>"
            ],
            "text/plain": [
              "   Year  Vacant %  Occupied %\n",
              "0  2008     10.88       89.12\n",
              "1  2009      9.07       90.93\n",
              "2  2010      8.14       91.86\n",
              "3  2011      9.38       90.62\n",
              "4  2012      6.68       93.32\n",
              "5  2013      8.80       91.20\n",
              "6  2014      5.73       94.27"
            ]
          },
          "metadata": {},
          "execution_count": 7
        }
<<<<<<< HEAD
      ],
      "metadata": {
        "id": "inhlOBnAM7kr",
        "outputId": "2a66b04b-329d-4782-87f9-ae18239e38d1",
        "colab": {
          "base_uri": "https://localhost:8080/",
          "height": 265
        }
      }
    },
    {
      "cell_type": "markdown",
      "source": [
        "### Q 4.3"
      ],
      "metadata": {
        "id": "VLzDQzSDRC78"
      }
    },
    {
      "cell_type": "code",
      "execution_count": 8,
      "source": [
        "df_vacant = df[df['title_field'] == 'Vacant Housing Units']\r\n",
        "df_occupied = df[df['title_field'] == 'Occupied Housing Units']\r\n",
        "max_df = pd.concat([df_occupied[df_occupied['value'] == df_occupied['value'].max()],df_vacant[df_vacant['value'] == df_vacant['value'].max()]])\r\n",
        "(max_df[['title_field','year','value']])"
      ],
=======
      ]
    },
    {
      "cell_type": "markdown",
      "metadata": {
        "id": "VLzDQzSDRC78"
      },
      "source": [
        "### Q 4.3"
      ]
    },
    {
      "cell_type": "code",
      "metadata": {
        "id": "Jmn2rNc3M7r5",
        "outputId": "de7116ef-03d5-4322-adbc-8600a4ad2205",
        "colab": {
          "base_uri": "https://localhost:8080/",
          "height": 110
        }
      },
      "source": [
        "df_vacant = df[df['title_field'] == 'Vacant Housing Units']\n",
        "df_occupied = df[df['title_field'] == 'Occupied Housing Units']\n",
        "max_df = pd.concat([df_occupied[df_occupied['value'] == df_occupied['value'].max()],df_vacant[df_vacant['value'] == df_vacant['value'].max()]])\n",
        "(max_df[['title_field','year','value']])"
      ],
      "execution_count": 8,
>>>>>>> 486b37bcea2174d8d5da15bd27390d14039d8875
      "outputs": [
        {
          "output_type": "execute_result",
          "data": {
            "text/html": [
              "<div>\n",
              "<style scoped>\n",
              "    .dataframe tbody tr th:only-of-type {\n",
              "        vertical-align: middle;\n",
              "    }\n",
              "\n",
              "    .dataframe tbody tr th {\n",
              "        vertical-align: top;\n",
              "    }\n",
              "\n",
              "    .dataframe thead th {\n",
              "        text-align: right;\n",
              "    }\n",
              "</style>\n",
              "<table border=\"1\" class=\"dataframe\">\n",
              "  <thead>\n",
              "    <tr style=\"text-align: right;\">\n",
              "      <th></th>\n",
              "      <th>title_field</th>\n",
              "      <th>year</th>\n",
              "      <th>value</th>\n",
              "    </tr>\n",
              "  </thead>\n",
              "  <tbody>\n",
              "    <tr>\n",
              "      <th>2</th>\n",
              "      <td>Occupied Housing Units</td>\n",
              "      <td>2014</td>\n",
              "      <td>46295</td>\n",
              "    </tr>\n",
              "    <tr>\n",
              "      <th>19</th>\n",
              "      <td>Vacant Housing Units</td>\n",
              "      <td>2008</td>\n",
              "      <td>4483</td>\n",
              "    </tr>\n",
              "  </tbody>\n",
              "</table>\n",
              "</div>"
            ],
            "text/plain": [
              "               title_field  year  value\n",
              "2   Occupied Housing Units  2014  46295\n",
              "19    Vacant Housing Units  2008   4483"
            ]
          },
          "metadata": {},
          "execution_count": 8
        }
<<<<<<< HEAD
      ],
      "metadata": {
        "id": "Jmn2rNc3M7r5",
        "outputId": "de7116ef-03d5-4322-adbc-8600a4ad2205",
        "colab": {
          "base_uri": "https://localhost:8080/",
          "height": 110
        }
      }
    },
    {
      "cell_type": "markdown",
      "source": [
        "### Q 4.4"
      ],
      "metadata": {
        "id": "XarzQTY4RE3W"
      }
    },
    {
      "cell_type": "code",
      "execution_count": 9,
      "source": [
        "# calculating harmonic mean.\r\n",
        "from scipy.stats import hmean\r\n",
        "print(\"Harmonic Mean\",hmean(total))"
      ],
=======
      ]
    },
    {
      "cell_type": "markdown",
      "metadata": {
        "id": "XarzQTY4RE3W"
      },
      "source": [
        "### Q 4.4"
      ]
    },
    {
      "cell_type": "code",
      "metadata": {
        "id": "qhHDw4YSM7vk",
        "outputId": "fdd9acef-2d08-4211-a4c7-5b8eb2418569",
        "colab": {
          "base_uri": "https://localhost:8080/"
        }
      },
      "source": [
        "from scipy.stats import hmean\n",
        "print(\"Harmonic Mean\",hmean(total))"
      ],
      "execution_count": 9,
>>>>>>> 486b37bcea2174d8d5da15bd27390d14039d8875
      "outputs": [
        {
          "output_type": "stream",
          "name": "stdout",
          "text": [
            "Harmonic Mean 44398.28543969185\n"
          ]
        }
<<<<<<< HEAD
      ],
      "metadata": {
        "id": "qhHDw4YSM7vk",
        "outputId": "fdd9acef-2d08-4211-a4c7-5b8eb2418569",
        "colab": {
          "base_uri": "https://localhost:8080/"
        }
      }
=======
      ]
>>>>>>> 486b37bcea2174d8d5da15bd27390d14039d8875
    }
  ]
}