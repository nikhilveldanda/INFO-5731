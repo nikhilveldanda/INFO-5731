{
"cells": [
{
"cell_type": "markdown",
"id": "d12c5839",
"metadata": {
"id": "d12c5839"
},
"source": [
"# Importing the necessary libraries"
]
},
{
"cell_type": "code",
"execution_count": null,
"id": "5103eeeb",
"metadata": {
"id": "5103eeeb"
},
"outputs": [],
"source": [
"import warnings\n",
"warnings.filterwarnings('ignore')\n",
"import pandas as pd\n",
"from zipfile import ZipFile\n",
"# !pip install plotly\n",
"import plotly.graph_objects as go\n",
"import numpy as np\n",
"import matplotlib.pyplot as plt\n",
"import datetime as dt\n",
"import seaborn as sns\n",
"from sklearn.preprocessing import StandardScaler\n",
"from sklearn.preprocessing import RobustScaler\n",
"from sklearn.cluster import KMeans\n",
"import plotnine as pn\n",
"import plydata.cat_tools as cat\n",
"# machine learning\n",
"from xgboost import XGBClassifier, XGBRegressor\n",
"from sklearn.model_selection import cross_val_score, GridSearchCV\n",
"from sklearn.linear_model import LinearRegression\n",
"from sklearn.preprocessing import StandardScaler\n",
"from sklearn.ensemble import RandomForestRegressor\n",
"from sklearn.linear_model import LogisticRegression\n",
"from sklearn.ensemble import RandomForestClassifier\n",
"# Importing the lifetimes package\n",
"import lifetimes\n",
"from sklearn.metrics import mean_absolute_error"
]
},
{
"cell_type": "markdown",
"id": "821eab4a",
"metadata": {
"id": "821eab4a"
},
"source": [
"# Loading the Data"
]
},
{
"cell_type": "code",
"execution_count": null,
"id": "cf7e86e2",
"metadata": {
"id": "cf7e86e2",
"outputId": "f28f14d6-5e3d-4577-a7fb-e2ac9eefa9cf"
},
"outputs": [],
"source": [
"# Laoding the data into a dataframe.\n",
"CDNOW_DATA = pd.read_csv(\"Data/CDNOW_master.txt\", sep='\\s+')\n",
"CDNOW_DATA.shape"
]
},
{
"cell_type": "code",
"execution_count": null,
"id": "3c40e999",
"metadata": {
"id": "3c40e999",
"outputId": "f367fdcd-865a-42da-e51e-527dc21719b3"
},
"outputs": [],
"source": [
"CDNOW_DATA.head() # Looking at the top 5 rows of the dataframe."
]
},
{
"cell_type": "markdown",
"id": "c7ba71a6",
"metadata": {
"id": "c7ba71a6"
},
"source": [
"# Data Cleaning"
]
},
{
"cell_type": "code",
"execution_count": null,
"id": "4e496cdb",
"metadata": {
"id": "4e496cdb",
"outputId": "7b6fd825-58f4-4367-f1dc-0eb6e3a96633"
},
"outputs": [],
"source": [
"CDNOW_DATA.info() # info() gives us the number of non null values and the data type of each column."
]
},
{
"cell_type": "code",
"execution_count": null,
"id": "138c68af",
"metadata": {
"id": "138c68af"
},
"outputs": [],
"source": [
"CDNOW_DATA.columns = [\"CustomerID\", \"TransactionDate\", \"UnitsSold\", \"Price\"] # Assigning the column names to the data frame."
]
},
{
"cell_type": "code",
"execution_count": null,
"id": "36fd7cb0",
"metadata": {
"id": "36fd7cb0"
},
"outputs": [],
"source": [
"CDNOW_DATA[\"CustomerID\"] = CDNOW_DATA[\"CustomerID\"].astype(str) # changing the datatype of the CustomerID to string."
]
},
{
"cell_type": "code",
"execution_count": null,
"id": "3ea9335f",
"metadata": {
"id": "3ea9335f"
},
"outputs": [],
"source": [
"# changing the datatye of the TransactionDate column to datetime.\n",
"CDNOW_DATA['TransactionDate'] = CDNOW_DATA['TransactionDate'].apply(lambda x: pd.to_datetime(str(x), format='%Y-%m-%d'))"
]
},
{
"cell_type": "code",
"execution_count": null,
"id": "29eacd85",
"metadata": {
"id": "29eacd85",
"outputId": "e4daf256-b611-464b-cf72-0920df4b6588"
},
"outputs": [],
"source": [
"CDNOW_DATA.head()  # Looking at the top 5 rows of the dataframe."
]
},
{
"cell_type": "markdown",
"id": "b0d3a06f",
"metadata": {
"id": "b0d3a06f"
},
"source": [
"# Descriptive Analytics"
]
},
{
"cell_type": "code",
"execution_count": null,
"id": "75c977ce",
"metadata": {
"id": "75c977ce",
"outputId": "ca5fee9f-3d1e-47dd-8fe4-fd50aa7bd8e6",
"scrolled": true
},
"outputs": [],
"source": [
"CDNOW_DATA.describe() # looking at the min, max, mean, standard deviation and quartile values of the numerical values."
]
},
{
"cell_type": "code",
"execution_count": null,
"id": "a36a67be",
"metadata": {
"id": "a36a67be",
"outputId": "46686a7a-9ecb-4383-8a0c-eca1cd918dd4"
},
"outputs": [],
"source": [
"# First Transaction Date\n",
"CDNOW_DATA[\"TransactionDate\"].min()"
]
},
{
"cell_type": "code",
"execution_count": null,
"id": "7e3122d9",
"metadata": {
"id": "7e3122d9",
"outputId": "87ff0b2b-b71a-42be-c5d1-9d7455b5702c"
},
"outputs": [],
"source": [
"# Last Transaction Date\n",
"CDNOW_DATA[\"TransactionDate\"].max()"
]
},
{
"cell_type": "code",
"execution_count": null,
"id": "09669eb3",
"metadata": {
"id": "09669eb3",
"outputId": "4fd036d2-9239-485c-b148-8dda4136d99f"
},
"outputs": [],
"source": [
"# NUmber of Unique Customers\n",
"CDNOW_DATA[\"CustomerID\"].nunique()"
]
},
{
"cell_type": "code",
"execution_count": null,
"id": "b8a2b963",
"metadata": {
"id": "b8a2b963",
"outputId": "5fc54079-db37-48b0-9926-495d18d413ec"
},
"outputs": [],
"source": [
"# Total Revenue.\n",
"CDNOW_DATA[\"Price\"].sum()"
]
},
{
"cell_type": "markdown",
"id": "567e5b2c",
"metadata": {
"id": "567e5b2c"
},
"source": [
"### Customers with highest number of Transactions"
]
},
{
"cell_type": "code",
"execution_count": null,
"id": "e47177d0",
"metadata": {
"id": "e47177d0",
"outputId": "1bf2d636-5077-421d-ae5a-ff1259d5ea09"
},
"outputs": [],
"source": [
"# Grouping the data to create a dataframe with CustomerID and number of transactions that customer made.\n",
"NO_OF_TRANSACTIONS = CDNOW_DATA.groupby(\"CustomerID\")[\"UnitsSold\"].count() \\\n",
"                                        .reset_index().sort_values(\"UnitsSold\", ascending = False) \\\n",
"                                        .rename(columns = {\"UnitsSold\" : \"NO_OF_TRANSACTIONS\"}) \\\n",
"                                        .reset_index(drop = True) \n",
"\n",
"\n",
"TOP_10_HIGHEST_TRANSACTIONS = NO_OF_TRANSACTIONS.iloc[:10, :2] # slicing to get just the 10 rows worth of data.\n",
"TOP_10_HIGHEST_TRANSACTIONS[\"CustomerID\"] = TOP_10_HIGHEST_TRANSACTIONS[\"CustomerID\"].astype(\"str\")\n",
"TOP_10_HIGHEST_TRANSACTIONS.shape"
]
},
{
"cell_type": "code",
"execution_count": null,
"id": "7337b3ba",
"metadata": {
"id": "7337b3ba",
"outputId": "b71fabeb-b048-4c0f-8e7a-f0d1810518e9",
"scrolled": true
},
"outputs": [],
"source": [
"# plt.bar() function is used for plotting the bar plot.\n",
"# plt.ylabel() function is used for labelling the Y-axis.\n",
"# plt.xlabel() function is used for labelling the X-axis.\n",
"# plt.title() function is used for setting the title for the plot.\n",
"# plt.legend() function is used for setting the legend for the plot\n",
"# plt.show() function is used for displaying the plot.\n",
"\n",
"        \n",
"#declaring the legend for the plot.\n",
"colors = {'CUSTOMER WITH HIGHEST NUMBER OF TRANSACTIONS':'green'}         \n",
"labels = list(colors.keys())\n",
"handles = [plt.Rectangle((0,0),1,1, color=colors[label]) for label in labels]\n",
"plt.legend(handles, labels, bbox_to_anchor=(1.05, 1))\n",
"\n",
"clrs1=[]\n",
"# declaring the colors of the bar plot's bars.\n",
"for i in TOP_10_HIGHEST_TRANSACTIONS['NO_OF_TRANSACTIONS']:\n",
"    if(i==max(TOP_10_HIGHEST_TRANSACTIONS['NO_OF_TRANSACTIONS'])):\n",
"        clrs1.append('green')\n",
"    else:\n",
"        clrs1.append('blue')\n",
"        \n",
"\n",
"#Plot\n",
"bar_plot=plt.bar(TOP_10_HIGHEST_TRANSACTIONS['CustomerID'], TOP_10_HIGHEST_TRANSACTIONS['NO_OF_TRANSACTIONS'], color=clrs1)\n",
"plt.title('10 CUSTOMERS WITH HIGHEST TRANSACTIONS', pad =25,fontweight='bold', fontname=\"Times New Roman\", style='italic')\n",
"plt.ylabel('NUMBER OF TRANSACTIONS', fontweight='bold', color = 'Black', verticalalignment='center', labelpad=30, fontname=\"Times New Roman\", style='italic') # ylabel function is used for labelling the Y-axis.\n",
"plt.xlabel('CUSTOMER ID',fontweight='bold', color = 'Black', horizontalalignment='center', labelpad=30, fontname=\"Times New Roman\", style='italic') # xlabel function is used for labelling the X-axis.\n",
"plt.xticks(rotation='vertical')\n",
"\n",
"\n",
"plt.show()"
]
},
{
"cell_type": "code",
"execution_count": null,
"id": "caba4c93",
"metadata": {
"id": "caba4c93",
"outputId": "d1638afd-71e8-4694-8671-87ca9ee0c442"
},
"outputs": [],
"source": [
"MONTHLY_INCOME = pd.DataFrame(CDNOW_DATA.set_index('TransactionDate')[\"Price\"].resample(\"M\").sum())\n",
"MONTHLY_INCOME.head()"
]
},
{
"cell_type": "code",
"execution_count": null,
"id": "7a68e941",
"metadata": {
"id": "7a68e941",
"outputId": "6cf942a2-1c7b-4d80-93f6-fb5c6889030f"
},
"outputs": [],
"source": [
"# Plotting the bar plot of Transaction_data and Price.\n",
"\n",
"fig = go.Figure([go.Scatter(x=MONTHLY_INCOME.index, y=MONTHLY_INCOME['Price'])])\n",
"fig.update_layout(\n",
"    title=\"MONTHLY INCOME\",\n",
"    xaxis_title=\"DATE\",\n",
"    yaxis_title=\"INCOME\",\n",
"    font=dict(\n",
"        family=\"Courier New, monospace\",\n",
"        size=18,\n",
"        color=\"#7f7f7f\"\n",
"    ),\n",
")\n",
"fig.show()\n",
"# Reference:\n",
"# https://plotly.com/python/time-series/\n",
"# https://plotly.com/python/reference/layout/"
]
},
{
"cell_type": "markdown",
"id": "d60f4a5d",
"metadata": {
"id": "d60f4a5d"
},
"source": [
"### Cohort Analysis"
]
},
{
"cell_type": "code",
"execution_count": null,
"id": "cc24b8c5",
"metadata": {
"id": "cc24b8c5",
"outputId": "2f183d39-43f5-4b90-9959-08b1593a0afc"
},
"outputs": [],
"source": [
"# Customers first transaction. Considering the first transaction of the customers as a subset to perfrom our analysis.\n",
"CDNOW_FIRST_TRANSACTION = CDNOW_DATA.sort_values([\"CustomerID\", \"TransactionDate\"]) \\\n",
"                               .groupby(\"CustomerID\").first()\n",
"CDNOW_FIRST_TRANSACTION.shape"
]
},
{
"cell_type": "code",
"execution_count": null,
"id": "a338bfe7",
"metadata": {
"id": "a338bfe7",
"outputId": "740268fc-3cf9-4cba-cb8c-51fd91719362"
},
"outputs": [],
"source": [
"# first new customer.\n",
"CDNOW_FIRST_TRANSACTION[\"TransactionDate\"].min()"
]
},
{
"cell_type": "code",
"execution_count": null,
"id": "1108b2bd",
"metadata": {
"id": "1108b2bd",
"outputId": "65dc14ac-dfd8-4984-e140-eb42ae3412b6"
},
"outputs": [],
"source": [
"# last new customer\n",
"CDNOW_FIRST_TRANSACTION[\"TransactionDate\"].max()"
]
},
{
"cell_type": "code",
"execution_count": null,
"id": "fa6466b1",
"metadata": {
"id": "fa6466b1"
},
"outputs": [],
"source": [
"# GETTING THE UNIQUE CUSTOMERS ID's\n",
"IDs = CDNOW_DATA['CustomerID'].unique()\n",
"IDs_SAMPLE = IDs[0:10]"
]
},
{
"cell_type": "code",
"execution_count": null,
"id": "cdd35a7f",
"metadata": {
"id": "cdd35a7f",
"outputId": "b6b911d7-5967-467a-82d6-7eb5b6d831a4"
},
"outputs": [],
"source": [
"# Creating a subset of the dataset with ten unique customer IDs\n",
"CDNOW_SUBSET = CDNOW_DATA[CDNOW_DATA['CustomerID'].isin(IDs_SAMPLE)].groupby(['CustomerID', 'TransactionDate']).sum().reset_index()\n",
"CDNOW_SUBSET.head()"
]
},
{
"cell_type": "code",
"execution_count": null,
"id": "ba0c5bd1",
"metadata": {
"id": "ba0c5bd1",
"outputId": "b9e2dcb5-c5d9-46fe-d4d1-eac9cc5a5c19"
},
"outputs": [],
"source": [
"# Frequency plot of the ten unique customers, with the price and date of each transaction.\n",
"pn.ggplot(pn.aes('TransactionDate', 'Price', group = 'CustomerID'), data = CDNOW_SUBSET) + pn.geom_line() +pn.geom_point() +pn.facet_wrap('CustomerID') +pn.scale_x_date(date_breaks = '1 year', date_lables = '%Y')"
]
},
{
"cell_type": "markdown",
"id": "5df12156",
"metadata": {
"id": "5df12156"
},
"source": [
"# Customer Segmentation <br> <i> RFM analysis</i>"
]
},
{
"cell_type": "markdown",
"id": "75f988d7",
"metadata": {
"id": "75f988d7"
},
"source": [
"### Recency"
]
},
{
"cell_type": "code",
"execution_count": null,
"id": "290d3663",
"metadata": {
"id": "290d3663",
"outputId": "6fc51679-420a-45d4-9a7a-3f331d0e6541"
},
"outputs": [],
"source": [
"# MOST RECENT TRANSACTIONS OF THE CUSTOMERS \n",
"# RFM (\"R\": Recency)\n",
"\n",
"CDNOW_Recency = CDNOW_DATA.groupby('CustomerID', as_index=False)['TransactionDate'].max()\n",
"CDNOW_Recency.columns = ['CustomerID', 'LAST_TransactionDate']\n",
"RECENT_TransactionDate = CDNOW_Recency['LAST_TransactionDate'].max()\n",
"CDNOW_Recency['Recency'] = CDNOW_Recency['LAST_TransactionDate'].apply(lambda x: (RECENT_TransactionDate - x).days)\n",
"CDNOW_Recency.head()"
]
},
{
"cell_type": "code",
"execution_count": null,
"id": "5bf86c26",
"metadata": {
"id": "5bf86c26",
"outputId": "7b2488c5-4180-4131-960c-fa0134354b59"
},
"outputs": [],
"source": [
"CDNOW_Recency[\"Recency\"].describe() # Gives the min, max and mean values of the Recency."
]
},
{
"cell_type": "markdown",
"id": "97962190",
"metadata": {
"id": "97962190"
},
"source": [
"### Frequency"
]
},
{
"cell_type": "code",
"execution_count": null,
"id": "dd154344",
"metadata": {
"id": "dd154344",
"outputId": "f2fa4a81-5e41-41af-ac0e-f3a243a4f9d3"
},
"outputs": [],
"source": [
"# CALCULACTING THE Frequency OF THE CUSTOMERS\n",
"# RFM (\"F\": Frequency)\n",
"\n",
"CDNOW_Frequency = CDNOW_DATA.drop_duplicates().groupby('CustomerID', as_index=False)['TransactionDate'].count()\n",
"CDNOW_Frequency.columns = ['CustomerID', 'Frequency']\n",
"CDNOW_Frequency.head()"
]
},
{
"cell_type": "code",
"execution_count": null,
"id": "65f4d0ca",
"metadata": {
"id": "65f4d0ca",
"outputId": "8ce81943-b0c8-44e7-8217-61394027f2f4"
},
"outputs": [],
"source": [
"CDNOW_Frequency[\"Frequency\"].describe() # Gives the min, max and mean values of the Frequency."
]
},
{
"cell_type": "markdown",
"id": "4e12134d",
"metadata": {
"id": "4e12134d"
},
"source": [
"### Monetary"
]
},
{
"cell_type": "code",
"execution_count": null,
"id": "000ee2ab",
"metadata": {
"id": "000ee2ab",
"outputId": "12190c73-d447-4c98-925c-89c2923f471e"
},
"outputs": [],
"source": [
"# CALCULATING THE Monetary VALUE OF CUSTOMER SPEND ON PURCHASING CD's FROM THE CDNOW STORE.\n",
"# RFM (\"M\": Monetary)\n",
"\n",
"CDNOW_Monetary = CDNOW_DATA.groupby('CustomerID', as_index=False)['Price'].sum()\n",
"CDNOW_Monetary.columns = ['CustomerID', 'Monetary']\n",
"CDNOW_Monetary.head()"
]
},
{
"cell_type": "code",
"execution_count": null,
"id": "a6892d4a",
"metadata": {
"id": "a6892d4a",
"outputId": "9764dd9b-f5a8-4ebb-c131-c264cbbb5e1e"
},
"outputs": [],
"source": [
"CDNOW_Monetary[\"Monetary\"].describe() # Gives the min, max and mean values of the Monetary."
]
},
{
"cell_type": "markdown",
"id": "1e3320bf",
"metadata": {
"id": "1e3320bf"
},
"source": [
"### RFM"
]
},
{
"cell_type": "code",
"execution_count": null,
"id": "ca827284",
"metadata": {
"id": "ca827284",
"outputId": "de072cdb-bf70-4f7d-b60f-0a87b2a3c81f"
},
"outputs": [],
"source": [
"# MERGING Recency Frequency AND Monetary\n",
"CDNOW_RF = CDNOW_Recency.merge(CDNOW_Frequency, on='CustomerID')\n",
"CDNOW_RFM = CDNOW_RF.merge(CDNOW_Monetary, on='CustomerID').drop(columns='LAST_TransactionDate')\n",
"CDNOW_RFM.head()"
]
},
{
"cell_type": "code",
"execution_count": null,
"id": "c43c7fef",
"metadata": {
"id": "c43c7fef",
"outputId": "cd34c0dc-4fc7-400f-b976-fccaa9faead0"
},
"outputs": [],
"source": [
"plt.rcParams.update(plt.rcParamsDefault)\n",
"fig, axes = plt.subplots(1,3, figsize=(18, 5))\n",
"sns.distplot(CDNOW_RFM[\"Recency\"], ax = axes[0])\n",
"sns.distplot(CDNOW_RFM[\"Frequency\"], ax = axes[1])\n",
"sns.distplot(CDNOW_RFM[\"Monetary\"], ax = axes[2])\n",
"plt.show()\n",
"\n",
"# From the plots below we can see that the data has skewness and we need to normalize the data."
]
},
{
"cell_type": "code",
"execution_count": null,
"id": "bcf53a9e",
"metadata": {
"id": "bcf53a9e",
"outputId": "2cf499dd-b2c4-4312-bab8-e2b0998d2a26"
},
"outputs": [],
"source": [
"fig, axes = plt.subplots(1,3, figsize=(18, 5))\n",
"sns.boxplot(x = CDNOW_RFM[\"Recency\"], ax = axes[0])\n",
"sns.boxplot(x = CDNOW_RFM[\"Frequency\"], ax = axes[1])\n",
"sns.boxplot(x = CDNOW_RFM[\"Monetary\"], ax = axes[2])\n",
"plt.show()\n",
"# From looking at the plot below we say that the data has some outliers."
]
},
{
"cell_type": "markdown",
"id": "6f2a334b",
"metadata": {
"id": "6f2a334b"
},
"source": [
"### Robust Scaler"
]
},
{
"cell_type": "code",
"execution_count": null,
"id": "fcc99fdb",
"metadata": {
"id": "fcc99fdb"
},
"outputs": [],
"source": [
"# Normalizing the data using Robust Scalar to deal with the coutliers.\n",
"scaler = RobustScaler()\n",
"scaler.fit(CDNOW_RFM[['Recency', 'Frequency', 'Monetary']])\n",
"CDNOW_RFM[['Recency_NORM', 'Frequency_NORM', 'Monetary_NORM']] = scaler.transform(CDNOW_RFM[['Recency', 'Frequency', 'Monetary']])"
]
},
{
"cell_type": "code",
"execution_count": null,
"id": "594c8c82",
"metadata": {
"id": "594c8c82",
"outputId": "70bf4191-e9ec-43f1-efd4-4c736a663dc5"
},
"outputs": [],
"source": [
"fig, axes = plt.subplots(1,3, figsize=(18, 5))\n",
"sns.distplot(CDNOW_RFM[\"Recency_NORM\"], ax = axes[0])\n",
"sns.distplot(CDNOW_RFM[\"Frequency_NORM\"], ax = axes[1])\n",
"sns.distplot(CDNOW_RFM[\"Monetary_NORM\"], ax = axes[2])\n",
"plt.show()\n"
]
},
{
"cell_type": "markdown",
"id": "a3cf3627",
"metadata": {
"id": "a3cf3627"
},
"source": [
"### K-means for customer segmentation."
]
},
{
"cell_type": "code",
"execution_count": null,
"id": "6c61a00e",
"metadata": {
"id": "6c61a00e"
},
"outputs": [],
"source": [
"# Using the Unsupervised Learning to cluster the customers into segemets\n",
"\n",
"cluster_range = range( 1, 10 )\n",
"cluster_errors = {\"R_cluster_errors\":[], \"F_cluster_errors\":[], \"M_cluster_errors\":[]}\n",
"\n",
"# Identifing the optimal number of clusters using telbow curve.\n",
"for num_clusters in cluster_range:\n",
"    R_clusters = KMeans(num_clusters)\n",
"    F_clusters = KMeans(num_clusters)\n",
"    M_clusters = KMeans(num_clusters)\n",
"    R_clusters.fit(CDNOW_RFM[['Recency_NORM']])\n",
"    F_clusters.fit(CDNOW_RFM[['Frequency_NORM']])\n",
"    M_clusters.fit(CDNOW_RFM[['Monetary_NORM']])\n",
"    cluster_errors[\"R_cluster_errors\"].append(R_clusters.inertia_)\n",
"    cluster_errors[\"F_cluster_errors\"].append(F_clusters.inertia_)\n",
"    cluster_errors[\"M_cluster_errors\"].append(M_clusters.inertia_)\n",
"    "
]
},
{
"cell_type": "code",
"execution_count": null,
"id": "f5981113",
"metadata": {
"id": "f5981113"
},
"outputs": [],
"source": [
"# Creating a dataframe of the Cluster Errors to find the optimal Cluster threshold.\n",
"CLUSTER_ERRORS_DF = pd.DataFrame({\"NO_OF_CLUSTERS\":cluster_range, \"R_CLUSTER_ERRORS\": cluster_errors[\"R_cluster_errors\"], \n",
"                                  \"F_CLUSTER_ERRORS\": cluster_errors[\"F_cluster_errors\"], \n",
"                                 \"M_CLUSTER_ERRORS\": cluster_errors[\"M_cluster_errors\"]})"
]
},
{
"cell_type": "code",
"execution_count": null,
"id": "c200fb59",
"metadata": {
"id": "c200fb59",
"outputId": "487b830f-d4f7-4d46-e969-c0bc18378cd3"
},
"outputs": [],
"source": [
"CLUSTER_ERRORS_DF"
]
},
{
"cell_type": "code",
"execution_count": null,
"id": "e21faff7",
"metadata": {
"id": "e21faff7",
"outputId": "54a0f119-a40f-4074-d535-913de0fe3222"
},
"outputs": [],
"source": [
"# plotting the line graph to picture the elbow curve and determine the optimal number of clusters.\n",
"plt.rcParams.update(plt.rcParamsDefault)\n",
"fig, axes = plt.subplots(1,3, figsize=(18, 5))\n",
"axes[0].plot( CLUSTER_ERRORS_DF.NO_OF_CLUSTERS, CLUSTER_ERRORS_DF.R_CLUSTER_ERRORS, marker = \"o\", axes = axes[0])\n",
"axes[0].set_title(\"Recency\")\n",
"axes[0].set_xlabel(\"Number of clusters\")\n",
"axes[0].set_ylabel(\"Cluster Error\")\n",
"axes[1].plot( CLUSTER_ERRORS_DF.NO_OF_CLUSTERS, CLUSTER_ERRORS_DF.F_CLUSTER_ERRORS, marker = \"o\", axes = axes[1])\n",
"axes[1].set_title(\"Frequency\")\n",
"axes[1].set_xlabel(\"Number of clusters\")\n",
"axes[1].set_ylabel(\"Cluster Error\")\n",
"axes[2].plot( CLUSTER_ERRORS_DF.NO_OF_CLUSTERS, CLUSTER_ERRORS_DF.M_CLUSTER_ERRORS, marker = \"o\", axes = axes[2])\n",
"axes[2].set_title(\"Monetary\")\n",
"axes[2].set_xlabel(\"Number of clusters\")\n",
"axes[2].set_ylabel(\"Cluster Error\")\n",
"plt.subplots_adjust(left  = 0.05,\n",
"right = 0.9,\n",
"bottom = 0.1,\n",
"top = 0.9,\n",
"wspace = 0.2,\n",
"hspace = 1)\n",
"plt.show()\n",
"\n",
"# From the Elbow Curves below:\n",
"# FOR Recency_NORM optimal clusters = 3\n",
"# FOR Frequency_NORM optimal clusters = 4\n",
"# FOR Monetary_NORM optimal clusters = 4"
]
},
{
"cell_type": "markdown",
"id": "b0d75fd4",
"metadata": {
"id": "b0d75fd4"
},
"source": [
"### K-means"
]
},
{
"cell_type": "code",
"execution_count": null,
"id": "f24bf321",
"metadata": {
"id": "f24bf321"
},
"outputs": [],
"source": [
"# Creating the clusters.\n",
"\n",
"R_clusters_Optimized = KMeans(3, random_state=42)\n",
"F_clusters_Optimized = KMeans(4, random_state=42)\n",
"M_clusters_Optimized = KMeans(4, random_state=42)"
]
},
{
"cell_type": "code",
"execution_count": null,
"id": "e91ddce2",
"metadata": {
"id": "e91ddce2",
"outputId": "ed324b8a-8ad0-4f3e-e8e4-709f7133218c"
},
"outputs": [],
"source": [
"# fitting the data\n",
"R_clusters_Optimized.fit(CDNOW_RFM[['Recency_NORM']])\n",
"F_clusters_Optimized.fit(CDNOW_RFM[['Frequency_NORM']])\n",
"M_clusters_Optimized.fit(CDNOW_RFM[['Monetary_NORM']])"
]
},
{
"cell_type": "code",
"execution_count": null,
"id": "2ed4982b",
"metadata": {
"id": "2ed4982b"
},
"outputs": [],
"source": [
"# Storing the output/labels of the datapoints.\n",
"CDNOW_RFM[\"R_CLUSTER\"] = R_clusters_Optimized.labels_\n",
"CDNOW_RFM[\"F_CLUSTER\"] = F_clusters_Optimized.labels_\n",
"CDNOW_RFM[\"M_CLUSTER\"] = M_clusters_Optimized.labels_"
]
},
{
"cell_type": "code",
"execution_count": null,
"id": "d727045f",
"metadata": {
"id": "d727045f",
"outputId": "6fe7f9a1-8b8f-4c6e-e8e1-80cd2cf62d4d"
},
"outputs": [],
"source": [
"# Count plots to see the count of datapoints in each cluster.\n",
"sns.countplot(CDNOW_RFM[\"R_CLUSTER\"])\n",
"plt.show()"
]
},
{
"cell_type": "code",
"execution_count": null,
"id": "494e237f",
"metadata": {
"id": "494e237f",
"outputId": "84491b82-2b6d-4dec-d5b3-e871bdf9594e"
},
"outputs": [],
"source": [
"# Count plots to see the count of datapoints in each cluster.\n",
"sns.countplot(CDNOW_RFM[\"F_CLUSTER\"])\n",
"plt.show()"
]
},
{
"cell_type": "code",
"execution_count": null,
"id": "4a247ec4",
"metadata": {
"id": "4a247ec4",
"outputId": "e450a620-1599-4750-b7b9-3009280d0702"
},
"outputs": [],
"source": [
"# Count plots to see the count of datapoints in each cluster.\n",
"sns.countplot(CDNOW_RFM[\"M_CLUSTER\"])\n",
"plt.show()"
]
},
{
"cell_type": "code",
"execution_count": null,
"id": "76d2db75",
"metadata": {
"id": "76d2db75",
"outputId": "cfb0965c-5ddb-42ed-94c9-149a8f652027"
},
"outputs": [],
"source": [
"CDNOW_RFM.head() # looking at the cluster values."
]
},
{
"cell_type": "code",
"execution_count": null,
"id": "e7b97197",
"metadata": {
"id": "e7b97197",
"outputId": "e5ad1c6d-c9f2-411f-fb93-aefdbfcec70d"
},
"outputs": [],
"source": [
"# For a Customer to be a High-Value Customer, the customers:\n",
"# Recency should be low\n",
"# Frequency should be high\n",
"# Monetary Value should be high\n",
"CDNOW_RFM.sort_values('Recency_NORM', ascending = True, inplace = True)\n",
"CDNOW_RFM.sort_values('Frequency_NORM', ascending = False, inplace = True)\n",
"CDNOW_RFM.sort_values('Monetary_NORM', ascending = False, inplace = True)\n",
"CDNOW_RFM.head()"
]
},
{
"cell_type": "code",
"execution_count": null,
"id": "bc9edf7f",
"metadata": {
"id": "bc9edf7f"
},
"outputs": [],
"source": [
"# Creating the final cluster using the independent clusters.\n",
"CDNOW_RFM[\"FinalCluster\"] = CDNOW_RFM[\"R_CLUSTER\"] + CDNOW_RFM[\"F_CLUSTER\"] + CDNOW_RFM[\"M_CLUSTER\"]\n",
"CDNOW_RFM.reset_index(inplace = True, drop = True)"
]
},
{
"cell_type": "code",
"execution_count": null,
"id": "b12bd74a",
"metadata": {
"id": "b12bd74a",
"outputId": "51b415bc-7b94-408b-d979-fb7bbfe3e935"
},
"outputs": [],
"source": [
"CDNOW_RFM.head()"
]
},
{
"cell_type": "code",
"execution_count": null,
"id": "30d1d94e",
"metadata": {
"id": "30d1d94e",
"outputId": "b1e716f3-6d43-466e-fee1-30353856b52b"
},
"outputs": [],
"source": [
"CDNOW_RFM.tail()"
]
},
{
"cell_type": "code",
"execution_count": null,
"id": "b1698f37",
"metadata": {
"id": "b1698f37",
"outputId": "01db7142-372b-4b0e-b075-cb15c36d2401"
},
"outputs": [],
"source": [
"plt.plot(CDNOW_RFM.index, CDNOW_RFM[\"FinalCluster\"])\n",
"plt.show()"
]
},
{
"cell_type": "code",
"execution_count": null,
"id": "dad6a811",
"metadata": {
"id": "dad6a811"
},
"outputs": [],
"source": [
"# Naming the clusters.\n",
"\n",
"CDNOW_RFM['Segment'] = 'Lost Customer'\n",
"CDNOW_RFM.loc[CDNOW_RFM['FinalCluster']==1,'Segment'] = 'Low-Value' \n",
"CDNOW_RFM.loc[CDNOW_RFM['FinalCluster'] == 2,'Segment'] = 'Mid-Value'\n",
"CDNOW_RFM.loc[CDNOW_RFM['FinalCluster']>2,'Segment'] = 'High-Value'\n",
"CDNOW_RFM.loc[CDNOW_RFM['FinalCluster']>5,'Segment'] = 'Top Customer'"
]
},
{
"cell_type": "code",
"execution_count": null,
"id": "534a4eb8",
"metadata": {
"id": "534a4eb8",
"outputId": "fe86b68e-db04-406e-c027-ebdae0215cdc"
},
"outputs": [],
"source": [
"sns.countplot(CDNOW_RFM['Segment'], order= ['Lost Customer','Low-Value' ,'Mid-Value','High-Value','Top Customer'])\n",
"plt.title(\"RFM Segmentation of CDNOW dataset\")\n",
"plt.show()"
]
},
{
"cell_type": "code",
"execution_count": null,
"id": "62d2f115",
"metadata": {
"id": "62d2f115"
},
"outputs": [],
"source": [
"CDNOW_RFM.to_csv(\"CDNOW_CustomerSegmentation.csv\", index = False)"
]
},
{
"cell_type": "markdown",
"id": "6ce43141",
"metadata": {
"id": "6ce43141"
},
"source": [
"# Machine Learning Modelling"
]
},
{
"cell_type": "markdown",
"id": "a36ad7fe",
"metadata": {
"id": "a36ad7fe"
},
"source": [
"### Feature Engineering"
]
},
{
"cell_type": "code",
"execution_count": null,
"id": "ff8782b1",
"metadata": {
"id": "ff8782b1"
},
"outputs": [],
"source": [
"n_days = 90 # The no of days for which we want to predict CLV.\n",
"max_date = CDNOW_DATA['TransactionDate'].max() # Getting the max transaction date.\n",
"cutoff = max_date - pd.to_timedelta(n_days, unit = 'd') # Creating a cut off to exclude the last 90 days."
]
},
{
"cell_type": "code",
"execution_count": null,
"id": "198f092c",
"metadata": {
"id": "198f092c"
},
"outputs": [],
"source": [
"IN_DATA = CDNOW_DATA[CDNOW_DATA['TransactionDate'] <= cutoff] # Excluding the last 90 days.\n",
"OUT_DATA = CDNOW_DATA[CDNOW_DATA['TransactionDate'] > cutoff] # Just the last 90 days data."
]
},
{
"cell_type": "code",
"execution_count": null,
"id": "3a63b111",
"metadata": {
"id": "3a63b111",
"outputId": "e590ffdd-18bc-4686-e232-936d4d142d5b"
},
"outputs": [],
"source": [
"# making targets from out data\n",
"TARGET_DATA = OUT_DATA.drop('UnitsSold', axis = 1).groupby('CustomerID').sum().rename({'Price':'spend_90_total'}, axis = 1).assign(spend_90_flag = 1)\n",
"TARGET_DATA.head()"
]
},
{
"cell_type": "code",
"execution_count": null,
"id": "a5631b82",
"metadata": {
"id": "a5631b82"
},
"outputs": [],
"source": [
"# make recency (date) features from in data\n",
"max_date = IN_DATA['TransactionDate'].max()"
]
},
{
"cell_type": "code",
"execution_count": null,
"id": "4e003aa5",
"metadata": {
"id": "4e003aa5",
"outputId": "948cb29a-fbbe-4dbc-afaa-d34d51cc1741"
},
"outputs": [],
"source": [
"# Getting the recency data to include that as feature for ML modelling\n",
"recency_features_df = IN_DATA[['CustomerID', 'TransactionDate']].groupby('CustomerID').apply(lambda x: (x['TransactionDate'].max() - max_date)/ pd.to_timedelta(1, 'day')).to_frame().set_axis(['recency'], axis = 1)\n",
"recency_features_df.head()"
]
},
{
"cell_type": "code",
"execution_count": null,
"id": "c93911e0",
"metadata": {
"id": "c93911e0",
"outputId": "73140ad7-3ae9-4cb3-ac6f-9f8117a7c3bd"
},
"outputs": [],
"source": [
"# make frequency (count features from in data)\n",
"frequency_features_df = IN_DATA[['CustomerID', 'TransactionDate']].groupby('CustomerID').count().set_axis(['frequency'], axis = 1)\n",
"frequency_features_df.head()"
]
},
{
"cell_type": "code",
"execution_count": null,
"id": "718923dc",
"metadata": {
"id": "718923dc",
"outputId": "d0732147-d78e-4399-f9e3-904d4c1d33ff"
},
"outputs": [],
"source": [
"# make price (monitery features from in data)\n",
"price_features_df = IN_DATA.groupby('CustomerID').aggregate({'Price':['sum', 'mean']}).set_axis(['price_sum', 'price_mean'], axis = 1)\n",
"price_features_df.head()"
]
},
{
"cell_type": "code",
"execution_count": null,
"id": "bd632e5d",
"metadata": {
"id": "bd632e5d",
"outputId": "d7a4a903-178f-4fb2-9015-8d58976659e3"
},
"outputs": [],
"source": [
"# combine features\n",
"features_df = pd.concat([recency_features_df, frequency_features_df, price_features_df], axis = 1).merge(TARGET_DATA, left_index = True, right_index = True, how = 'left').fillna(0)\n",
"features_df.head()"
]
},
{
"cell_type": "markdown",
"id": "60f2aaa3",
"metadata": {
"id": "60f2aaa3"
},
"source": [
"### Regression\n",
"> How much will the customers spend in the next 90 days?"
]
},
{
"cell_type": "markdown",
"id": "b8d78f26",
"metadata": {
"id": "b8d78f26"
},
"source": [
"### XGBOOST"
]
},
{
"cell_type": "code",
"execution_count": null,
"id": "8a4f6fef",
"metadata": {
"id": "8a4f6fef"
},
"outputs": [],
"source": [
"X = features_df[['recency', 'frequency', 'price_sum', 'price_mean']]\n",
"# next 90 days spend prediction\n",
"y_spend = features_df['spend_90_total']"
]
},
{
"cell_type": "code",
"execution_count": null,
"id": "8cbddbf8",
"metadata": {
"id": "8cbddbf8"
},
"outputs": [],
"source": [
"# Model\n",
"xgb_reg_spec = XGBRegressor(objective='reg:squarederror', random_state=123)"
]
},
{
"cell_type": "code",
"execution_count": null,
"id": "08f0c3e9",
"metadata": {
"id": "08f0c3e9"
},
"outputs": [],
"source": [
"# Creating a GridSearchCV to tune the hyperparameters\n",
"xgb_reg_model =GridSearchCV(estimator=xgb_reg_spec, param_grid = dict(learning_rate = [0.01, 0.1, 0.3, 0.5]), scoring='neg_mean_absolute_error', cv = 5) "
]
},
{
"cell_type": "code",
"execution_count": null,
"id": "b9e336e7",
"metadata": {
"id": "b9e336e7",
"outputId": "db229aa2-c100-41f2-ac6e-3d3fb999c6be"
},
"outputs": [],
"source": [
"# Fitting the Model\n",
"xgb_reg_model.fit(X, y_spend)"
]
},
{
"cell_type": "code",
"execution_count": null,
"id": "54ba46ce",
"metadata": {
"id": "54ba46ce",
"outputId": "c4037815-50ab-45b0-fdd5-10a760d9f1fa"
},
"outputs": [],
"source": [
"xgb_reg_model.best_score_ # NAE of the best parameters model."
]
},
{
"cell_type": "code",
"execution_count": null,
"id": "b8599d8a",
"metadata": {
"id": "b8599d8a",
"outputId": "062f9d33-4b97-4068-dce0-8c1e8a2f1a5c"
},
"outputs": [],
"source": [
"xgb_reg_model.best_params_ # best Hyperparameter value"
]
},
{
"cell_type": "code",
"execution_count": null,
"id": "6bbae6e9",
"metadata": {
"id": "6bbae6e9"
},
"outputs": [],
"source": [
"predictions_xgb_reg_model = xgb_reg_model.predict(X) # Prediction"
]
},
{
"cell_type": "code",
"execution_count": null,
"id": "56afb1c6",
"metadata": {
"id": "56afb1c6",
"outputId": "44586716-31d6-4cd0-e070-39986b4dbc25"
},
"outputs": [],
"source": [
"# Merging the predictions to the data.\n",
"XGB_PRED_DATA = pd.DataFrame({\"prediction_xgb\" : predictions_xgb_reg_model.tolist()}).merge(X.reset_index(),left_index=True, right_index=True)\n",
"XGB_PRED_DATA.head()"
]
},
{
"cell_type": "code",
"execution_count": null,
"id": "78b00819",
"metadata": {
"id": "78b00819"
},
"outputs": [],
"source": [
"XGB_PRED_DATA.to_csv(\"XGB_reg_prediction.csv\") # Writing the predictions to a csv"
]
},
{
"cell_type": "markdown",
"id": "1fb48afb",
"metadata": {
"id": "1fb48afb"
},
"source": [
"### Linear Regression"
]
},
{
"cell_type": "code",
"execution_count": null,
"id": "64a7afc5",
"metadata": {
"id": "64a7afc5"
},
"outputs": [],
"source": [
"lr = LinearRegression() # Model"
]
},
{
"cell_type": "code",
"execution_count": null,
"id": "3aaf4f80",
"metadata": {
"id": "3aaf4f80",
"outputId": "58742133-ecca-46f9-acb5-047c6b00b34c"
},
"outputs": [],
"source": [
"parameters = {'fit_intercept':[True,False],  'copy_X':[True, False]} # Hyper parameters.\n",
"lr_reg_model = GridSearchCV(lr,parameters, cv=5, scoring='neg_mean_absolute_error')\n",
"lr_reg_model.fit(X, y_spend)"
]
},
{
"cell_type": "code",
"execution_count": null,
"id": "ca55c664",
"metadata": {
"id": "ca55c664",
"outputId": "f3a8ccbf-43fc-4a38-a5b6-5e7280660c83"
},
"outputs": [],
"source": [
"lr_reg_model.best_score_ # NAE of the best parameters model."
]
},
{
"cell_type": "code",
"execution_count": null,
"id": "1455bd09",
"metadata": {
"id": "1455bd09",
"outputId": "1afc8aa1-c72d-46bd-d2f0-b414494ea7aa"
},
"outputs": [],
"source": [
"lr_reg_model.best_params_ # best Hyperparameter value"
]
},
{
"cell_type": "code",
"execution_count": null,
"id": "33a64f39",
"metadata": {
"id": "33a64f39"
},
"outputs": [],
"source": [
"predictions_lr_reg_model = lr_reg_model.predict(X) # Prediction"
]
},
{
"cell_type": "code",
"execution_count": null,
"id": "1b1dd6cc",
"metadata": {
"id": "1b1dd6cc"
},
"outputs": [],
"source": [
"# Merging the prediction to the X data.\n",
"LINEAR_REGRESSION_PRED_DATA = pd.DataFrame({\"prediction_lr\" : predictions_lr_reg_model.tolist()}).merge(X.reset_index(),left_index=True, right_index=True)"
]
},
{
"cell_type": "code",
"execution_count": null,
"id": "819a6d8a",
"metadata": {
"id": "819a6d8a"
},
"outputs": [],
"source": [
"LINEAR_REGRESSION_PRED_DATA.to_csv(\"lr_reg_prediction.csv\") # Predictions to CSV"
]
},
{
"cell_type": "markdown",
"id": "51b7a4ed",
"metadata": {
"id": "51b7a4ed"
},
"source": [
"# Random Forest Regression"
]
},
{
"cell_type": "code",
"execution_count": null,
"id": "7d2cbf20",
"metadata": {
"id": "7d2cbf20"
},
"outputs": [],
"source": [
"# Hyper Parameters\n",
"param_grid = dict(n_estimators = [10, 20, 50, 100, 500, 1000], max_depth = [2, 5], max_features = ['auto', 'sqrt', 'log2'])"
]
},
{
"cell_type": "code",
"execution_count": null,
"id": "bc94ec65",
"metadata": {
"id": "bc94ec65"
},
"outputs": [],
"source": [
"rf = RandomForestRegressor() # model\n",
"rf_regressor =GridSearchCV(estimator=rf, param_grid = param_grid, scoring='neg_mean_absolute_error', refit= True, cv = 5) "
]
},
{
"cell_type": "code",
"execution_count": null,
"id": "cf659104",
"metadata": {
"id": "cf659104",
"outputId": "4e8bdf88-5959-4e37-e61c-f98945af6dab"
},
"outputs": [],
"source": [
"rf_regressor.fit(X, y_spend) #fitting the data"
]
},
{
"cell_type": "code",
"execution_count": null,
"id": "d12afae2",
"metadata": {
"id": "d12afae2",
"outputId": "984cb001-24f7-4820-a3c6-4fa48684e557"
},
"outputs": [],
"source": [
"rf_regressor.best_score_ # NAE of the best model."
]
},
{
"cell_type": "code",
"execution_count": null,
"id": "68be9165",
"metadata": {
"id": "68be9165",
"outputId": "ce2ef1ba-1fb9-4673-f1f3-4dd6399998bd"
},
"outputs": [],
"source": [
"rf_regressor.best_params_ # Best hyper parameters."
]
},
{
"cell_type": "code",
"execution_count": null,
"id": "8d07cec6",
"metadata": {
"id": "8d07cec6",
"outputId": "af5a6e5b-4489-42e8-d3eb-d91667e813e4"
},
"outputs": [],
"source": [
"rf_regressor.best_estimator_"
]
},
{
"cell_type": "code",
"execution_count": null,
"id": "d9089aa4",
"metadata": {
"id": "d9089aa4"
},
"outputs": [],
"source": [
"predictions_rf_reg_model = rf_regressor.predict(X) # Prediction"
]
},
{
"cell_type": "code",
"execution_count": null,
"id": "cc27e4b5",
"metadata": {
"id": "cc27e4b5"
},
"outputs": [],
"source": [
"# Mergeing the prediction with X data\n",
"RF_REGRESSION_PRED_DATA = pd.DataFrame({\"prediction_rf\" : predictions_rf_reg_model.tolist()}).merge(X.reset_index(),left_index=True, right_index=True)"
]
},
{
"cell_type": "code",
"execution_count": null,
"id": "8898f415",
"metadata": {
"id": "8898f415"
},
"outputs": [],
"source": [
"RF_REGRESSION_PRED_DATA.to_csv(\"rf_reg_prediction.csv\") # Storing the Prediction data in a csv."
]
},
{
"cell_type": "markdown",
"id": "371f0d7e",
"metadata": {
"id": "371f0d7e"
},
"source": [
"### Classification\n",
"> Will a customer make a purchase in next 90 days"
]
},
{
"cell_type": "code",
"execution_count": null,
"id": "532bd044",
"metadata": {
"id": "532bd044"
},
"outputs": [],
"source": [
"# Next 90 days spend probability\n",
"y_prob = features_df['spend_90_flag']"
]
},
{
"cell_type": "code",
"execution_count": null,
"id": "336fd923",
"metadata": {
"id": "336fd923"
},
"outputs": [],
"source": [
"xgb_clf_spec = XGBClassifier(objective='binary:logistic', random_state= 123) # model"
]
},
{
"cell_type": "code",
"execution_count": null,
"id": "40f4f26c",
"metadata": {
"id": "40f4f26c"
},
"outputs": [],
"source": [
"xgb_clf_model =GridSearchCV(estimator=xgb_clf_spec, param_grid = dict(learning_rate = [0.01, 0.1, 0.3, 0.5]), scoring='roc_auc', refit= True, cv = 5) "
]
},
{
"cell_type": "code",
"execution_count": null,
"id": "2607ef9a",
"metadata": {
"id": "2607ef9a",
"outputId": "b23f956c-c0fc-49a4-9274-9965ae227019"
},
"outputs": [],
"source": [
"xgb_clf_model.fit(X, y_prob) # Fitting the data"
]
},
{
"cell_type": "code",
"execution_count": null,
"id": "81c86071",
"metadata": {
"id": "81c86071",
"outputId": "484c821a-c68f-471f-aa56-b030842583e2"
},
"outputs": [],
"source": [
"xgb_clf_model.best_score_ # AUC score of the best model"
]
},
{
"cell_type": "code",
"execution_count": null,
"id": "eec93069",
"metadata": {
"id": "eec93069",
"outputId": "9bbd99dd-8a2f-4fb6-951e-5e1b36e3f7ed"
},
"outputs": [],
"source": [
"xgb_clf_model.best_params_ # Best Hyperparameter Values"
]
},
{
"cell_type": "code",
"execution_count": null,
"id": "004909b0",
"metadata": {
"id": "004909b0",
"outputId": "02c27fae-0d75-48f3-fe2d-d24a7661ac97"
},
"outputs": [],
"source": [
"# Storing the prediction values in a dataframe\n",
"XGB_CLASSIFICATION_PRED_DATA = pd.DataFrame(xgb_clf_model.predict_proba(X),columns=['prediction_xgb_clf_0','prediction_xgb_clf_1']).merge(X.reset_index(),left_index=True, right_index=True)\n",
"XGB_CLASSIFICATION_PRED_DATA.head()"
]
},
{
"cell_type": "code",
"execution_count": null,
"id": "56150c62",
"metadata": {
"id": "56150c62"
},
"outputs": [],
"source": [
"XGB_CLASSIFICATION_PRED_DATA.to_csv(\"xgb_clf_prediction.csv\") # Predictions to csv"
]
},
{
"cell_type": "markdown",
"id": "60095800",
"metadata": {
"id": "60095800"
},
"source": [
"### Logistic Regression"
]
},
{
"cell_type": "code",
"execution_count": null,
"id": "a9ac0b0b",
"metadata": {
"id": "a9ac0b0b",
"outputId": "7f91aaf1-23c6-4c58-e8b6-fbb99a814433"
},
"outputs": [],
"source": [
"parameters = {'penalty': [\"l1\", \"l2\"], 'solver': [\"liblinear\",\"saga\"]} # Hyper parameters\n",
"\n",
"logr = LogisticRegression() # model\n",
"logr_clf_model = GridSearchCV(logr,parameters, cv=5, scoring='accuracy')\n",
"logr_clf_model.fit(X, y_prob) #fitting"
]
},
{
"cell_type": "code",
"execution_count": null,
"id": "d31c5018",
"metadata": {
"id": "d31c5018",
"outputId": "f72837d0-9620-4f30-dc39-c459a8e5b238"
},
"outputs": [],
"source": [
"logr_clf_model.best_params_ # Best Hyperparameters"
]
},
{
"cell_type": "code",
"execution_count": null,
"id": "0e19ba11",
"metadata": {
"id": "0e19ba11",
"outputId": "aaeed858-7e05-4b05-f07b-9e35859e0b56"
},
"outputs": [],
"source": [
"logr_clf_model.best_score_ # AUC score of the best model"
]
},
{
"cell_type": "code",
"execution_count": null,
"id": "9dea94fa",
"metadata": {
"id": "9dea94fa",
"outputId": "1cabd222-dfc3-4b30-fc57-d282bbb2162f"
},
"outputs": [],
"source": [
"# Storing the prediction values in a dataframe with X data\n",
"LOGISTIC_CLASSIFICATION_PRED_DATA = pd.DataFrame(logr_clf_model.predict_proba(X),columns=['prediction_log_clf_0','prediction_log_clf_1']).merge(X.reset_index(),left_index=True, right_index=True)\n",
"LOGISTIC_CLASSIFICATION_PRED_DATA.head()"
]
},
{
"cell_type": "code",
"execution_count": null,
"id": "aacf76e8",
"metadata": {
"id": "aacf76e8"
},
"outputs": [],
"source": [
"LOGISTIC_CLASSIFICATION_PRED_DATA.to_csv(\"log_clf_prediction.csv\") # Prediction to csv."
]
},
{
"cell_type": "markdown",
"id": "313cc618",
"metadata": {
"id": "313cc618"
},
"source": [
"### RANDOM FOREST CLASSIFICATION"
]
},
{
"cell_type": "code",
"execution_count": null,
"id": "ef2a92d2",
"metadata": {
"id": "ef2a92d2",
"outputId": "be061e55-9ee4-45d3-d0a0-d1cb2f1a67d3"
},
"outputs": [],
"source": [
"#Hyper Parameters\n",
"parameters = { 'max_depth' : [2, 5], 'n_estimators' : [10, 20, 50, 100, 500, 1000],'max_features' : ['auto', 'sqrt', 'log2']}\n",
"\n",
"rfc = RandomForestClassifier() # mdoel\n",
"rfc_clf_model = GridSearchCV(rfc, parameters, cv=5, scoring='roc_auc') \n",
"rfc_clf_model.fit(X, y_prob) # fitting the data"
]
},
{
"cell_type": "code",
"execution_count": null,
"id": "22316aae",
"metadata": {
"id": "22316aae",
"outputId": "f6f8fc33-6af4-4c56-d862-87427a7e76a8"
},
"outputs": [],
"source": [
"rfc_clf_model.best_params_ # Best parameters"
]
},
{
"cell_type": "code",
"execution_count": null,
"id": "a0cbbbe4",
"metadata": {
"id": "a0cbbbe4",
"outputId": "c7b8643b-1cba-4e13-fc43-cc920fba1502"
},
"outputs": [],
"source": [
"rfc_clf_model.best_score_ # AUC score of the best model."
]
},
{
"cell_type": "code",
"execution_count": null,
"id": "bbf35e69",
"metadata": {
"id": "bbf35e69",
"outputId": "98b59161-ee64-4fde-b089-b870f4f10249"
},
"outputs": [],
"source": [
"# Storing the prediction values\n",
"RF_CLASSIFICATION_PRED_DATA = pd.DataFrame(rfc_clf_model.predict_proba(X),columns=['prediction_rf_clf_0','prediction_rf_clf_1']).merge(X.reset_index(),left_index=True, right_index=True)\n",
"RF_CLASSIFICATION_PRED_DATA.head()"
]
},
{
"cell_type": "code",
"execution_count": null,
"id": "6307734d",
"metadata": {
"id": "6307734d"
},
"outputs": [],
"source": [
"RF_CLASSIFICATION_PRED_DATA.to_csv(\"rf_clf_prediction.csv\") # Predictions to csv."
]
},
{
"cell_type": "markdown",
"id": "4c136109",
"metadata": {
"id": "4c136109"
},
"source": [
"### Feature importance"
]
},
{
"cell_type": "code",
"execution_count": null,
"id": "685d79fd",
"metadata": {
"id": "685d79fd"
},
"outputs": [],
"source": [
"#importance | spend amount model\n",
"\n",
"imp_spend_amount_dict = xgb_reg_model.best_estimator_.get_booster().get_score(importance_type = 'gain')"
]
},
{
"cell_type": "code",
"execution_count": null,
"id": "f8afc2e5",
"metadata": {
"id": "f8afc2e5"
},
"outputs": [],
"source": [
"imp_spend_amount_df = pd.DataFrame(data = {'feature': list(imp_spend_amount_dict.keys()), \n",
"                                   'value': list(imp_spend_amount_dict.values())}).assign(feature = lambda x : cat.cat_reorder(x['feature'], x['value']))"
]
},
{
"cell_type": "code",
"execution_count": null,
"id": "5239b8ec",
"metadata": {
"id": "5239b8ec",
"outputId": "5052c028-4b64-4f42-fa7f-c2014e45afbd"
},
"outputs": [],
"source": [
"imp_spend_amount_df"
]
},
{
"cell_type": "code",
"execution_count": null,
"id": "e62f1431",
"metadata": {
"id": "e62f1431",
"outputId": "937ade3b-24ab-4cf3-86d9-7475219ce269"
},
"outputs": [],
"source": [
"pn.ggplot(pn.aes('feature', 'value'), data = imp_spend_amount_df) + pn.geom_col() + pn.coord_flip() #plot of feature importance."
]
},
{
"cell_type": "code",
"execution_count": null,
"id": "7fd9f180",
"metadata": {
"id": "7fd9f180"
},
"outputs": [],
"source": [
"# Importance | Spend probability model\n",
"imp_spend_prob_dict = xgb_clf_model.best_estimator_.get_booster().get_score(importance_type = 'gain')"
]
},
{
"cell_type": "code",
"execution_count": null,
"id": "775260be",
"metadata": {
"id": "775260be"
},
"outputs": [],
"source": [
"imp_spend_prob_df = pd.DataFrame(data = {'feature': list(imp_spend_prob_dict.keys()), \n",
"                                   'value': list(imp_spend_prob_dict.values())}).assign(feature = lambda x : cat.cat_reorder(x['feature'], x['value']))"
]
},
{
"cell_type": "code",
"execution_count": null,
"id": "e89177ba",
"metadata": {
"id": "e89177ba",
"outputId": "a29986ef-4c23-4569-a406-edd3afd0adb2"
},
"outputs": [],
"source": [
"pn.ggplot(pn.aes('feature', 'value'), data = imp_spend_prob_df) + pn.geom_col() + pn.coord_flip() #plot of feature importance."
]
},
{
"cell_type": "markdown",
"id": "9ecce502",
"metadata": {
"id": "9ecce502"
},
"source": [
"# CLV Mathematically"
]
},
{
"cell_type": "code",
"execution_count": null,
"id": "39f1af42",
"metadata": {
"id": "39f1af42",
"outputId": "f7fb106a-7f90-4b21-fa2d-b2a08dd37bf6"
},
"outputs": [],
"source": [
"# Creating a customer level dataframe\n",
"customer_level_data = CDNOW_DATA.groupby(\"CustomerID\").aggregate({\"TransactionDate\": lambda x: (x.max() - x.min()).days,\n",
"                                                              \"CustomerID\": lambda x: len(x),\n",
"                                                   \"Price\" : lambda x: x.sum()})\n",
"customer_level_data.columns = ['num_days', 'num_transactions', 'spent_money']\n",
"customer_level_data.head()"
]
},
{
"cell_type": "markdown",
"id": "3569d476",
"metadata": {
"id": "3569d476"
},
"source": [
"### AVG_ORDER_VALUE"
]
},
{
"cell_type": "code",
"execution_count": null,
"id": "1f439354",
"metadata": {
"id": "1f439354",
"outputId": "a6223198-7cc6-4bda-ccb5-8193e34f43f9"
},
"outputs": [],
"source": [
"#Calculating the average order value for each customer\n",
"customer_level_data['avg_order_value']=customer_level_data['spent_money']/customer_level_data['num_transactions']\n",
"customer_level_data.head()"
]
},
{
"cell_type": "markdown",
"id": "400f864e",
"metadata": {
"id": "400f864e"
},
"source": [
"### PURCHASE FREQUNECY\n"
]
},
{
"cell_type": "code",
"execution_count": null,
"id": "60a103ff",
"metadata": {
"id": "60a103ff",
"outputId": "fe8c6639-7124-4c0f-cc8c-c5418a48a91a"
},
"outputs": [],
"source": [
"purchase_frequency=sum(customer_level_data['num_transactions'])/customer_level_data.shape[0]\n",
"purchase_frequency"
]
},
{
"cell_type": "markdown",
"id": "72cf2593",
"metadata": {
"id": "72cf2593"
},
"source": [
"### REPEAT RATE"
]
},
{
"cell_type": "code",
"execution_count": null,
"id": "82f9826f",
"metadata": {
"id": "82f9826f",
"outputId": "08b53b94-6fc8-4382-ed37-d2eab1c524da"
},
"outputs": [],
"source": [
"# Repeat Rate\n",
"repeat_rate=customer_level_data[customer_level_data.num_transactions > 1].shape[0]/customer_level_data.shape[0]\n",
"repeat_rate"
]
},
{
"cell_type": "markdown",
"id": "8c8cfa38",
"metadata": {
"id": "8c8cfa38"
},
"source": [
"### CHURN"
]
},
{
"cell_type": "code",
"execution_count": null,
"id": "0ca5f955",
"metadata": {
"id": "0ca5f955",
"outputId": "cc999e75-d72e-40a5-9fda-81ed29a31ade"
},
"outputs": [],
"source": [
"#Churn Rate\n",
"churn_rate=1-repeat_rate\n",
"churn_rate"
]
},
{
"cell_type": "code",
"execution_count": null,
"id": "a736a432",
"metadata": {
"id": "a736a432",
"outputId": "d8fdfc53-ef16-4e21-cc0e-3cb75c2d2b1f"
},
"outputs": [],
"source": [
"purchase_frequency,repeat_rate,churn_rate"
]
},
{
"cell_type": "markdown",
"id": "52931856",
"metadata": {
"id": "52931856"
},
"source": [
"### PROFIT"
]
},
{
"cell_type": "code",
"execution_count": null,
"id": "92d2ac1b",
"metadata": {
"id": "92d2ac1b",
"outputId": "f7741394-ff10-488f-a68c-de7812a7b1f7"
},
"outputs": [],
"source": [
"# Assuming profit marging to be of 5%\n",
"customer_level_data[\"profit\"] = customer_level_data[\"spent_money\"]* 0.05\n",
"customer_level_data.head()"
]
},
{
"cell_type": "markdown",
"id": "11e0c7b5",
"metadata": {
"id": "11e0c7b5"
},
"source": [
"### CLV"
]
},
{
"cell_type": "code",
"execution_count": null,
"id": "3a60938b",
"metadata": {
"id": "3a60938b"
},
"outputs": [],
"source": [
"# CLV\n",
"customer_level_data['CLV']=(customer_level_data['avg_order_value']*purchase_frequency)/churn_rate"
]
},
{
"cell_type": "markdown",
"id": "aeaa6cd5",
"metadata": {
"id": "aeaa6cd5"
},
"source": [
"### CLTV"
]
},
{
"cell_type": "code",
"execution_count": null,
"id": "279ddb7d",
"metadata": {
"id": "279ddb7d",
"outputId": "e007ed4f-6902-499e-fca7-bdae47ed8104"
},
"outputs": [],
"source": [
"customer_level_data['cust_lifetime_value']=customer_level_data['CLV']*customer_level_data['profit']\n",
"customer_level_data.head()"
]
},
{
"cell_type": "code",
"execution_count": null,
"id": "82199d01",
"metadata": {
"id": "82199d01",
"outputId": "263e3e56-2777-4c3e-eb8b-481e591075fb"
},
"outputs": [],
"source": [
"cdnow = CDNOW_DATA.copy()\n",
"\n",
"cdnow['month_yr'] = cdnow['TransactionDate'].apply(lambda x: x.strftime('%b-%Y'))\n",
"cdnow.head()"
]
},
{
"cell_type": "code",
"execution_count": null,
"id": "5971b28f",
"metadata": {
"id": "5971b28f",
"outputId": "9ed595c6-1cf3-49c5-aa9f-00bdb9dfbd76",
"scrolled": true
},
"outputs": [],
"source": [
"sale=cdnow.pivot_table(index=['CustomerID'],columns=['month_yr'],values='Price',aggfunc='sum',fill_value=0).reset_index()\n",
"sale.head()\n"
]
},
{
"cell_type": "code",
"execution_count": null,
"id": "13e3bdb9",
"metadata": {
"id": "13e3bdb9",
"outputId": "3ec529d0-a0eb-476a-a748-337b70971ccb"
},
"outputs": [],
"source": [
"sale['CLV']=sale.iloc[:,2:].sum(axis=1)\n",
"sale.head()"
]
},
{
"cell_type": "code",
"execution_count": null,
"id": "74635eac",
"metadata": {
"id": "74635eac",
"outputId": "5dee1598-f858-40e1-d8e4-55cd121f9bd9"
},
"outputs": [],
"source": [
"cdnow[\"TransactionDate\"].max()"
]
},
{
"cell_type": "markdown",
"id": "0e0643c6",
"metadata": {
"id": "0e0643c6"
},
"source": [
"# CLV prediction based on the latest 6 month sales data:\n",
"\n",
">Predictive modeling on the customer lifetime value instead of the sales expected in next 90 days"
]
},
{
"cell_type": "code",
"execution_count": null,
"id": "be75b7b5",
"metadata": {
"id": "be75b7b5"
},
"outputs": [],
"source": [
"# Selecting features as the latest 6 month data\n",
"\n",
"X2=sale[['Jan-1998','Feb-1998', 'Mar-1998','Apr-1998','May-1998','Jun-1998']]\n",
"y=sale[['CLV']]"
]
},
{
"cell_type": "markdown",
"id": "5a0b4bff",
"metadata": {
"id": "5a0b4bff"
},
"source": [
"### XGBOOST"
]
},
{
"cell_type": "code",
"execution_count": null,
"id": "cdc3f239",
"metadata": {
"id": "cdc3f239"
},
"outputs": [],
"source": [
"xgb = XGBRegressor(objective='reg:squarederror', random_state = 123) #model"
]
},
{
"cell_type": "code",
"execution_count": null,
"id": "8983d650",
"metadata": {
"id": "8983d650"
},
"outputs": [],
"source": [
"# GridSearch with all the hyperparameters\n",
"xgb =GridSearchCV(estimator=xgb, param_grid = dict(learning_rate = [0.01, 0.1, 0.3, 0.5]), scoring='neg_mean_absolute_error', refit= True, cv = 5)"
]
},
{
"cell_type": "code",
"execution_count": null,
"id": "026d92d7",
"metadata": {
"id": "026d92d7",
"outputId": "de3ac676-e704-4b08-e236-4c2e488fe8ff"
},
"outputs": [],
"source": [
"xgb.fit(X2, y) # Fitting the data"
]
},
{
"cell_type": "code",
"execution_count": null,
"id": "7bc61565",
"metadata": {
"id": "7bc61565",
"outputId": "a7378c51-4ac8-4487-ef54-8be077c786ff"
},
"outputs": [],
"source": [
"xgb.best_score_ # NAE for the best model"
]
},
{
"cell_type": "code",
"execution_count": null,
"id": "1351fa1a",
"metadata": {
"id": "1351fa1a",
"outputId": "8a8cbb23-e337-43c4-c5c5-eb756c08dc52"
},
"outputs": [],
"source": [
"xgb.best_params_ # Hyper parameters for the best model"
]
},
{
"cell_type": "code",
"execution_count": null,
"id": "1f86173f",
"metadata": {
"id": "1f86173f"
},
"outputs": [],
"source": [
"predictions_xgb_reg_6model = xgb.predict(X2) # prediction"
]
},
{
"cell_type": "code",
"execution_count": null,
"id": "2b33b677",
"metadata": {
"id": "2b33b677"
},
"outputs": [],
"source": [
"XGBOOST_6M_REG = pd.DataFrame({\"prediction_xgb_6m\" : predictions_xgb_reg_6model.tolist()}).merge(X2,left_index=True, right_index=True).merge(sale[\"CustomerID\"],left_index=True, right_index=True)"
]
},
{
"cell_type": "code",
"execution_count": null,
"id": "cf0fa7cb",
"metadata": {
"id": "cf0fa7cb"
},
"outputs": [],
"source": [
"XGBOOST_6M_REG.to_csv(\"XGB_reg_6m_prediction.csv\") # Prediction to csv."
]
},
{
"cell_type": "markdown",
"id": "94859916",
"metadata": {
"id": "94859916"
},
"source": [
"### Linear Regression"
]
},
{
"cell_type": "code",
"execution_count": null,
"id": "b36f4c5b",
"metadata": {
"id": "b36f4c5b"
},
"outputs": [],
"source": [
"lr = LinearRegression()"
]
},
{
"cell_type": "code",
"execution_count": null,
"id": "f6f3f8df",
"metadata": {
"id": "f6f3f8df",
"outputId": "527299da-1b43-40a1-f190-0977a3d62851"
},
"outputs": [],
"source": [
"parameters = {'fit_intercept':[True,False],  'copy_X':[True, False]} # Hyperparameters\n",
"lr_reg_model = GridSearchCV(lr,parameters, cv=5, scoring='neg_mean_absolute_error')\n",
"lr_reg_model.fit(X2, y) #fittig the data"
]
},
{
"cell_type": "code",
"execution_count": null,
"id": "ac8b54c6",
"metadata": {
"id": "ac8b54c6",
"outputId": "4340d23a-406d-4b3c-a019-6856d8d78f98"
},
"outputs": [],
"source": [
"lr_reg_model.best_score_ # NAE for the best model"
]
},
{
"cell_type": "code",
"execution_count": null,
"id": "1ea6282d",
"metadata": {
"id": "1ea6282d",
"outputId": "f82a777d-c2b7-4c75-8e4c-f824cd8eaccd"
},
"outputs": [],
"source": [
"lr_reg_model.best_params_ # Hyperparameters for the best model."
]
},
{
"cell_type": "code",
"execution_count": null,
"id": "f437a382",
"metadata": {
"id": "f437a382",
"outputId": "01445d8d-72a0-4cfa-d10b-a0190d10755a"
},
"outputs": [],
"source": [
"predictions_lr_reg_6model = lr_reg_model.predict(X2).reshape(-1)\n",
"predictions_lr_reg_6model"
]
},
{
"cell_type": "code",
"execution_count": null,
"id": "90e4cc1c",
"metadata": {
"id": "90e4cc1c"
},
"outputs": [],
"source": [
"# Storing the prediction in a dataframe.\n",
"LinearReg_6M_REG = pd.DataFrame({\"prediction_lr_6m\" : predictions_lr_reg_6model.tolist()}).merge(X2,left_index=True, right_index=True).merge(sale[\"CustomerID\"],left_index=True, right_index=True)"
]
},
{
"cell_type": "code",
"execution_count": null,
"id": "8941a34e",
"metadata": {
"id": "8941a34e"
},
"outputs": [],
"source": [
"LinearReg_6M_REG.to_csv(\"lr_reg_6m_prediction.csv\")# Prediction to csv."
]
},
{
"cell_type": "markdown",
"id": "eccf3a07",
"metadata": {
"id": "eccf3a07"
},
"source": [
"### Random Forest Regression"
]
},
{
"cell_type": "code",
"execution_count": null,
"id": "6794f317",
"metadata": {
"id": "6794f317"
},
"outputs": [],
"source": [
"rf = RandomForestRegressor() # Model\n",
"rf_regressor =GridSearchCV(estimator=rf, param_grid = param_grid, scoring='neg_mean_absolute_error', refit= True, cv = 5) "
]
},
{
"cell_type": "code",
"execution_count": null,
"id": "775c879a",
"metadata": {
"id": "775c879a",
"outputId": "96e193b4-8832-4bd5-feff-716ed2f84da4"
},
"outputs": [],
"source": [
"rf_regressor.fit(X2, y.values.ravel()) # fitting the data"
]
},
{
"cell_type": "code",
"execution_count": null,
"id": "14ce3c65",
"metadata": {
"id": "14ce3c65",
"outputId": "2a7db5ba-c9d3-4e86-cc0d-af4c3f690e46"
},
"outputs": [],
"source": [
"rf_regressor.best_score_ # NAE for the best model"
]
},
{
"cell_type": "code",
"execution_count": null,
"id": "8240410a",
"metadata": {
"id": "8240410a"
},
"outputs": [],
"source": [
"predictions_rf_reg_6model = rf_regressor.predict(X2) # Prediction"
]
},
{
"cell_type": "code",
"execution_count": null,
"id": "d73b82ad",
"metadata": {
"id": "d73b82ad"
},
"outputs": [],
"source": [
"RFReg_6M_REG = pd.DataFrame({\"prediction_rf_6m\" : predictions_rf_reg_6model.tolist()}).merge(X2,left_index=True, right_index=True).merge(sale[\"CustomerID\"],left_index=True, right_index=True)"
]
},
{
"cell_type": "code",
"execution_count": null,
"id": "a9f80dcb",
"metadata": {
"id": "a9f80dcb"
},
"outputs": [],
"source": [
"RFReg_6M_REG.to_csv(\"rf_reg_6m_prediction.csv\")# Prediction to csv."
]
},
{
"cell_type": "markdown",
"id": "008a3aaa",
"metadata": {
"id": "008a3aaa"
},
"source": [
"# Lifetimes Library"
]
},
{
"cell_type": "code",
"execution_count": null,
"id": "fb4e13b2",
"metadata": {
"id": "fb4e13b2",
"outputId": "bec6c817-83b1-489a-f3be-38bc87a10acf"
},
"outputs": [],
"source": [
"CDNOW_DATA = CDNOW_DATA[CDNOW_DATA['Price'] > 0]\n",
"TRAIN = CDNOW_DATA[CDNOW_DATA[\"TransactionDate\"] < CDNOW_DATA[\"TransactionDate\"].max() - dt.timedelta(days = 30)]\n",
"TRAIN.shape"
]
},
{
"cell_type": "code",
"execution_count": null,
"id": "8917ae23",
"metadata": {
"id": "8917ae23",
"outputId": "ca921989-e70f-443c-b4ec-53037a2b8fe0"
},
"outputs": [],
"source": [
"TEST =  CDNOW_DATA[CDNOW_DATA[\"TransactionDate\"] >= CDNOW_DATA[\"TransactionDate\"].max() - dt.timedelta(days = 30)]\n",
"TEST.shape"
]
},
{
"cell_type": "code",
"execution_count": null,
"id": "9a5ca5cc",
"metadata": {
"id": "9a5ca5cc",
"outputId": "c3333fa6-d600-44d1-8f1a-5c68f19bbcf5"
},
"outputs": [],
"source": [
"CDNOW_data_LT = lifetimes.utils.summary_data_from_transaction_data(TRAIN, 'CustomerID', 'TransactionDate', 'Price' )\n",
"CDNOW_data_LT.head()\n",
"\n",
"# frequency: total number of repeat purchases\n",
"# recency: the difference between the customer's last purchase and his first purchase\n",
"# T: the age of the client in the company\n",
"# monetary_value: average earnings per purchase"
]
},
{
"cell_type": "code",
"execution_count": null,
"id": "e47b53d8",
"metadata": {
"id": "e47b53d8",
"outputId": "553b722b-7fed-4d02-e075-081dff2af34f"
},
"outputs": [],
"source": [
"# Create a distribution of frequency to understand the customer frequency level\n",
"CDNOW_data_LT['frequency'].plot(kind='hist', bins=50)\n",
"plt.show()\n",
"print(CDNOW_data_LT['frequency'].describe())\n",
"print(\"---------------------------------------\")\n",
"one_time_buyers = round(sum(CDNOW_data_LT['frequency'] == 0)/float(len(CDNOW_data_LT))*(100),2)\n",
"print(\"Percentage of customers that purchased the item only once:\", one_time_buyers ,\"%\")"
]
},
{
"cell_type": "code",
"execution_count": null,
"id": "6285f9a8",
"metadata": {
"id": "6285f9a8",
"outputId": "a7a9e774-29e6-40fe-f374-a2961f4cb426"
},
"outputs": [],
"source": [
"# Fitting the BG/NBD model\n",
"bgf = lifetimes.BetaGeoFitter(penalizer_coef=0.0)\n",
"bgf.fit(CDNOW_data_LT['frequency'], CDNOW_data_LT['recency'], CDNOW_data_LT['T'])"
]
},
{
"cell_type": "code",
"execution_count": null,
"id": "a1726a75",
"metadata": {
"id": "a1726a75",
"outputId": "75861c0f-b8ea-4add-e82c-673e8f2b8011"
},
"outputs": [],
"source": [
"# Model summary\n",
"bgf.summary"
]
},
{
"cell_type": "code",
"execution_count": null,
"id": "5f44496c",
"metadata": {
"id": "5f44496c",
"outputId": "d0abeb97-5692-4fe2-c28b-787b8ac2dab2"
},
"outputs": [],
"source": [
"# Compute the customer alive probability\n",
"CDNOW_data_LT['probability_alive'] = bgf.conditional_probability_alive(CDNOW_data_LT['frequency'], CDNOW_data_LT['recency'], CDNOW_data_LT['T'])\n",
"CDNOW_data_LT.head(10)"
]
},
{
"cell_type": "code",
"execution_count": null,
"id": "12a3a593",
"metadata": {
"id": "12a3a593",
"outputId": "948b754d-5f42-4081-a9f9-8478cbf04744"
},
"outputs": [],
"source": [
"# Visual representation of relationship between recency and frequency\n",
"import matplotlib.pyplot as plt\n",
"from lifetimes.plotting import plot_probability_alive_matrix\n",
"\n",
"fig = plt.figure(figsize=(12,8))\n",
"plot_probability_alive_matrix(bgf)\n",
"plt.show()"
]
},
{
"cell_type": "code",
"execution_count": null,
"id": "bb30c97c",
"metadata": {
"id": "bb30c97c",
"outputId": "46e82064-664c-45b2-a1d9-7dae52adb808"
},
"outputs": [],
"source": [
"#Predict future transaction for the next 30 days based on historical dataa\n",
"t = 30\n",
"CDNOW_data_LT['pred_num_txn'] = round(bgf.conditional_expected_number_of_purchases_up_to_time(t, CDNOW_data_LT['frequency'], CDNOW_data_LT['recency'], CDNOW_data_LT['T']),2)\n",
"CDNOW_data_LT.sort_values(by='pred_num_txn', ascending=False).head(10).reset_index()"
]
},
{
"cell_type": "code",
"execution_count": null,
"id": "4d3ad54d",
"metadata": {
"id": "4d3ad54d",
"outputId": "e4c37bad-c1d4-49c8-f8e9-1a36133c6e07"
},
"outputs": [],
"source": [
"# Checking the relationship between frequency and monetary_value\n",
"CDNOW_return_customers_summary = CDNOW_data_LT[CDNOW_data_LT['frequency']>0]\n",
"print(CDNOW_return_customers_summary.shape)\n",
"CDNOW_return_customers_summary.head()"
]
},
{
"cell_type": "code",
"execution_count": null,
"id": "912a3ba2",
"metadata": {
"id": "912a3ba2",
"outputId": "ae1ad9e3-6caa-4713-d4c6-aed731a55b1b"
},
"outputs": [],
"source": [
"# Checking the relationship between frequency and monetary_value\n",
"CDNOW_return_customers_summary[['frequency', 'monetary_value']].corr()"
]
},
{
"cell_type": "code",
"execution_count": null,
"id": "b28be4f5",
"metadata": {
"id": "b28be4f5",
"outputId": "05945c14-ba35-4337-a62e-ba30aa93c179"
},
"outputs": [],
"source": [
"# Modeling the monetary value using Gamma-Gamma Model\n",
"ggf = lifetimes.GammaGammaFitter(penalizer_coef=0.01)\n",
"ggf.fit(CDNOW_return_customers_summary['frequency'],\n",
"       CDNOW_return_customers_summary['monetary_value'])"
]
},
{
"cell_type": "code",
"execution_count": null,
"id": "1f1c0a0f",
"metadata": {
"id": "1f1c0a0f",
"outputId": "ff234283-6a19-4732-a079-9e661a3a1c96"
},
"outputs": [],
"source": [
"# Summary of the fitted parameters\n",
"ggf.summary"
]
},
{
"cell_type": "code",
"execution_count": null,
"id": "82da327c",
"metadata": {
"id": "82da327c",
"outputId": "dd1b539f-c90a-4b10-caec-15661fb2e6f3"
},
"outputs": [],
"source": [
"# Calculating the conditional expected average profit for each customer per transaction\n",
"CDNOW_data_LT_vF = CDNOW_data_LT[CDNOW_data_LT['monetary_value'] >0]\n",
"CDNOW_data_LT_vF['exp_avg_sales'] = ggf.conditional_expected_average_profit(CDNOW_data_LT['frequency'],\n",
"                                       CDNOW_data_LT['monetary_value'])\n",
"CDNOW_data_LT_vF.head()"
]
},
{
"cell_type": "code",
"execution_count": null,
"id": "597c6d24",
"metadata": {
"id": "597c6d24",
"outputId": "4ec8b329-c634-4442-da5c-c6731fbe1be4"
},
"outputs": [],
"source": [
"# Checking the expected average value and the actual average value in the data to make sure the values are good\n",
"print(f\"Expected Average Sales: {CDNOW_data_LT_vF['exp_avg_sales'].mean()}\")\n",
"print(f\"Actual Average Sales: {CDNOW_data_LT_vF['monetary_value'].mean()}\")"
]
},
{
"cell_type": "code",
"execution_count": null,
"id": "f83d9eb4",
"metadata": {
"id": "f83d9eb4",
"outputId": "bb999b66-120e-4ca3-9208-ae1ce277c014"
},
"outputs": [],
"source": [
"# Predicting Customer Lifetime Value for the next 30 days\n",
"CDNOW_data_LT_vF['predicted_clv'] =      ggf.customer_lifetime_value(bgf,\n",
"                                                               CDNOW_data_LT_vF['frequency'],\n",
"                                                               CDNOW_data_LT_vF['recency'],\n",
"                                                               CDNOW_data_LT_vF['T'],\n",
"                                                               CDNOW_data_LT_vF['monetary_value'],\n",
"                                                               time=1,     # lifetime in months\n",
"                                                               freq='D',   # frequency in which the data is present(T)      \n",
"                                                               discount_rate=0.01) # discount rate\n",
"CDNOW_data_LT_vF.head()"
]
},
{
"cell_type": "code",
"execution_count": null,
"id": "dd89ac28",
"metadata": {
"id": "dd89ac28",
"outputId": "822935e8-84ab-4401-cfff-d483b8859bdf"
},
"outputs": [],
"source": [
"# Manual CLV pridiction\n",
"CDNOW_data_LT_vF['manual_predicted_clv'] = CDNOW_data_LT_vF['pred_num_txn'] * CDNOW_data_LT_vF['exp_avg_sales']\n",
"CDNOW_data_LT_vF.head()"
]
},
{
"cell_type": "markdown",
"id": "72376d6e",
"metadata": {
"id": "72376d6e"
},
"source": [
"### TEST"
]
},
{
"cell_type": "code",
"execution_count": null,
"id": "1f237e44",
"metadata": {
"id": "1f237e44",
"outputId": "59518c5d-1c13-4912-db27-c6d75ac38c7a"
},
"outputs": [],
"source": [
"TEST.head()"
]
},
{
"cell_type": "code",
"execution_count": null,
"id": "a6375465",
"metadata": {
"id": "a6375465"
},
"outputs": [],
"source": [
"ACTUAL = TEST.groupby(\"CustomerID\")[\"Price\"].sum().reset_index() # Calculating the Sum of Price"
]
},
{
"cell_type": "code",
"execution_count": null,
"id": "f5a96dd2",
"metadata": {
"id": "f5a96dd2"
},
"outputs": [],
"source": [
"ACTUAL.rename(columns ={\"Price\":\"actual_amount_spent_in_next_30_days\"}, inplace = True) # renaming the columns"
]
},
{
"cell_type": "code",
"execution_count": null,
"id": "f97c6fbc",
"metadata": {
"id": "f97c6fbc"
},
"outputs": [],
"source": [
"# Actual vs Predicted Dataframe\n",
"Pred_vs_Actual = CDNOW_data_LT_vF.merge(ACTUAL, on = \"CustomerID\", how = \"left\")\n",
"Pred_vs_Actual.fillna(0, inplace = True)"
]
},
{
"cell_type": "code",
"execution_count": null,
"id": "62eb27d1",
"metadata": {
"id": "62eb27d1",
"outputId": "0425ecd8-3ed1-4f1a-d5d9-b5c2c5d7c57e"
},
"outputs": [],
"source": [
"Pred_vs_Actual.head() # looking at the Actual vs Predicted Dataframe"
]
},
{
"cell_type": "code",
"execution_count": null,
"id": "5a5d77e1",
"metadata": {
"id": "5a5d77e1"
},
"outputs": [],
"source": [
"# difference between actual and predicted\n",
"Pred_vs_Actual[\"difference\"] = Pred_vs_Actual[\"manual_predicted_clv\"] - Pred_vs_Actual[\"actual_amount_spent_in_next_30_days\"]"
]
},
{
"cell_type": "code",
"execution_count": null,
"id": "7eae16a1",
"metadata": {
"id": "7eae16a1",
"outputId": "1413d569-3e97-41b6-99bb-bbcdb47dc4fb"
},
"outputs": [],
"source": [
"Pred_vs_Actual.head()"
]
},
{
"cell_type": "code",
"execution_count": null,
"id": "6a17fc6d",
"metadata": {
"id": "6a17fc6d",
"outputId": "03c5a70d-785b-42c2-9cfe-bad91a8a602b"
},
"outputs": [],
"source": [
"Pred_vs_Actual[\"difference\"].hist()"
]
},
{
"cell_type": "code",
"execution_count": null,
"id": "d6028d99",
"metadata": {
"id": "d6028d99",
"outputId": "fd04d6ae-17a5-4ee6-d56f-aad8de7112f0"
},
"outputs": [],
"source": [
"Pred_vs_Actual[\"difference\"].describe()"
]
},
{
"cell_type": "code",
"execution_count": null,
"id": "0e7d870e",
"metadata": {
"id": "0e7d870e",
"outputId": "9abdd38b-4be4-4448-c173-84e5bdc65d37"
},
"outputs": [],
"source": [
"Pred_vs_Actual.sort_values('actual_amount_spent_in_next_30_days', ascending = False)"
]
},
{
"cell_type": "code",
"execution_count": null,
"id": "a8771ce1",
"metadata": {
"id": "a8771ce1",
"outputId": "e68392a2-113a-47f7-f403-70f1b7eafade"
},
"outputs": [],
"source": [
"# MAE of the Lifetimes.\n",
"mean_absolute_error(Pred_vs_Actual[\"actual_amount_spent_in_next_30_days\"], Pred_vs_Actual[\"manual_predicted_clv\"])"
]
}
],
"metadata": {
"colab": {
"name": "CDNOW_Final_Notebook.ipynb",
"provenance": []
},
"kernelspec": {
"display_name": "Python 3",
"language": "python",
"name": "python3"
},
"language_info": {
"codemirror_mode": {
"name": "ipython",
"version": 3
},
"file_extension": ".py",
"mimetype": "text/x-python",
"name": "python",
"nbconvert_exporter": "python",
"pygments_lexer": "ipython3",
"version": "3.8.8"
}
},
"nbformat": 4,
"nbformat_minor": 5
}