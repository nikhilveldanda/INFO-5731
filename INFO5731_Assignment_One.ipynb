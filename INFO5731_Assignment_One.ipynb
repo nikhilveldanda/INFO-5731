{
  "nbformat": 4,
  "nbformat_minor": 0,
  "metadata": {
    "colab": {
      "name": "INFO5731_Assignment_One.ipynb",
      "provenance": [],
      "collapsed_sections": [],
      "include_colab_link": true
    },
    "kernelspec": {
      "display_name": "Python 3",
      "language": "python",
      "name": "python3"
    },
    "language_info": {
      "codemirror_mode": {
        "name": "ipython",
        "version": 3
      },
      "file_extension": ".py",
      "mimetype": "text/x-python",
      "name": "python",
      "nbconvert_exporter": "python",
      "pygments_lexer": "ipython3",
      "version": "3.8.5"
    }
  },
  "cells": [
    {
      "cell_type": "markdown",
      "metadata": {
        "id": "view-in-github",
        "colab_type": "text"
      },
      "source": [
        "<a href=\"https://colab.research.google.com/github/nikhilveldanda/INFO-5731/blob/Assignment1/INFO5731_Assignment_One.ipynb\" target=\"_parent\"><img src=\"https://colab.research.google.com/assets/colab-badge.svg\" alt=\"Open In Colab\"/></a>"
      ]
    },
    {
      "cell_type": "markdown",
      "metadata": {
        "id": "Ryk8D1Q4Wsrp"
      },
      "source": [
        "# **INFO5731 Assignment One**"
      ]
    },
    {
      "cell_type": "markdown",
      "metadata": {
        "id": "90_NR8c5XGWc"
      },
      "source": [
        "# Question 1\n",
        "\n",
        "(20 points). Write a Python program to generate 12 random numbers between 1 and 100. Sort the list of numbers in ascending order and print it out. Sort the list of numbers in descending order and print it out. Calculate the average for the group and print it out."
      ]
    },
    {
      "cell_type": "code",
      "metadata": {
        "colab": {
          "base_uri": "https://localhost:8080/"
        },
        "id": "5QX6bJjGWXY9",
        "outputId": "1de9647b-f158-49ab-f005-0fd04b12b61a"
      },
      "source": [
        "import random\n",
        "l1=[]\n",
        "for i in range(12):\n",
        "  l1.append(random.randint(1,100))\n",
        "print(\"Ascending Order\", sorted(l1))\n",
        "print(\"Descending Order\",sorted(l1,reverse=True))\n",
        "print(\"Average\",sum(l1)/len(l1))\n"
      ],
      "execution_count": 6,
      "outputs": [
        {
          "output_type": "stream",
          "name": "stdout",
          "text": [
            "Ascending Order [15, 21, 23, 35, 38, 41, 48, 49, 49, 53, 84, 95]\n",
            "Descending Order [95, 84, 53, 49, 49, 48, 41, 38, 35, 23, 21, 15]\n",
            "Average 45.916666666666664\n"
          ]
        }
      ]
    },
    {
      "cell_type": "markdown",
      "metadata": {
        "id": "1F_PZdH9Sh49"
      },
      "source": [
        "# Question 2\n",
        "(25 points). Write a program that will do the following string formatting tasks:\n",
        "\n",
        "(1) Ask the user to enter two sentences.\n",
        "\n",
        "(2) Make each sentence into a list. Each element in the list should correspond to a word in the sentence. For example, if the sentence is \"Alas! Am I alive? This is my first python program\", the program should print out ['Alas, '!', 'Am', 'I', 'alive, '?', 'This', 'is', 'my', 'first', 'python', 'program'].\n",
        "\n",
        "(3) Compare the two sentences. Print out a list of words that occur in both sentences.\n",
        "\n",
        "(4) Remove any punctuation from the sentence and print it back out. It should remove at least the following characters, but it can remove more: period(“.”), comma (“,”), semicolon (“;”), and colon (“:”)\n",
        "\n",
        "(5) Count the number of vowels in the sentences. Print out each vowel and the number of times it appears in the sentences, such as: a:2, e:1, i:0, etc"
      ]
    },
    {
      "cell_type": "code",
      "metadata": {
        "colab": {
          "base_uri": "https://localhost:8080/"
        },
        "id": "Y0oOSlsOS0cq",
        "outputId": "bfc3a418-8b1b-4b02-807b-9913a8f3cf40"
      },
      "source": [
        "# Your code here\n",
        "import re\n",
        "#1\n",
        "print(\"#1\")\n",
        "st1 = input(\"Enter sentence 1 \")\n",
        "st2 = input(\"Enter sentence 2 \")\n",
        "print(\"\\n\")\n",
        "#2\n",
        "print(\"#2\")\n",
        "s1 = (re.findall(r\"[\\w']+|[.,!?;]\", st1))\n",
        "s2 = (re.findall(r\"[\\w']+|[.,!?;]\", st2))\n",
        "\n",
        "print(s1 + s2)\n",
        "print(\"\\n\")\n",
        "#3\n",
        "print(\"#3\")\n",
        "print(\"Two sentences comparision list \",list(set(s1).intersection(set(s2))))\n",
        "print(\"\\n\")\n",
        "#4\n",
        "print(\"#4\")\n",
        "removed_punc_st1 = \"\".join([i for i in st1 if i not in \".,;:'/?!\"])\n",
        "removed_punc_st2 = \"\".join([i for i in st2 if i not in \".,;:'/?!\"])\n",
        "\n",
        "print(\"sentence 1 with removed punctuation:\",removed_punc_st1)\n",
        "print(\"sentence 2 with removed punctuation:\",removed_punc_st2)\n",
        "print(\"\\n\")\n",
        "#5\n",
        "print(\"#5\")\n",
        "vowels_st1 = {}\n",
        "vowels_st1[\"a\"] = st1.lower().count(\"a\")\n",
        "vowels_st1[\"e\"] = st1.lower().count(\"e\")\n",
        "vowels_st1[\"i\"] = st1.lower().count(\"i\")\n",
        "vowels_st1[\"o\"] = st1.lower().count(\"o\")\n",
        "vowels_st1[\"u\"] = st1.lower().count(\"u\")\n",
        "print(\"Vowels count in sentence 1\",vowels_st1)\n",
        "\n",
        "vowels_st2 = {}\n",
        "vowels_st2[\"a\"] = st2.lower().count(\"a\")\n",
        "vowels_st2[\"e\"] = st2.lower().count(\"e\")\n",
        "vowels_st2[\"i\"] = st2.lower().count(\"i\")\n",
        "vowels_st2[\"o\"] = st2.lower().count(\"o\")\n",
        "vowels_st2[\"u\"] = st2.lower().count(\"u\")\n",
        "print(\"Vowels count in sentence 2\",vowels_st2)"
      ],
      "execution_count": 45,
      "outputs": [
        {
          "output_type": "stream",
          "name": "stdout",
          "text": [
            "#1\n",
            "Enter sentence 1 Alas! Am I alive?\n",
            "Enter sentence 2 This is my first python program. Alas!\n",
            "\n",
            "\n",
            "#2\n",
            "['Alas', '!', 'Am', 'I', 'alive', '?', 'This', 'is', 'my', 'first', 'python', 'program', '.', 'Alas', '!']\n",
            "\n",
            "\n",
            "#3\n",
            "Two sentences comparision list  ['Alas', '!']\n",
            "\n",
            "\n",
            "#4\n",
            "sentence 1 with removed punctuation: Alas Am I alive\n",
            "sentence 2 with removed punctuation: This is my first python program Alas\n",
            "\n",
            "\n",
            "#5\n",
            "Vowels count in sentence 1 {'a': 4, 'e': 1, 'i': 2, 'o': 0, 'u': 0}\n",
            "Vowels count in sentence 2 {'a': 3, 'e': 0, 'i': 3, 'o': 2, 'u': 0}\n"
          ]
        }
      ]
    },
    {
      "cell_type": "markdown",
      "metadata": {
        "id": "CmFoI4jDS9nx"
      },
      "source": [
        "# Question 3 \n",
        "\n",
        "(15 points). The formula that describes the volume V of a sphere with radius r is the following:\n",
        "\n",
        "$ V=\\frac{4}{3}\\ast\\ \\pi\\ast\\ r^3 $\n",
        "\n",
        "Write a program to calculate the value of V when r is in the range of 1–10. Output the result in the following format:\n",
        "\n",
        "\tr\tV\n",
        "\t1\t…\n",
        "\t2\t…\n",
        "\t3\t…\n"
      ]
    },
    {
      "cell_type": "code",
      "metadata": {
        "colab": {
          "base_uri": "https://localhost:8080/"
        },
        "id": "pEyqeioAT95b",
        "outputId": "b1aa8f50-fee0-4eec-8da2-01f6f69ca307"
      },
      "source": [
        "# Your code here\n",
        "print(\"r      V\")\n",
        "for r in range(1,11):\n",
        "\n",
        "\n",
        "  print(\"{0}\".format(r),\" \",((4/3)*(22/7)*(r**3)))"
      ],
      "execution_count": 41,
      "outputs": [
        {
          "output_type": "stream",
          "name": "stdout",
          "text": [
            "r      V\n",
            "1   4.19047619047619\n",
            "2   33.52380952380952\n",
            "3   113.14285714285712\n",
            "4   268.19047619047615\n",
            "5   523.8095238095237\n",
            "6   905.142857142857\n",
            "7   1437.333333333333\n",
            "8   2145.523809523809\n",
            "9   3054.857142857142\n",
            "10   4190.47619047619\n"
          ]
        }
      ]
    },
    {
      "cell_type": "markdown",
      "metadata": {
        "id": "z3tBE7E-Xn5X"
      },
      "source": [
        "# Question 4\n",
        "\n",
        "(40 points). In the field of Data Science, data is often formatted as a comma-delimited (CSV) file, where each line in a file corresponds to a field's value. Refer to Chapter 9 (p. 106) for more information on comma-delimited files. To answer this question, you will need to download the file [Assignment1_denton_housing.csv](https://github.com/unt-iialab/info5731-fall2021/blob/main/assignments/Assignment1_denton_housing.csv) included with this assignment. The file [Assignment1_denton_housing.csv](https://github.com/unt-iialab/info5731-fall2021/blob/main/assignments/Assignment1_denton_housing.csv) contains statistics about housing in the city of Denton from 2008 to 2014. Write a program to implement the following questions.\n",
        "\n",
        "(1) (10 pts) Calculate the difference in the number of Occupied Housing Units from year to year and print it. The difference must be calculated for the consecutive years such as 2008-2009, 2009-2010 etc. Finally, print the values in the ascending order.\n",
        "\n",
        "(2) (10 pts) For all the years, calculate the percentage of housing units which are vacant an occupied. Print the results in the following format:\n",
        "\n",
        "Year Vacant Housing Units Occupied Housing Units\n",
        "\n",
        "    2008  30%   70%                          \n",
        "\t2009 ----- -----\n",
        "\t2010 ----- -----\n",
        "    2011 ----- -----\n",
        "\t2012 ----- -----\n",
        "    2013 ----- -----\n",
        "\t2014 ----- -----\n",
        "  \n",
        "  \n",
        "\n",
        "(3) (10 pts) Calculate and print the valued and years in which the highest number of housing units were vacant and occupied. Print the results in the following format:  \n",
        "\n",
        "                              Year\tValue\n",
        "\tVacant Housing Units\t  -----   -----\n",
        "\tOccupied Housing Units\t-----   -----\n",
        "\n",
        "(4) (10 pts) Calculate the harmonic mean of the total housing units and print it out. You can find the information about harmonic mean here: https://ncalculators.com/statistics/harmonic-mean-calculator.htm"
      ]
    },
    {
      "cell_type": "code",
      "metadata": {
        "id": "lqGYuHBhcsRH"
      },
      "source": [
        "# Your code here\n",
        "\n",
        "\n"
      ],
      "execution_count": null,
      "outputs": []
    }
  ]
}