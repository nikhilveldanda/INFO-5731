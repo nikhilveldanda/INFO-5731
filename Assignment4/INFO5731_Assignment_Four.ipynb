{
  "nbformat": 4,
  "nbformat_minor": 0,
  "metadata": {
    "colab": {
      "name": "INFO5731_Assignment_Four.ipynb",
      "provenance": [],
      "collapsed_sections": [],
      "include_colab_link": true
    },
    "kernelspec": {
      "display_name": "Python 3",
      "language": "python",
      "name": "python3"
    },
    "language_info": {
      "codemirror_mode": {
        "name": "ipython",
        "version": 3
      },
      "file_extension": ".py",
      "mimetype": "text/x-python",
      "name": "python",
      "nbconvert_exporter": "python",
      "pygments_lexer": "ipython3",
      "version": "3.8.5"
    }
  },
  "cells": [
    {
      "cell_type": "markdown",
      "metadata": {
        "id": "view-in-github",
        "colab_type": "text"
      },
      "source": [
        "<a href=\"https://colab.research.google.com/github/nikhilveldanda/INFO-5731/blob/main/Assignment4/INFO5731_Assignment_Four.ipynb\" target=\"_parent\"><img src=\"https://colab.research.google.com/assets/colab-badge.svg\" alt=\"Open In Colab\"/></a>"
      ]
    },
    {
      "cell_type": "markdown",
      "metadata": {
        "id": "USSdXHuqnwv9"
      },
      "source": [
        "# **INFO5731 Assignment Four**\n",
        "\n",
        "In this assignment, you are required to conduct topic modeling, sentiment analysis based on **the dataset you created from assignment three**."
      ]
    },
    {
      "cell_type": "markdown",
      "metadata": {
        "id": "YWxodXh5n4xF"
      },
      "source": [
        "# **Question 1: Topic Modeling**"
      ]
    },
    {
      "cell_type": "markdown",
      "metadata": {
        "id": "TenBkDJ5n95k"
      },
      "source": [
        "(30 points). This question is designed to help you develop a feel for the way topic modeling works, the connection to the human meanings of documents. Based on the dataset from assignment three, write a python program to **identify the top 10 topics in the dataset**. Before answering this question, please review the materials in lesson 8, especially the code for LDA and LSA. The following information should be reported:\n",
        "\n",
        "(1) Features (top n-gram phrases) used for topic modeling.\n",
        "\n",
        "(2) Top 10 clusters for topic modeling.\n",
        "\n",
        "(3) Summarize and describe the topic for each cluster. \n"
      ]
    },
    {
      "cell_type": "code",
      "metadata": {
        "id": "7UhCYcE78AwF",
        "colab": {
          "base_uri": "https://localhost:8080/"
        },
        "outputId": "0953ee8c-0596-4146-e21e-184b6818a539"
      },
      "source": [
        "!pip install selenium\n",
        "!apt install chromium-chromedriver\n",
        "!cp /usr/lib/chromium-browser/chromedriver /usr/bin\n",
        "import sys\n",
        "sys.path.insert(0,'/usr/lib/chromium-browser/chromedriver')\n",
        "from selenium import webdriver\n",
        "chrome_options = webdriver.ChromeOptions()\n",
        "chrome_options.add_argument('--headless')\n",
        "chrome_options.add_argument('--no-sandbox')\n",
        "chrome_options.add_argument('--disable-dev-shm-usage')\n",
        "driver = webdriver.Chrome('chromedriver',chrome_options=chrome_options)"
      ],
      "execution_count": 43,
      "outputs": [
        {
          "output_type": "stream",
          "name": "stdout",
          "text": [
            "Requirement already satisfied: selenium in /usr/local/lib/python3.7/dist-packages (4.1.0)\n",
            "Requirement already satisfied: trio-websocket~=0.9 in /usr/local/lib/python3.7/dist-packages (from selenium) (0.9.2)\n",
            "Requirement already satisfied: trio~=0.17 in /usr/local/lib/python3.7/dist-packages (from selenium) (0.19.0)\n",
            "Requirement already satisfied: urllib3[secure]~=1.26 in /usr/local/lib/python3.7/dist-packages (from selenium) (1.26.7)\n",
            "Requirement already satisfied: sortedcontainers in /usr/local/lib/python3.7/dist-packages (from trio~=0.17->selenium) (2.4.0)\n",
            "Requirement already satisfied: async-generator>=1.9 in /usr/local/lib/python3.7/dist-packages (from trio~=0.17->selenium) (1.10)\n",
            "Requirement already satisfied: idna in /usr/local/lib/python3.7/dist-packages (from trio~=0.17->selenium) (2.10)\n",
            "Requirement already satisfied: sniffio in /usr/local/lib/python3.7/dist-packages (from trio~=0.17->selenium) (1.2.0)\n",
            "Requirement already satisfied: outcome in /usr/local/lib/python3.7/dist-packages (from trio~=0.17->selenium) (1.1.0)\n",
            "Requirement already satisfied: attrs>=19.2.0 in /usr/local/lib/python3.7/dist-packages (from trio~=0.17->selenium) (21.2.0)\n",
            "Requirement already satisfied: wsproto>=0.14 in /usr/local/lib/python3.7/dist-packages (from trio-websocket~=0.9->selenium) (1.0.0)\n",
            "Requirement already satisfied: pyOpenSSL>=0.14 in /usr/local/lib/python3.7/dist-packages (from urllib3[secure]~=1.26->selenium) (21.0.0)\n",
            "Requirement already satisfied: cryptography>=1.3.4 in /usr/local/lib/python3.7/dist-packages (from urllib3[secure]~=1.26->selenium) (36.0.0)\n",
            "Requirement already satisfied: certifi in /usr/local/lib/python3.7/dist-packages (from urllib3[secure]~=1.26->selenium) (2021.10.8)\n",
            "Requirement already satisfied: cffi>=1.12 in /usr/local/lib/python3.7/dist-packages (from cryptography>=1.3.4->urllib3[secure]~=1.26->selenium) (1.15.0)\n",
            "Requirement already satisfied: pycparser in /usr/local/lib/python3.7/dist-packages (from cffi>=1.12->cryptography>=1.3.4->urllib3[secure]~=1.26->selenium) (2.21)\n",
            "Requirement already satisfied: six>=1.5.2 in /usr/local/lib/python3.7/dist-packages (from pyOpenSSL>=0.14->urllib3[secure]~=1.26->selenium) (1.15.0)\n",
            "Requirement already satisfied: h11<1,>=0.9.0 in /usr/local/lib/python3.7/dist-packages (from wsproto>=0.14->trio-websocket~=0.9->selenium) (0.12.0)\n",
            "Reading package lists... Done\n",
            "Building dependency tree       \n",
            "Reading state information... Done\n",
            "chromium-chromedriver is already the newest version (95.0.4638.69-0ubuntu0.18.04.1).\n",
            "0 upgraded, 0 newly installed, 0 to remove and 37 not upgraded.\n",
            "cp: '/usr/lib/chromium-browser/chromedriver' and '/usr/bin/chromedriver' are the same file\n"
          ]
        },
        {
          "output_type": "stream",
          "name": "stderr",
          "text": [
            "/usr/local/lib/python3.7/dist-packages/ipykernel_launcher.py:11: DeprecationWarning: use options instead of chrome_options\n",
            "  # This is added back by InteractiveShellApp.init_path()\n"
          ]
        }
      ]
    },
    {
      "cell_type": "code",
      "metadata": {
        "id": "KPlyL84ZRdVZ"
      },
      "source": [
        "import pandas as pd \n",
        "# Import Selenium and its sub libraries\n",
        "import selenium \n",
        "from selenium import webdriver\n",
        "# Import BS4\n",
        "import requests\n",
        "from bs4 import BeautifulSoup\n",
        "from pandas.core.frame import DataFrame\n",
        "import re"
      ],
      "execution_count": 44,
      "outputs": []
    },
    {
      "cell_type": "code",
      "metadata": {
        "colab": {
          "base_uri": "https://localhost:8080/"
        },
        "id": "K8Z1EpWsRdYD",
        "outputId": "bf9451df-9581-4556-93c3-209cf67f3b0e"
      },
      "source": [
        "import nltk\n",
        "nltk.download(\"all\")"
      ],
      "execution_count": 45,
      "outputs": [
        {
          "output_type": "stream",
          "name": "stdout",
          "text": [
            "[nltk_data] Downloading collection 'all'\n",
            "[nltk_data]    | \n",
            "[nltk_data]    | Downloading package abc to /root/nltk_data...\n",
            "[nltk_data]    |   Package abc is already up-to-date!\n",
            "[nltk_data]    | Downloading package alpino to /root/nltk_data...\n",
            "[nltk_data]    |   Package alpino is already up-to-date!\n",
            "[nltk_data]    | Downloading package biocreative_ppi to\n",
            "[nltk_data]    |     /root/nltk_data...\n",
            "[nltk_data]    |   Package biocreative_ppi is already up-to-date!\n",
            "[nltk_data]    | Downloading package brown to /root/nltk_data...\n",
            "[nltk_data]    |   Package brown is already up-to-date!\n",
            "[nltk_data]    | Downloading package brown_tei to /root/nltk_data...\n",
            "[nltk_data]    |   Package brown_tei is already up-to-date!\n",
            "[nltk_data]    | Downloading package cess_cat to /root/nltk_data...\n",
            "[nltk_data]    |   Package cess_cat is already up-to-date!\n",
            "[nltk_data]    | Downloading package cess_esp to /root/nltk_data...\n",
            "[nltk_data]    |   Package cess_esp is already up-to-date!\n",
            "[nltk_data]    | Downloading package chat80 to /root/nltk_data...\n",
            "[nltk_data]    |   Package chat80 is already up-to-date!\n",
            "[nltk_data]    | Downloading package city_database to\n",
            "[nltk_data]    |     /root/nltk_data...\n",
            "[nltk_data]    |   Package city_database is already up-to-date!\n",
            "[nltk_data]    | Downloading package cmudict to /root/nltk_data...\n",
            "[nltk_data]    |   Package cmudict is already up-to-date!\n",
            "[nltk_data]    | Downloading package comparative_sentences to\n",
            "[nltk_data]    |     /root/nltk_data...\n",
            "[nltk_data]    |   Package comparative_sentences is already up-to-\n",
            "[nltk_data]    |       date!\n",
            "[nltk_data]    | Downloading package comtrans to /root/nltk_data...\n",
            "[nltk_data]    |   Package comtrans is already up-to-date!\n",
            "[nltk_data]    | Downloading package conll2000 to /root/nltk_data...\n",
            "[nltk_data]    |   Package conll2000 is already up-to-date!\n",
            "[nltk_data]    | Downloading package conll2002 to /root/nltk_data...\n",
            "[nltk_data]    |   Package conll2002 is already up-to-date!\n",
            "[nltk_data]    | Downloading package conll2007 to /root/nltk_data...\n",
            "[nltk_data]    |   Package conll2007 is already up-to-date!\n",
            "[nltk_data]    | Downloading package crubadan to /root/nltk_data...\n",
            "[nltk_data]    |   Package crubadan is already up-to-date!\n",
            "[nltk_data]    | Downloading package dependency_treebank to\n",
            "[nltk_data]    |     /root/nltk_data...\n",
            "[nltk_data]    |   Package dependency_treebank is already up-to-date!\n",
            "[nltk_data]    | Downloading package dolch to /root/nltk_data...\n",
            "[nltk_data]    |   Package dolch is already up-to-date!\n",
            "[nltk_data]    | Downloading package europarl_raw to\n",
            "[nltk_data]    |     /root/nltk_data...\n",
            "[nltk_data]    |   Package europarl_raw is already up-to-date!\n",
            "[nltk_data]    | Downloading package floresta to /root/nltk_data...\n",
            "[nltk_data]    |   Package floresta is already up-to-date!\n",
            "[nltk_data]    | Downloading package framenet_v15 to\n",
            "[nltk_data]    |     /root/nltk_data...\n",
            "[nltk_data]    |   Package framenet_v15 is already up-to-date!\n",
            "[nltk_data]    | Downloading package framenet_v17 to\n",
            "[nltk_data]    |     /root/nltk_data...\n",
            "[nltk_data]    |   Package framenet_v17 is already up-to-date!\n",
            "[nltk_data]    | Downloading package gazetteers to /root/nltk_data...\n",
            "[nltk_data]    |   Package gazetteers is already up-to-date!\n",
            "[nltk_data]    | Downloading package genesis to /root/nltk_data...\n",
            "[nltk_data]    |   Package genesis is already up-to-date!\n",
            "[nltk_data]    | Downloading package gutenberg to /root/nltk_data...\n",
            "[nltk_data]    |   Package gutenberg is already up-to-date!\n",
            "[nltk_data]    | Downloading package ieer to /root/nltk_data...\n",
            "[nltk_data]    |   Package ieer is already up-to-date!\n",
            "[nltk_data]    | Downloading package inaugural to /root/nltk_data...\n",
            "[nltk_data]    |   Package inaugural is already up-to-date!\n",
            "[nltk_data]    | Downloading package indian to /root/nltk_data...\n",
            "[nltk_data]    |   Package indian is already up-to-date!\n",
            "[nltk_data]    | Downloading package jeita to /root/nltk_data...\n",
            "[nltk_data]    |   Package jeita is already up-to-date!\n",
            "[nltk_data]    | Downloading package kimmo to /root/nltk_data...\n",
            "[nltk_data]    |   Package kimmo is already up-to-date!\n",
            "[nltk_data]    | Downloading package knbc to /root/nltk_data...\n",
            "[nltk_data]    |   Package knbc is already up-to-date!\n",
            "[nltk_data]    | Downloading package lin_thesaurus to\n",
            "[nltk_data]    |     /root/nltk_data...\n",
            "[nltk_data]    |   Package lin_thesaurus is already up-to-date!\n",
            "[nltk_data]    | Downloading package mac_morpho to /root/nltk_data...\n",
            "[nltk_data]    |   Package mac_morpho is already up-to-date!\n",
            "[nltk_data]    | Downloading package machado to /root/nltk_data...\n",
            "[nltk_data]    |   Package machado is already up-to-date!\n",
            "[nltk_data]    | Downloading package masc_tagged to /root/nltk_data...\n",
            "[nltk_data]    |   Package masc_tagged is already up-to-date!\n",
            "[nltk_data]    | Downloading package moses_sample to\n",
            "[nltk_data]    |     /root/nltk_data...\n",
            "[nltk_data]    |   Package moses_sample is already up-to-date!\n",
            "[nltk_data]    | Downloading package movie_reviews to\n",
            "[nltk_data]    |     /root/nltk_data...\n",
            "[nltk_data]    |   Package movie_reviews is already up-to-date!\n",
            "[nltk_data]    | Downloading package names to /root/nltk_data...\n",
            "[nltk_data]    |   Package names is already up-to-date!\n",
            "[nltk_data]    | Downloading package nombank.1.0 to /root/nltk_data...\n",
            "[nltk_data]    |   Package nombank.1.0 is already up-to-date!\n",
            "[nltk_data]    | Downloading package nps_chat to /root/nltk_data...\n",
            "[nltk_data]    |   Package nps_chat is already up-to-date!\n",
            "[nltk_data]    | Downloading package omw to /root/nltk_data...\n",
            "[nltk_data]    |   Package omw is already up-to-date!\n",
            "[nltk_data]    | Downloading package opinion_lexicon to\n",
            "[nltk_data]    |     /root/nltk_data...\n",
            "[nltk_data]    |   Package opinion_lexicon is already up-to-date!\n",
            "[nltk_data]    | Downloading package paradigms to /root/nltk_data...\n",
            "[nltk_data]    |   Package paradigms is already up-to-date!\n",
            "[nltk_data]    | Downloading package pil to /root/nltk_data...\n",
            "[nltk_data]    |   Package pil is already up-to-date!\n",
            "[nltk_data]    | Downloading package pl196x to /root/nltk_data...\n",
            "[nltk_data]    |   Package pl196x is already up-to-date!\n",
            "[nltk_data]    | Downloading package ppattach to /root/nltk_data...\n",
            "[nltk_data]    |   Package ppattach is already up-to-date!\n",
            "[nltk_data]    | Downloading package problem_reports to\n",
            "[nltk_data]    |     /root/nltk_data...\n",
            "[nltk_data]    |   Package problem_reports is already up-to-date!\n",
            "[nltk_data]    | Downloading package propbank to /root/nltk_data...\n",
            "[nltk_data]    |   Package propbank is already up-to-date!\n",
            "[nltk_data]    | Downloading package ptb to /root/nltk_data...\n",
            "[nltk_data]    |   Package ptb is already up-to-date!\n",
            "[nltk_data]    | Downloading package product_reviews_1 to\n",
            "[nltk_data]    |     /root/nltk_data...\n",
            "[nltk_data]    |   Package product_reviews_1 is already up-to-date!\n",
            "[nltk_data]    | Downloading package product_reviews_2 to\n",
            "[nltk_data]    |     /root/nltk_data...\n",
            "[nltk_data]    |   Package product_reviews_2 is already up-to-date!\n",
            "[nltk_data]    | Downloading package pros_cons to /root/nltk_data...\n",
            "[nltk_data]    |   Package pros_cons is already up-to-date!\n",
            "[nltk_data]    | Downloading package qc to /root/nltk_data...\n",
            "[nltk_data]    |   Package qc is already up-to-date!\n",
            "[nltk_data]    | Downloading package reuters to /root/nltk_data...\n",
            "[nltk_data]    |   Package reuters is already up-to-date!\n",
            "[nltk_data]    | Downloading package rte to /root/nltk_data...\n",
            "[nltk_data]    |   Package rte is already up-to-date!\n",
            "[nltk_data]    | Downloading package semcor to /root/nltk_data...\n",
            "[nltk_data]    |   Package semcor is already up-to-date!\n",
            "[nltk_data]    | Downloading package senseval to /root/nltk_data...\n",
            "[nltk_data]    |   Package senseval is already up-to-date!\n",
            "[nltk_data]    | Downloading package sentiwordnet to\n",
            "[nltk_data]    |     /root/nltk_data...\n",
            "[nltk_data]    |   Package sentiwordnet is already up-to-date!\n",
            "[nltk_data]    | Downloading package sentence_polarity to\n",
            "[nltk_data]    |     /root/nltk_data...\n",
            "[nltk_data]    |   Package sentence_polarity is already up-to-date!\n",
            "[nltk_data]    | Downloading package shakespeare to /root/nltk_data...\n",
            "[nltk_data]    |   Package shakespeare is already up-to-date!\n",
            "[nltk_data]    | Downloading package sinica_treebank to\n",
            "[nltk_data]    |     /root/nltk_data...\n",
            "[nltk_data]    |   Package sinica_treebank is already up-to-date!\n",
            "[nltk_data]    | Downloading package smultron to /root/nltk_data...\n",
            "[nltk_data]    |   Package smultron is already up-to-date!\n",
            "[nltk_data]    | Downloading package state_union to /root/nltk_data...\n",
            "[nltk_data]    |   Package state_union is already up-to-date!\n",
            "[nltk_data]    | Downloading package stopwords to /root/nltk_data...\n",
            "[nltk_data]    |   Package stopwords is already up-to-date!\n",
            "[nltk_data]    | Downloading package subjectivity to\n",
            "[nltk_data]    |     /root/nltk_data...\n",
            "[nltk_data]    |   Package subjectivity is already up-to-date!\n",
            "[nltk_data]    | Downloading package swadesh to /root/nltk_data...\n",
            "[nltk_data]    |   Package swadesh is already up-to-date!\n",
            "[nltk_data]    | Downloading package switchboard to /root/nltk_data...\n",
            "[nltk_data]    |   Package switchboard is already up-to-date!\n",
            "[nltk_data]    | Downloading package timit to /root/nltk_data...\n",
            "[nltk_data]    |   Package timit is already up-to-date!\n",
            "[nltk_data]    | Downloading package toolbox to /root/nltk_data...\n",
            "[nltk_data]    |   Package toolbox is already up-to-date!\n",
            "[nltk_data]    | Downloading package treebank to /root/nltk_data...\n",
            "[nltk_data]    |   Package treebank is already up-to-date!\n",
            "[nltk_data]    | Downloading package twitter_samples to\n",
            "[nltk_data]    |     /root/nltk_data...\n",
            "[nltk_data]    |   Package twitter_samples is already up-to-date!\n",
            "[nltk_data]    | Downloading package udhr to /root/nltk_data...\n",
            "[nltk_data]    |   Package udhr is already up-to-date!\n",
            "[nltk_data]    | Downloading package udhr2 to /root/nltk_data...\n",
            "[nltk_data]    |   Package udhr2 is already up-to-date!\n",
            "[nltk_data]    | Downloading package unicode_samples to\n",
            "[nltk_data]    |     /root/nltk_data...\n",
            "[nltk_data]    |   Package unicode_samples is already up-to-date!\n",
            "[nltk_data]    | Downloading package universal_treebanks_v20 to\n",
            "[nltk_data]    |     /root/nltk_data...\n",
            "[nltk_data]    |   Package universal_treebanks_v20 is already up-to-\n",
            "[nltk_data]    |       date!\n",
            "[nltk_data]    | Downloading package verbnet to /root/nltk_data...\n",
            "[nltk_data]    |   Package verbnet is already up-to-date!\n",
            "[nltk_data]    | Downloading package verbnet3 to /root/nltk_data...\n",
            "[nltk_data]    |   Package verbnet3 is already up-to-date!\n",
            "[nltk_data]    | Downloading package webtext to /root/nltk_data...\n",
            "[nltk_data]    |   Package webtext is already up-to-date!\n",
            "[nltk_data]    | Downloading package wordnet to /root/nltk_data...\n",
            "[nltk_data]    |   Package wordnet is already up-to-date!\n",
            "[nltk_data]    | Downloading package wordnet31 to /root/nltk_data...\n",
            "[nltk_data]    |   Package wordnet31 is already up-to-date!\n",
            "[nltk_data]    | Downloading package wordnet_ic to /root/nltk_data...\n",
            "[nltk_data]    |   Package wordnet_ic is already up-to-date!\n",
            "[nltk_data]    | Downloading package words to /root/nltk_data...\n",
            "[nltk_data]    |   Package words is already up-to-date!\n",
            "[nltk_data]    | Downloading package ycoe to /root/nltk_data...\n",
            "[nltk_data]    |   Package ycoe is already up-to-date!\n",
            "[nltk_data]    | Downloading package rslp to /root/nltk_data...\n",
            "[nltk_data]    |   Package rslp is already up-to-date!\n",
            "[nltk_data]    | Downloading package maxent_treebank_pos_tagger to\n",
            "[nltk_data]    |     /root/nltk_data...\n",
            "[nltk_data]    |   Package maxent_treebank_pos_tagger is already up-\n",
            "[nltk_data]    |       to-date!\n",
            "[nltk_data]    | Downloading package universal_tagset to\n",
            "[nltk_data]    |     /root/nltk_data...\n",
            "[nltk_data]    |   Package universal_tagset is already up-to-date!\n",
            "[nltk_data]    | Downloading package maxent_ne_chunker to\n",
            "[nltk_data]    |     /root/nltk_data...\n",
            "[nltk_data]    |   Package maxent_ne_chunker is already up-to-date!\n",
            "[nltk_data]    | Downloading package punkt to /root/nltk_data...\n",
            "[nltk_data]    |   Package punkt is already up-to-date!\n",
            "[nltk_data]    | Downloading package book_grammars to\n",
            "[nltk_data]    |     /root/nltk_data...\n",
            "[nltk_data]    |   Package book_grammars is already up-to-date!\n",
            "[nltk_data]    | Downloading package sample_grammars to\n",
            "[nltk_data]    |     /root/nltk_data...\n",
            "[nltk_data]    |   Package sample_grammars is already up-to-date!\n",
            "[nltk_data]    | Downloading package spanish_grammars to\n",
            "[nltk_data]    |     /root/nltk_data...\n",
            "[nltk_data]    |   Package spanish_grammars is already up-to-date!\n",
            "[nltk_data]    | Downloading package basque_grammars to\n",
            "[nltk_data]    |     /root/nltk_data...\n",
            "[nltk_data]    |   Package basque_grammars is already up-to-date!\n",
            "[nltk_data]    | Downloading package large_grammars to\n",
            "[nltk_data]    |     /root/nltk_data...\n",
            "[nltk_data]    |   Package large_grammars is already up-to-date!\n",
            "[nltk_data]    | Downloading package tagsets to /root/nltk_data...\n",
            "[nltk_data]    |   Package tagsets is already up-to-date!\n",
            "[nltk_data]    | Downloading package snowball_data to\n",
            "[nltk_data]    |     /root/nltk_data...\n",
            "[nltk_data]    |   Package snowball_data is already up-to-date!\n",
            "[nltk_data]    | Downloading package bllip_wsj_no_aux to\n",
            "[nltk_data]    |     /root/nltk_data...\n",
            "[nltk_data]    |   Package bllip_wsj_no_aux is already up-to-date!\n",
            "[nltk_data]    | Downloading package word2vec_sample to\n",
            "[nltk_data]    |     /root/nltk_data...\n",
            "[nltk_data]    |   Package word2vec_sample is already up-to-date!\n",
            "[nltk_data]    | Downloading package panlex_swadesh to\n",
            "[nltk_data]    |     /root/nltk_data...\n",
            "[nltk_data]    |   Package panlex_swadesh is already up-to-date!\n",
            "[nltk_data]    | Downloading package mte_teip5 to /root/nltk_data...\n",
            "[nltk_data]    |   Package mte_teip5 is already up-to-date!\n",
            "[nltk_data]    | Downloading package averaged_perceptron_tagger to\n",
            "[nltk_data]    |     /root/nltk_data...\n",
            "[nltk_data]    |   Package averaged_perceptron_tagger is already up-\n",
            "[nltk_data]    |       to-date!\n",
            "[nltk_data]    | Downloading package averaged_perceptron_tagger_ru to\n",
            "[nltk_data]    |     /root/nltk_data...\n",
            "[nltk_data]    |   Package averaged_perceptron_tagger_ru is already\n",
            "[nltk_data]    |       up-to-date!\n",
            "[nltk_data]    | Downloading package perluniprops to\n",
            "[nltk_data]    |     /root/nltk_data...\n",
            "[nltk_data]    |   Package perluniprops is already up-to-date!\n",
            "[nltk_data]    | Downloading package nonbreaking_prefixes to\n",
            "[nltk_data]    |     /root/nltk_data...\n",
            "[nltk_data]    |   Package nonbreaking_prefixes is already up-to-date!\n",
            "[nltk_data]    | Downloading package vader_lexicon to\n",
            "[nltk_data]    |     /root/nltk_data...\n",
            "[nltk_data]    |   Package vader_lexicon is already up-to-date!\n",
            "[nltk_data]    | Downloading package porter_test to /root/nltk_data...\n",
            "[nltk_data]    |   Package porter_test is already up-to-date!\n",
            "[nltk_data]    | Downloading package wmt15_eval to /root/nltk_data...\n",
            "[nltk_data]    |   Package wmt15_eval is already up-to-date!\n",
            "[nltk_data]    | Downloading package mwa_ppdb to /root/nltk_data...\n",
            "[nltk_data]    |   Package mwa_ppdb is already up-to-date!\n",
            "[nltk_data]    | \n",
            "[nltk_data]  Done downloading collection all\n"
          ]
        },
        {
          "output_type": "execute_result",
          "data": {
            "text/plain": [
              "True"
            ]
          },
          "metadata": {},
          "execution_count": 45
        }
      ]
    },
    {
      "cell_type": "code",
      "metadata": {
        "colab": {
          "base_uri": "https://localhost:8080/",
          "height": 330
        },
        "id": "PekSgH9jRda1",
        "outputId": "979a1484-11b5-40c4-ed75-394e060835df"
      },
      "source": [
        "def get_reviews(url) -> DataFrame:\n",
        "  driver.get(url)\n",
        "  driver.implicitly_wait(1) \n",
        "  # Set up action to click on 'load more' button\n",
        "  page = 1\n",
        "  while page<50:  \n",
        "      try:\n",
        "          load_more = driver.find_element_by_id('load-more-trigger')\n",
        "          load_more.click()\n",
        "          page+=1 \n",
        "      except:\n",
        "          break\n",
        "  # After fully expand the page, we will grab data from whole website\n",
        "  review = driver.find_elements_by_class_name('review-container')\n",
        "\n",
        "  title = []\n",
        "  content = []\n",
        "  for n in range(len(review)):\n",
        "      try:\n",
        "          #Some reviewers only give review text or rating without the other, \n",
        "          #so we use try/except here to make sure each block of content must has all the element before append them to the list\n",
        "          #Check if each review has all the elements\n",
        "          ftitle = review[n].find_element_by_class_name('title').text\n",
        "          fcontent = review[n].find_element_by_class_name('content').get_attribute(\"textContent\").strip()\n",
        "\n",
        "          #Then add them to the respective list\n",
        "          title.append(ftitle)\n",
        "          content.append(fcontent)\n",
        "      except:\n",
        "          continue\n",
        "  #Build data dictionary for dataframe\n",
        "  data = {\n",
        "          'title': title,\n",
        "          'text' : content\n",
        "          \n",
        "      }\n",
        "  #Build dataframe for each movie to export\n",
        "  review = pd.DataFrame(data = data)\n",
        "  return review\n",
        "data = get_reviews(\"https://www.imdb.com/title/tt6751668/reviews?ref_=tt_urv\")\n",
        "data.head()\n"
      ],
      "execution_count": 95,
      "outputs": [
        {
          "output_type": "stream",
          "name": "stderr",
          "text": [
            "/usr/local/lib/python3.7/dist-packages/ipykernel_launcher.py:8: DeprecationWarning: find_element_by_* commands are deprecated. Please use find_element() instead\n",
            "  \n",
            "/usr/local/lib/python3.7/dist-packages/ipykernel_launcher.py:14: DeprecationWarning: find_elements_by_* commands are deprecated. Please use find_elements() instead\n",
            "  \n",
            "/usr/local/lib/python3.7/dist-packages/selenium/webdriver/remote/webelement.py:446: UserWarning: find_element_by_* commands are deprecated. Please use find_element() instead\n",
            "  warnings.warn(\"find_element_by_* commands are deprecated. Please use find_element() instead\")\n"
          ]
        },
        {
          "output_type": "execute_result",
          "data": {
            "text/html": [
              "<div>\n",
              "<style scoped>\n",
              "    .dataframe tbody tr th:only-of-type {\n",
              "        vertical-align: middle;\n",
              "    }\n",
              "\n",
              "    .dataframe tbody tr th {\n",
              "        vertical-align: top;\n",
              "    }\n",
              "\n",
              "    .dataframe thead th {\n",
              "        text-align: right;\n",
              "    }\n",
              "</style>\n",
              "<table border=\"1\" class=\"dataframe\">\n",
              "  <thead>\n",
              "    <tr style=\"text-align: right;\">\n",
              "      <th></th>\n",
              "      <th>title</th>\n",
              "      <th>text</th>\n",
              "    </tr>\n",
              "  </thead>\n",
              "  <tbody>\n",
              "    <tr>\n",
              "      <th>0</th>\n",
              "      <td>I loved the first 90%....but the last might be...</td>\n",
              "      <td>I was able to see \"Parasite\" a few days ago at...</td>\n",
              "    </tr>\n",
              "    <tr>\n",
              "      <th>1</th>\n",
              "      <td>Thoroughly entertaining</td>\n",
              "      <td>PARASITE is an excellent effort from Korean di...</td>\n",
              "    </tr>\n",
              "    <tr>\n",
              "      <th>2</th>\n",
              "      <td>class warfare</td>\n",
              "      <td>The Kim family leeches off others and lives in...</td>\n",
              "    </tr>\n",
              "    <tr>\n",
              "      <th>3</th>\n",
              "      <td>Totally Unique</td>\n",
              "      <td>Usually I don't read reviews before seeing a f...</td>\n",
              "    </tr>\n",
              "    <tr>\n",
              "      <th>4</th>\n",
              "      <td>Fairly entertaining film, but one of 2019's be...</td>\n",
              "      <td>Okay, so these slightly over two hours are \"Pa...</td>\n",
              "    </tr>\n",
              "  </tbody>\n",
              "</table>\n",
              "</div>"
            ],
            "text/plain": [
              "                                               title                                               text\n",
              "0  I loved the first 90%....but the last might be...  I was able to see \"Parasite\" a few days ago at...\n",
              "1                            Thoroughly entertaining  PARASITE is an excellent effort from Korean di...\n",
              "2                                      class warfare  The Kim family leeches off others and lives in...\n",
              "3                                     Totally Unique  Usually I don't read reviews before seeing a f...\n",
              "4  Fairly entertaining film, but one of 2019's be...  Okay, so these slightly over two hours are \"Pa..."
            ]
          },
          "metadata": {},
          "execution_count": 95
        }
      ]
    },
    {
      "cell_type": "code",
      "metadata": {
        "id": "lc3yHCivRdgK"
      },
      "source": [
        "from nltk.tokenize import RegexpTokenizer\n",
        "from nltk.stem.porter import PorterStemmer\n",
        "tokenizer = RegexpTokenizer(r'\\w+')\n",
        "p_stemmer = PorterStemmer()\n",
        "from nltk.corpus import stopwords\n",
        "en_stop = stopwords.words('english')"
      ],
      "execution_count": 96,
      "outputs": []
    },
    {
      "cell_type": "code",
      "metadata": {
        "id": "5TMrTTQ9RdkW"
      },
      "source": [
        "data['Lower Case'] = data['text'].apply(lambda x: \" \".join(x.lower() for x in str(x).split()))\n",
        "data['Tokenization'] = data['Lower Case'].apply(lambda x: tokenizer.tokenize(x))\n",
        "data['Tokens'] = data['Tokenization'].apply(lambda x: [i for i in x if not i in en_stop])\n",
        "data['Stemming'] = data['Tokens'].apply(lambda x: [p_stemmer.stem(i) for i in x])\n"
      ],
      "execution_count": 97,
      "outputs": []
    },
    {
      "cell_type": "code",
      "metadata": {
        "id": "hAosF-QHRdnz"
      },
      "source": [
        "texts = []\n",
        "for line in data['Stemming']:\n",
        "  texts.append(line)\n"
      ],
      "execution_count": 50,
      "outputs": []
    },
    {
      "cell_type": "code",
      "metadata": {
        "colab": {
          "base_uri": "https://localhost:8080/"
        },
        "id": "PRZD7KfPTBCi",
        "outputId": "47819562-99ce-447e-9e1f-fa102caf3f76"
      },
      "source": [
        "# Bigrams and Trigrams\n",
        "from gensim import corpora, models\n",
        "bigram = models.Phrases(texts, min_count=5, threshold=100)\n",
        "trigram = models.Phrases(bigram[texts], threshold=100)\n",
        "bigram_mod = models.phrases.Phraser(bigram)\n",
        "trigram_mod = models.phrases.Phraser(trigram)\n",
        "print(trigram_mod[bigram_mod[texts[0]]])\n"
      ],
      "execution_count": 51,
      "outputs": [
        {
          "output_type": "stream",
          "name": "stderr",
          "text": [
            "/usr/local/lib/python3.7/dist-packages/gensim/models/phrases.py:598: UserWarning: For a faster implementation, use the gensim.models.phrases.Phraser class\n",
            "  warnings.warn(\"For a faster implementation, use the gensim.models.phrases.Phraser class\")\n"
          ]
        },
        {
          "output_type": "stream",
          "name": "stdout",
          "text": [
            "['abl', 'see', 'parasit', 'day', 'ago', 'philadelphia', 'film', 'festiv', 'mani', 'peopl', 'love', 'film', 'daughter', 'saw', 'think', 'product', 'valu', 'excel', 'end', 'chang', 'overal', 'feel', 'movi', 'untl', 'end', 'like', 'much', 'ultra', 'violent', 'climax', 'left', 'bit', 'cold', 'experi', 'film', 'realli', 'depend', 'whether', 'take', 'violenc', 'impact', 'instead', 'talk', 'plot', 'great', 'film', 'want', 'focu', 'violenc', 'daughter', 'felt', 'violenc', 'extrem', 'need', 'plot', 'see', 'knive', 'plung', 'peopl', 'close', 'rang', 'see', 'giant', 'rock', 'smash', 'ultra', 'realist', 'person', 'head', 'turn', 'stomach', 'could', 'violenc', 'without', 'extrem', 'person', 'close', 'overal', 'still', 'good', 'film', 'one', 'realli', 'wish', 'seen']\n"
          ]
        }
      ]
    },
    {
      "cell_type": "code",
      "metadata": {
        "id": "cEyXwtsATBF4"
      },
      "source": [
        "def make_bigrams(texts):\n",
        "    return [bigram_mod[doc] for doc in texts]\n",
        "def make_trigrams(texts):\n",
        "    return [trigram_mod[bigram_mod[doc]] for doc in texts]\n",
        "def lemmatization(texts, allowed_postags=['NOUN', 'ADJ', 'VERB', 'ADV']):\n",
        "    texts_out = []\n",
        "    for sent in texts:\n",
        "        doc = nlp(\" \".join(sent)) \n",
        "        texts_out.append([token.lemma_ for token in doc if token.pos_ in allowed_postags])\n",
        "    return texts_out\n"
      ],
      "execution_count": 52,
      "outputs": []
    },
    {
      "cell_type": "code",
      "metadata": {
        "colab": {
          "base_uri": "https://localhost:8080/"
        },
        "id": "f2-YH7KQTBIG",
        "outputId": "ef5fd5d7-80c7-4686-f4e3-dcf9822dbc9a"
      },
      "source": [
        "import spacy\n",
        "data_words_bigrams = make_bigrams(texts)\n",
        "nlp = spacy.load('en', disable=['parser', 'ner'])\n",
        "data_lemmatized = lemmatization(data_words_bigrams, allowed_postags=['NOUN', 'ADJ', 'VERB', 'ADV'])\n",
        "print(data_lemmatized[:1])\n"
      ],
      "execution_count": 53,
      "outputs": [
        {
          "output_type": "stream",
          "name": "stdout",
          "text": [
            "[['see', 'day', 'ago', 'film', 'daughter', 'see', 'think', 'product', 'overal', 'feel', 'movi', 'untl', 'end', 'much', 'ultra', 'violent', 'climax', 'leave', 'bit', 'cold', 'film', 'realli', 'depend', 'take', 'violenc', 'impact', 'instead', 'talk', 'plot', 'film', 'want', 'daughter', 'feel', 'extrem', 'need', 'plot', 'see', 'see', 'giant', 'rock', 'person', 'head', 'turn', 'stomach', 'could', 'violenc', 'extrem', 'person', 'close', 'overal', 'still', 'good', 'film', 'realli', 'wish', 'see']]\n"
          ]
        }
      ]
    },
    {
      "cell_type": "code",
      "metadata": {
        "colab": {
          "base_uri": "https://localhost:8080/"
        },
        "id": "jNP1AFO9TBKo",
        "outputId": "d9fc5f33-af66-46f0-f14c-aa5d8487fc32"
      },
      "source": [
        "# Preparing Corpus and Dictionary\n",
        "id2word = corpora.Dictionary(data_lemmatized)\n",
        "texts = data_lemmatized\n",
        "corpus = [id2word.doc2bow(text) for text in texts]\n",
        "print(corpus[:1])\n",
        "[[(id2word[id], freq) for id, freq in cp] for cp in corpus[:1]]\n"
      ],
      "execution_count": 54,
      "outputs": [
        {
          "output_type": "stream",
          "name": "stdout",
          "text": [
            "[[(0, 1), (1, 1), (2, 1), (3, 1), (4, 1), (5, 1), (6, 2), (7, 1), (8, 1), (9, 1), (10, 2), (11, 2), (12, 4), (13, 1), (14, 1), (15, 1), (16, 1), (17, 1), (18, 1), (19, 1), (20, 1), (21, 1), (22, 2), (23, 2), (24, 2), (25, 1), (26, 2), (27, 1), (28, 5), (29, 1), (30, 1), (31, 1), (32, 1), (33, 1), (34, 1), (35, 1), (36, 1), (37, 2), (38, 1), (39, 1), (40, 1)]]\n"
          ]
        },
        {
          "output_type": "execute_result",
          "data": {
            "text/plain": [
              "[[('ago', 1),\n",
              "  ('bit', 1),\n",
              "  ('climax', 1),\n",
              "  ('close', 1),\n",
              "  ('cold', 1),\n",
              "  ('could', 1),\n",
              "  ('daughter', 2),\n",
              "  ('day', 1),\n",
              "  ('depend', 1),\n",
              "  ('end', 1),\n",
              "  ('extrem', 2),\n",
              "  ('feel', 2),\n",
              "  ('film', 4),\n",
              "  ('giant', 1),\n",
              "  ('good', 1),\n",
              "  ('head', 1),\n",
              "  ('impact', 1),\n",
              "  ('instead', 1),\n",
              "  ('leave', 1),\n",
              "  ('movi', 1),\n",
              "  ('much', 1),\n",
              "  ('need', 1),\n",
              "  ('overal', 2),\n",
              "  ('person', 2),\n",
              "  ('plot', 2),\n",
              "  ('product', 1),\n",
              "  ('realli', 2),\n",
              "  ('rock', 1),\n",
              "  ('see', 5),\n",
              "  ('still', 1),\n",
              "  ('stomach', 1),\n",
              "  ('take', 1),\n",
              "  ('talk', 1),\n",
              "  ('think', 1),\n",
              "  ('turn', 1),\n",
              "  ('ultra', 1),\n",
              "  ('untl', 1),\n",
              "  ('violenc', 2),\n",
              "  ('violent', 1),\n",
              "  ('want', 1),\n",
              "  ('wish', 1)]]"
            ]
          },
          "metadata": {},
          "execution_count": 54
        }
      ]
    },
    {
      "cell_type": "code",
      "metadata": {
        "id": "3MqkVLdbTBN4"
      },
      "source": [
        "# LDA\n",
        "lda_model = models.ldamodel.LdaModel(corpus=corpus,\n",
        "                                           id2word=id2word,\n",
        "                                           num_topics = 20, \n",
        "                                           random_state=100,\n",
        "                                           update_every=1,\n",
        "                                           chunksize=100,\n",
        "                                           passes=10,\n",
        "                                           alpha='auto',\n",
        "                                           per_word_topics=True)\n",
        "\n"
      ],
      "execution_count": 55,
      "outputs": []
    },
    {
      "cell_type": "code",
      "metadata": {
        "colab": {
          "base_uri": "https://localhost:8080/"
        },
        "id": "SJ5ZkA4BTBRz",
        "outputId": "bce1f346-61c8-4116-c267-a2662bda979f"
      },
      "source": [
        "print(lda_model.print_topics())\n",
        "doc_lda = lda_model[corpus]\n"
      ],
      "execution_count": 56,
      "outputs": [
        {
          "output_type": "stream",
          "name": "stdout",
          "text": [
            "[(0, '0.089*\"plan\" + 0.041*\"class\" + 0.025*\"social\" + 0.023*\"relationship\" + 0.020*\"remain\" + 0.018*\"form\" + 0.017*\"mark\" + 0.016*\"conflict\" + 0.016*\"core\" + 0.015*\"director\"'), (1, '0.246*\"help\" + 0.138*\"find\" + 0.136*\"review\" + 0.119*\"sign_vote\" + 0.119*\"permalink\" + 0.033*\"watch\" + 0.021*\"good\" + 0.018*\"movi\" + 0.010*\"hype\" + 0.009*\"great\"'), (2, '0.107*\"poor\" + 0.091*\"rich\" + 0.047*\"famili\" + 0.044*\"live\" + 0.035*\"job\" + 0.030*\"hous\" + 0.026*\"son\" + 0.025*\"man\" + 0.022*\"basement\" + 0.020*\"peopl\"'), (3, '0.037*\"ahead\" + 0.034*\"nonsen\" + 0.027*\"hob\" + 0.021*\"damn\" + 0.019*\"phenoman\" + 0.017*\"accid\" + 0.017*\"honesti\" + 0.016*\"current\" + 0.015*\"quot\" + 0.015*\"pattern\"'), (4, '0.036*\"gap\" + 0.035*\"visit\" + 0.025*\"grotesqu\" + 0.025*\"small\" + 0.023*\"keeper\" + 0.021*\"everyday\" + 0.020*\"locat\" + 0.015*\"match\" + 0.014*\"suck\" + 0.013*\"ugli\"'), (5, '0.049*\"film\" + 0.020*\"good\" + 0.019*\"parasit\" + 0.014*\"see\" + 0.014*\"end\" + 0.013*\"make\" + 0.013*\"get\" + 0.012*\"even\" + 0.011*\"go\" + 0.011*\"think\"'), (6, '0.036*\"somewhat\" + 0.035*\"consequ\" + 0.034*\"fantast\" + 0.031*\"delight\" + 0.024*\"despit\" + 0.020*\"conclus\" + 0.019*\"amount\" + 0.019*\"evil\" + 0.019*\"weapon\" + 0.018*\"recognit\"'), (7, '0.021*\"rain\" + 0.019*\"satir\" + 0.018*\"park\" + 0.016*\"live\" + 0.015*\"excel\" + 0.015*\"victim\" + 0.013*\"depict\" + 0.012*\"valu\" + 0.012*\"push\" + 0.012*\"train\"'), (8, '0.050*\"product\" + 0.050*\"credit\" + 0.027*\"otherwis\" + 0.024*\"foreign_languag\" + 0.022*\"walk\" + 0.021*\"strict\" + 0.019*\"bonghiv\" + 0.019*\"runner\" + 0.019*\"up\" + 0.017*\"greed\"'), (9, '0.053*\"flesh\" + 0.043*\"realiz\" + 0.029*\"flawless\" + 0.024*\"scandal\" + 0.022*\"surreal\" + 0.021*\"popular\" + 0.016*\"reluct\" + 0.014*\"acclaim\" + 0.012*\"suffic\" + 0.009*\"forgiv\"'), (10, '0.036*\"sometim\" + 0.028*\"forget\" + 0.026*\"transform\" + 0.021*\"complain\" + 0.018*\"obscur\" + 0.018*\"condit\" + 0.016*\"mini\" + 0.016*\"echo\" + 0.016*\"south\" + 0.016*\"coat\"'), (11, '0.040*\"prior\" + 0.033*\"execut\" + 0.019*\"sadli\" + 0.018*\"tea\" + 0.017*\"shine\" + 0.017*\"awesom\" + 0.016*\"transcend\" + 0.016*\"exagger\" + 0.016*\"decad\" + 0.015*\"realm\"'), (12, '0.062*\"disappoint\" + 0.034*\"stop\" + 0.032*\"ten\" + 0.030*\"beauti\" + 0.025*\"layer\" + 0.024*\"type\" + 0.018*\"wish\" + 0.018*\"featur\" + 0.018*\"drop\" + 0.017*\"fan\"'), (13, '0.031*\"metaphor\" + 0.029*\"shot\" + 0.025*\"self\" + 0.023*\"hous\" + 0.021*\"use\" + 0.019*\"achiev\" + 0.018*\"add\" + 0.018*\"stage\" + 0.016*\"theme\" + 0.015*\"deliber\"'), (14, '0.053*\"revel\" + 0.039*\"plot\" + 0.035*\"control\" + 0.035*\"maintain\" + 0.032*\"hole\" + 0.023*\"french\" + 0.021*\"dear\" + 0.017*\"realism\" + 0.015*\"ride\" + 0.014*\"household\"'), (15, '0.020*\"sequenc\" + 0.020*\"joke\" + 0.019*\"absorb\" + 0.018*\"bother\" + 0.017*\"knew\" + 0.017*\"numer\" + 0.016*\"straightforward\" + 0.016*\"cynic\" + 0.016*\"decept\" + 0.016*\"loud\"'), (16, '0.033*\"overr\" + 0.033*\"imdb\" + 0.031*\"rave\" + 0.026*\"okay\" + 0.025*\"overhyp\" + 0.022*\"facial\" + 0.020*\"flick\" + 0.018*\"random\" + 0.017*\"unfold\" + 0.015*\"filmmak\"'), (17, '0.052*\"plea\" + 0.038*\"predict\" + 0.033*\"sever\" + 0.028*\"warm\" + 0.028*\"absurd\" + 0.025*\"anyway\" + 0.024*\"rubbish\" + 0.019*\"yesterday\" + 0.018*\"pick\" + 0.017*\"regret\"'), (18, '0.022*\"emot\" + 0.014*\"difficult\" + 0.013*\"non\" + 0.013*\"paint\" + 0.012*\"clearli\" + 0.011*\"beauti\" + 0.011*\"asid\" + 0.011*\"step\" + 0.011*\"artist\" + 0.010*\"moral\"'), (19, '0.139*\"movi\" + 0.046*\"peopl\" + 0.030*\"feel\" + 0.022*\"make\" + 0.021*\"bad\" + 0.021*\"good\" + 0.014*\"rate\" + 0.014*\"well\" + 0.014*\"realli\" + 0.013*\"rich\"')]\n"
          ]
        }
      ]
    },
    {
      "cell_type": "code",
      "metadata": {
        "colab": {
          "base_uri": "https://localhost:8080/"
        },
        "id": "NNOwI-tFTBVD",
        "outputId": "05699c2e-dab1-46c1-d5a6-981325096b01"
      },
      "source": [
        "from gensim.models import CoherenceModel\n",
        "print('\\nPerplexity: ', lda_model.log_perplexity(corpus))\n",
        "coherence_model_lda = CoherenceModel(model=lda_model, texts=data_lemmatized, dictionary=id2word, coherence='c_v')\n",
        "coherence_lda = coherence_model_lda.get_coherence()\n",
        "print('\\nCoherence Score: ', coherence_lda)\n"
      ],
      "execution_count": 57,
      "outputs": [
        {
          "output_type": "stream",
          "name": "stdout",
          "text": [
            "\n",
            "Perplexity:  -6.981664524045597\n",
            "\n",
            "Coherence Score:  0.48290773705040985\n"
          ]
        }
      ]
    },
    {
      "cell_type": "code",
      "metadata": {
        "colab": {
          "base_uri": "https://localhost:8080/"
        },
        "id": "ygRzN-1ATBbP",
        "outputId": "4b27f61e-0e6b-4b98-e4e9-fcdea6c5c878"
      },
      "source": [
        "# LSA \n",
        "lsamodel = models.LsiModel(corpus, num_topics = 20, id2word = id2word)\n",
        "print(lsamodel.print_topics(num_topics = 20))"
      ],
      "execution_count": 58,
      "outputs": [
        {
          "output_type": "stream",
          "name": "stdout",
          "text": [
            "[(0, '0.507*\"film\" + 0.235*\"good\" + 0.231*\"movi\" + 0.193*\"parasit\" + 0.191*\"make\" + 0.170*\"see\" + 0.144*\"get\" + 0.144*\"help\" + 0.134*\"poor\" + 0.134*\"rich\"'), (1, '-0.634*\"help\" + -0.327*\"review\" + -0.318*\"sign_vote\" + -0.318*\"permalink\" + -0.306*\"find\" + 0.287*\"film\" + -0.214*\"movi\" + -0.076*\"watch\" + 0.070*\"parasit\" + 0.055*\"live\"'), (2, '0.684*\"film\" + -0.441*\"movi\" + -0.216*\"rich\" + 0.173*\"help\" + -0.171*\"make\" + -0.161*\"peopl\" + -0.160*\"poor\" + -0.111*\"get\" + -0.109*\"would\" + -0.099*\"even\"'), (3, '0.462*\"movi\" + -0.419*\"rich\" + -0.367*\"poor\" + 0.212*\"good\" + -0.192*\"famili\" + -0.171*\"live\" + -0.168*\"help\" + 0.131*\"feel\" + -0.124*\"hous\" + -0.119*\"son\"'), (4, '-0.455*\"good\" + -0.333*\"poor\" + -0.288*\"rich\" + -0.284*\"movi\" + 0.200*\"go\" + 0.178*\"feel\" + -0.172*\"film\" + 0.146*\"get\" + 0.143*\"would\" + 0.131*\"parasit\"'), (5, '-0.656*\"good\" + 0.286*\"movi\" + 0.261*\"film\" + -0.243*\"parasit\" + 0.180*\"poor\" + 0.169*\"rich\" + 0.169*\"feel\" + -0.115*\"get\" + 0.113*\"make\" + -0.107*\"pictur\"'), (6, '-0.602*\"parasit\" + 0.260*\"get\" + 0.220*\"movi\" + -0.184*\"also\" + -0.167*\"feel\" + 0.159*\"see\" + -0.157*\"poor\" + 0.129*\"son\" + -0.119*\"think\" + 0.118*\"go\"'), (7, '-0.343*\"parasit\" + -0.342*\"movi\" + 0.279*\"would\" + -0.204*\"live\" + 0.192*\"good\" + -0.183*\"famili\" + 0.179*\"feel\" + -0.176*\"park\" + 0.163*\"rich\" + -0.159*\"hous\"'), (8, '-0.496*\"see\" + 0.399*\"make\" + -0.247*\"parasit\" + -0.197*\"watch\" + -0.193*\"famili\" + -0.162*\"say\" + -0.151*\"rich\" + 0.144*\"class\" + 0.142*\"work\" + 0.123*\"good\"'), (9, '-0.378*\"also\" + 0.285*\"parasit\" + -0.252*\"see\" + 0.225*\"get\" + 0.224*\"famili\" + 0.220*\"end\" + 0.212*\"make\" + -0.193*\"live\" + -0.143*\"hous\" + -0.134*\"feel\"'), (10, '0.304*\"feel\" + 0.303*\"end\" + -0.266*\"make\" + -0.209*\"time\" + -0.205*\"watch\" + -0.191*\"rich\" + 0.188*\"famili\" + 0.188*\"also\" + 0.154*\"get\" + 0.136*\"bad\"'), (11, '0.343*\"see\" + -0.320*\"think\" + -0.259*\"go\" + 0.234*\"end\" + 0.201*\"watch\" + -0.200*\"get\" + -0.187*\"say\" + 0.178*\"class\" + -0.143*\"way\" + 0.128*\"well\"'), (12, '-0.437*\"see\" + 0.364*\"watch\" + -0.352*\"make\" + 0.212*\"would\" + -0.161*\"also\" + 0.140*\"hous\" + -0.137*\"work\" + 0.134*\"first\" + 0.129*\"movi\" + 0.125*\"never\"'), (13, '-0.413*\"would\" + 0.354*\"watch\" + 0.227*\"make\" + 0.204*\"feel\" + 0.199*\"go\" + -0.161*\"well\" + -0.155*\"end\" + -0.154*\"movi\" + 0.150*\"good\" + -0.148*\"work\"'), (14, '-0.391*\"time\" + -0.326*\"go\" + 0.319*\"think\" + 0.256*\"get\" + 0.207*\"make\" + -0.191*\"class\" + -0.142*\"come\" + 0.130*\"also\" + 0.128*\"live\" + 0.124*\"peopl\"'), (15, '0.285*\"go\" + 0.204*\"class\" + -0.195*\"first\" + 0.192*\"hous\" + -0.183*\"time\" + 0.181*\"much\" + 0.161*\"get\" + 0.148*\"would\" + 0.144*\"plan\" + 0.144*\"peopl\"'), (16, '-0.332*\"watch\" + -0.288*\"great\" + 0.266*\"even\" + -0.265*\"think\" + 0.219*\"peopl\" + 0.202*\"say\" + -0.186*\"go\" + -0.167*\"end\" + -0.161*\"way\" + 0.161*\"come\"'), (17, '0.346*\"would\" + 0.305*\"famili\" + -0.261*\"end\" + -0.239*\"get\" + -0.230*\"class\" + 0.195*\"hous\" + 0.149*\"go\" + -0.146*\"even\" + 0.143*\"make\" + 0.140*\"well\"'), (18, '-0.240*\"get\" + -0.211*\"poor\" + 0.210*\"say\" + 0.206*\"scene\" + 0.182*\"famili\" + 0.174*\"end\" + -0.171*\"well\" + -0.165*\"work\" + -0.165*\"see\" + -0.154*\"time\"'), (19, '0.367*\"take\" + -0.238*\"first\" + 0.229*\"feel\" + -0.215*\"even\" + -0.213*\"also\" + 0.189*\"end\" + -0.187*\"go\" + 0.175*\"would\" + -0.165*\"great\" + -0.145*\"get\"')]\n"
          ]
        }
      ]
    },
    {
      "cell_type": "markdown",
      "metadata": {
        "id": "qdjd7DcQ4bWf"
      },
      "source": [
        "# LDA\n",
        "one film family ki really two bong kim movie great \n",
        " \n",
        "helpful home original movie son surprises vote even 16 far \n",
        " \n",
        "people well movie helpful rich big watch rock story wants \n",
        " \n",
        "family helpful parasite watch film movie ho bong way wealthy \n",
        "\n",
        "helpful film sign vote found review permalink 10 movie first \n",
        "\n",
        "smell 17 also helpful story get family rich well kim \n",
        "\n",
        "film social new like movie helpful things one glad time \n",
        "\n",
        "ki park family woo kim film taek ho jung parasite \n",
        "\n",
        "helpful 10 movie film vote sign permalink review found excellent \n",
        "\n",
        "helpful movie film review sign vote permalink found one family "
      ]
    },
    {
      "cell_type": "markdown",
      "metadata": {
        "id": "7_mxJx4m6bnn"
      },
      "source": [
        "# LSA\n",
        "film family poor ki parks kims class even park kim strong woo bong movie parasite people one parasites rich house \n",
        "\n",
        "helpful movie film review sign permalink vote found one family good parasite best like story movies watch really great people \n",
        "\n",
        "family helpful great well wealthy cast movie fine interest 10 good need around film intense simple social permalink development vote \n",
        "\n",
        "family parasite film bong helpful movie ho entertaining well class one like joon another despite best way suspense films poor \n",
        "\n",
        "film family tragedy deserved person south recommended totally quite want personal finds see exciting pure ok course films jobs something \n",
        "\n",
        "superb written theme family get mix social serious done commentary geun film poor well hate message comedy become drama great \n",
        "\n",
        "helpful movie 10 film vote many films sign review found permalink best surprises good make drama things one really parasite \n",
        "\n",
        "surprises trying bit well kims housekeeper guess kim admit movie job enjoyed written issue little end really helpful son going \n",
        "\n",
        "family kim ki rich buy father woo mother son better basement girl gets parasite south sister mom would dad member \n",
        "\n",
        "people family garden film far previous apartment window underground nice long also twist horrible con really rock kevin written twists"
      ]
    },
    {
      "cell_type": "code",
      "metadata": {
        "id": "33kuVb4F2qF7"
      },
      "source": [
        "l1 = [(0, '0.507*\"film\" + 0.235*\"good\" + 0.231*\"movi\" + 0.193*\"parasit\" + 0.191*\"make\" + 0.170*\"see\" + 0.144*\"get\" + 0.144*\"help\" + 0.134*\"poor\" + 0.134*\"rich\"'), (1, '-0.634*\"help\" + -0.327*\"review\" + -0.318*\"sign_vote\" + -0.318*\"permalink\" + -0.306*\"find\" + 0.287*\"film\" + -0.214*\"movi\" + -0.076*\"watch\" + 0.070*\"parasit\" + 0.055*\"live\"'), (2, '0.684*\"film\" + -0.441*\"movi\" + -0.216*\"rich\" + 0.173*\"help\" + -0.171*\"make\" + -0.161*\"peopl\" + -0.160*\"poor\" + -0.111*\"get\" + -0.109*\"would\" + -0.099*\"even\"'), (3, '0.462*\"movi\" + -0.419*\"rich\" + -0.367*\"poor\" + 0.212*\"good\" + -0.192*\"famili\" + -0.171*\"live\" + -0.168*\"help\" + 0.131*\"feel\" + -0.124*\"hous\" + -0.119*\"son\"'), (4, '-0.455*\"good\" + -0.333*\"poor\" + -0.288*\"rich\" + -0.284*\"movi\" + 0.200*\"go\" + 0.178*\"feel\" + -0.172*\"film\" + 0.146*\"get\" + 0.143*\"would\" + 0.131*\"parasit\"'), (5, '-0.656*\"good\" + 0.286*\"movi\" + 0.261*\"film\" + -0.243*\"parasit\" + 0.180*\"poor\" + 0.169*\"rich\" + 0.169*\"feel\" + -0.115*\"get\" + 0.113*\"make\" + -0.107*\"pictur\"'), (6, '-0.602*\"parasit\" + 0.260*\"get\" + 0.220*\"movi\" + -0.184*\"also\" + -0.167*\"feel\" + 0.159*\"see\" + -0.157*\"poor\" + 0.129*\"son\" + -0.119*\"think\" + 0.118*\"go\"'), (7, '-0.343*\"parasit\" + -0.342*\"movi\" + 0.279*\"would\" + -0.204*\"live\" + 0.192*\"good\" + -0.183*\"famili\" + 0.179*\"feel\" + -0.176*\"park\" + 0.163*\"rich\" + -0.159*\"hous\"'), (8, '-0.496*\"see\" + 0.399*\"make\" + -0.247*\"parasit\" + -0.197*\"watch\" + -0.193*\"famili\" + -0.162*\"say\" + -0.151*\"rich\" + 0.144*\"class\" + 0.142*\"work\" + 0.123*\"good\"'), (9, '-0.378*\"also\" + 0.285*\"parasit\" + -0.252*\"see\" + 0.225*\"get\" + 0.224*\"famili\" + 0.220*\"end\" + 0.212*\"make\" + -0.193*\"live\" + -0.143*\"hous\" + -0.134*\"feel\"'), (10, '0.304*\"feel\" + 0.303*\"end\" + -0.266*\"make\" + -0.209*\"time\" + -0.205*\"watch\" + -0.191*\"rich\" + 0.188*\"famili\" + 0.188*\"also\" + 0.154*\"get\" + 0.136*\"bad\"'), (11, '0.343*\"see\" + -0.320*\"think\" + -0.259*\"go\" + 0.234*\"end\" + 0.201*\"watch\" + -0.200*\"get\" + -0.187*\"say\" + 0.178*\"class\" + -0.143*\"way\" + 0.128*\"well\"'), (12, '-0.437*\"see\" + 0.364*\"watch\" + -0.352*\"make\" + 0.212*\"would\" + -0.161*\"also\" + 0.140*\"hous\" + -0.137*\"work\" + 0.134*\"first\" + 0.129*\"movi\" + 0.125*\"never\"'), (13, '-0.413*\"would\" + 0.354*\"watch\" + 0.227*\"make\" + 0.204*\"feel\" + 0.199*\"go\" + -0.161*\"well\" + -0.155*\"end\" + -0.154*\"movi\" + 0.150*\"good\" + -0.148*\"work\"'), (14, '-0.391*\"time\" + -0.326*\"go\" + 0.319*\"think\" + 0.256*\"get\" + 0.207*\"make\" + -0.191*\"class\" + -0.142*\"come\" + 0.130*\"also\" + 0.128*\"live\" + 0.124*\"peopl\"'), (15, '0.285*\"go\" + 0.204*\"class\" + -0.195*\"first\" + 0.192*\"hous\" + -0.183*\"time\" + 0.181*\"much\" + 0.161*\"get\" + 0.148*\"would\" + 0.144*\"plan\" + 0.144*\"peopl\"'), (16, '-0.332*\"watch\" + -0.288*\"great\" + 0.266*\"even\" + -0.265*\"think\" + 0.219*\"peopl\" + 0.202*\"say\" + -0.186*\"go\" + -0.167*\"end\" + -0.161*\"way\" + 0.161*\"come\"'), (17, '0.346*\"would\" + 0.305*\"famili\" + -0.261*\"end\" + -0.239*\"get\" + -0.230*\"class\" + 0.195*\"hous\" + 0.149*\"go\" + -0.146*\"even\" + 0.143*\"make\" + 0.140*\"well\"'), (18, '-0.240*\"get\" + -0.211*\"poor\" + 0.210*\"say\" + 0.206*\"scene\" + 0.182*\"famili\" + 0.174*\"end\" + -0.171*\"well\" + -0.165*\"work\" + -0.165*\"see\" + -0.154*\"time\"'), (19, '0.367*\"take\" + -0.238*\"first\" + 0.229*\"feel\" + -0.215*\"even\" + -0.213*\"also\" + 0.189*\"end\" + -0.187*\"go\" + 0.175*\"would\" + -0.165*\"great\" + -0.145*\"get\"')]\n"
      ],
      "execution_count": 106,
      "outputs": []
    },
    {
      "cell_type": "markdown",
      "metadata": {
        "id": "AfpMRCrRwN6Z"
      },
      "source": [
        "# **Question 2: Sentiment Analysis**"
      ]
    },
    {
      "cell_type": "markdown",
      "metadata": {
        "id": "1dCQEbDawWCw"
      },
      "source": [
        "(30 points). Sentiment analysis also known as opinion mining is a sub field within Natural Language Processing (NLP) that builds machine learning algorithms to classify a text according to the sentimental polarities of opinions it contains, e.g., positive, negative, neutral. The purpose of this question is to develop a machine learning classifier for sentiment analysis. Based on the dataset from assignment three, write a python program to implement a sentiment classifier and evaluate its performance. Notice: **80% data for training and 20% data for testing**.  \n",
        "\n",
        "(1) Features used for sentiment classification and explain why you select these features.\n",
        "\n",
        "(2) Select two of the supervised learning algorithm from scikit-learn library: https://scikit-learn.org/stable/supervised_learning.html#supervised-learning, to build a sentiment classifier respectively. \n",
        "\n",
        "(3) Compare the performance over accuracy, precision, recall, and F1 score for the two algorithms you selected. Here is the reference of how to calculate these metrics: https://towardsdatascience.com/accuracy-precision-recall-or-f1-331fb37c5cb9. "
      ]
    },
    {
      "cell_type": "code",
      "metadata": {
        "colab": {
          "base_uri": "https://localhost:8080/",
          "height": 206
        },
        "id": "5VSa8-oxeScf",
        "outputId": "1679796a-9ddc-4024-fea5-e6dbb2dc7344"
      },
      "source": [
        "data = pd.read_csv(\"/content/Reviews_analysis.csv\")\n",
        "data.head()"
      ],
      "execution_count": 61,
      "outputs": [
        {
          "output_type": "execute_result",
          "data": {
            "text/html": [
              "<div>\n",
              "<style scoped>\n",
              "    .dataframe tbody tr th:only-of-type {\n",
              "        vertical-align: middle;\n",
              "    }\n",
              "\n",
              "    .dataframe tbody tr th {\n",
              "        vertical-align: top;\n",
              "    }\n",
              "\n",
              "    .dataframe thead th {\n",
              "        text-align: right;\n",
              "    }\n",
              "</style>\n",
              "<table border=\"1\" class=\"dataframe\">\n",
              "  <thead>\n",
              "    <tr style=\"text-align: right;\">\n",
              "      <th></th>\n",
              "      <th>document_id</th>\n",
              "      <th>clean_text</th>\n",
              "      <th>sentiment</th>\n",
              "    </tr>\n",
              "  </thead>\n",
              "  <tbody>\n",
              "    <tr>\n",
              "      <th>0</th>\n",
              "      <td>1</td>\n",
              "      <td>If you make a plan, life never works out that ...</td>\n",
              "      <td>Positive</td>\n",
              "    </tr>\n",
              "    <tr>\n",
              "      <th>1</th>\n",
              "      <td>2</td>\n",
              "      <td>With no plan, nothing can go wrong</td>\n",
              "      <td>Negative</td>\n",
              "    </tr>\n",
              "    <tr>\n",
              "      <th>2</th>\n",
              "      <td>3</td>\n",
              "      <td>You can't go wrong with no plans</td>\n",
              "      <td>Negative</td>\n",
              "    </tr>\n",
              "    <tr>\n",
              "      <th>3</th>\n",
              "      <td>4</td>\n",
              "      <td>10</td>\n",
              "      <td>Positive</td>\n",
              "    </tr>\n",
              "    <tr>\n",
              "      <th>4</th>\n",
              "      <td>5</td>\n",
              "      <td>A Solid Metaphor Film</td>\n",
              "      <td>Neutral</td>\n",
              "    </tr>\n",
              "  </tbody>\n",
              "</table>\n",
              "</div>"
            ],
            "text/plain": [
              "   document_id                                         clean_text sentiment\n",
              "0            1  If you make a plan, life never works out that ...  Positive\n",
              "1            2                 With no plan, nothing can go wrong  Negative\n",
              "2            3                   You can't go wrong with no plans  Negative\n",
              "3            4                                                 10  Positive\n",
              "4            5                              A Solid Metaphor Film   Neutral"
            ]
          },
          "metadata": {},
          "execution_count": 61
        }
      ]
    },
    {
      "cell_type": "code",
      "metadata": {
        "colab": {
          "base_uri": "https://localhost:8080/",
          "height": 421
        },
        "id": "y-oo-H-Pea-g",
        "outputId": "405f881b-c283-47d3-9351-1aafa73aa6b6"
      },
      "source": [
        "import seaborn as sns\n",
        "print(data['sentiment'].value_counts())\n",
        "sns.countplot(data.sentiment)"
      ],
      "execution_count": 62,
      "outputs": [
        {
          "output_type": "stream",
          "name": "stdout",
          "text": [
            "Neutral     42\n",
            "Positive    41\n",
            "Negative    17\n",
            "Name: sentiment, dtype: int64\n"
          ]
        },
        {
          "output_type": "stream",
          "name": "stderr",
          "text": [
            "/usr/local/lib/python3.7/dist-packages/seaborn/_decorators.py:43: FutureWarning: Pass the following variable as a keyword arg: x. From version 0.12, the only valid positional argument will be `data`, and passing other arguments without an explicit keyword will result in an error or misinterpretation.\n",
            "  FutureWarning\n"
          ]
        },
        {
          "output_type": "execute_result",
          "data": {
            "text/plain": [
              "<matplotlib.axes._subplots.AxesSubplot at 0x7f6bdf9da810>"
            ]
          },
          "metadata": {},
          "execution_count": 62
        },
        {
          "output_type": "display_data",
          "data": {
            "image/png": "[encoded data removed]",
            "text/plain": [
              "<Figure size 432x288 with 1 Axes>"
            ]
          },
          "metadata": {
            "needs_background": "light"
          }
        }
      ]
    },
    {
      "cell_type": "code",
      "metadata": {
        "id": "8Q8OdRTDebBU"
      },
      "source": [
        "# Feature selection\n",
        "from sklearn.preprocessing import LabelEncoder\n",
        "from sklearn.feature_extraction.text import TfidfVectorizer\n",
        "Tfidfvector = TfidfVectorizer(ngram_range=(1,2), max_features=1000)\n",
        "Tfidfvector.fit(data['clean_text'])\n",
        "x_values = Tfidfvector.transform(data['clean_text'])\n",
        "encoder = LabelEncoder()\n",
        "y_values = encoder.fit_transform(data['sentiment'])\n"
      ],
      "execution_count": 63,
      "outputs": []
    },
    {
      "cell_type": "code",
      "metadata": {
        "id": "m48vTVR4ebDr"
      },
      "source": [
        "from sklearn import model_selection\n",
        "X_train, x_test, y_train, y_test = model_selection.train_test_split(x_values, y_values, test_size=0.2)\n"
      ],
      "execution_count": 64,
      "outputs": []
    },
    {
      "cell_type": "code",
      "metadata": {
        "colab": {
          "base_uri": "https://localhost:8080/"
        },
        "id": "yt6_fXq9ebGn",
        "outputId": "4ade326e-651d-4bcc-a0fb-d69de06e90bf"
      },
      "source": [
        "from sklearn.metrics import accuracy_score\n",
        "from sklearn.metrics import classification_report\n",
        "from sklearn import svm\n",
        "svm_model = svm.SVC(kernel='linear')\n",
        "svm_model.fit(X_train, y_train)\n",
        "predicted = svm_model.predict(x_test)\n",
        "print(\"Accuracy score is {0}\".format(accuracy_score(y_test, predicted)))\n",
        "report = classification_report(y_test, predicted, output_dict=True)\n",
        "report\n"
      ],
      "execution_count": 65,
      "outputs": [
        {
          "output_type": "stream",
          "name": "stdout",
          "text": [
            "Accuracy score is 0.65\n"
          ]
        },
        {
          "output_type": "stream",
          "name": "stderr",
          "text": [
            "/usr/local/lib/python3.7/dist-packages/sklearn/metrics/_classification.py:1308: UndefinedMetricWarning: Precision and F-score are ill-defined and being set to 0.0 in labels with no predicted samples. Use `zero_division` parameter to control this behavior.\n",
            "  _warn_prf(average, modifier, msg_start, len(result))\n",
            "/usr/local/lib/python3.7/dist-packages/sklearn/metrics/_classification.py:1308: UndefinedMetricWarning: Precision and F-score are ill-defined and being set to 0.0 in labels with no predicted samples. Use `zero_division` parameter to control this behavior.\n",
            "  _warn_prf(average, modifier, msg_start, len(result))\n",
            "/usr/local/lib/python3.7/dist-packages/sklearn/metrics/_classification.py:1308: UndefinedMetricWarning: Precision and F-score are ill-defined and being set to 0.0 in labels with no predicted samples. Use `zero_division` parameter to control this behavior.\n",
            "  _warn_prf(average, modifier, msg_start, len(result))\n"
          ]
        },
        {
          "output_type": "execute_result",
          "data": {
            "text/plain": [
              "{'0': {'f1-score': 0.0, 'precision': 0.0, 'recall': 0.0, 'support': 4},\n",
              " '1': {'f1-score': 0.7058823529411765,\n",
              "  'precision': 0.6666666666666666,\n",
              "  'recall': 0.75,\n",
              "  'support': 8},\n",
              " '2': {'f1-score': 0.7368421052631579,\n",
              "  'precision': 0.6363636363636364,\n",
              "  'recall': 0.875,\n",
              "  'support': 8},\n",
              " 'accuracy': 0.65,\n",
              " 'macro avg': {'f1-score': 0.4809081527347781,\n",
              "  'precision': 0.4343434343434343,\n",
              "  'recall': 0.5416666666666666,\n",
              "  'support': 20},\n",
              " 'weighted avg': {'f1-score': 0.5770897832817338,\n",
              "  'precision': 0.5212121212121212,\n",
              "  'recall': 0.65,\n",
              "  'support': 20}}"
            ]
          },
          "metadata": {},
          "execution_count": 65
        }
      ]
    },
    {
      "cell_type": "code",
      "metadata": {
        "colab": {
          "base_uri": "https://localhost:8080/"
        },
        "id": "D8MoHbAWebJW",
        "outputId": "b4a10090-2c03-4d88-a277-5ed49c1e7f2a"
      },
      "source": [
        "from sklearn import naive_bayes\n",
        "nb = naive_bayes.MultinomialNB()\n",
        "nb.fit(X_train, y_train)\n",
        "predicted_nb = nb.predict(x_test)\n",
        "print(\"Accuracy score is {0}\".format(accuracy_score(y_test, predicted_nb)))\n",
        "report_nb = classification_report(y_test, predicted_nb, output_dict=True)\n",
        "report_nb\n"
      ],
      "execution_count": 66,
      "outputs": [
        {
          "output_type": "stream",
          "name": "stdout",
          "text": [
            "Accuracy score is 0.5\n"
          ]
        },
        {
          "output_type": "stream",
          "name": "stderr",
          "text": [
            "/usr/local/lib/python3.7/dist-packages/sklearn/metrics/_classification.py:1308: UndefinedMetricWarning: Precision and F-score are ill-defined and being set to 0.0 in labels with no predicted samples. Use `zero_division` parameter to control this behavior.\n",
            "  _warn_prf(average, modifier, msg_start, len(result))\n",
            "/usr/local/lib/python3.7/dist-packages/sklearn/metrics/_classification.py:1308: UndefinedMetricWarning: Precision and F-score are ill-defined and being set to 0.0 in labels with no predicted samples. Use `zero_division` parameter to control this behavior.\n",
            "  _warn_prf(average, modifier, msg_start, len(result))\n",
            "/usr/local/lib/python3.7/dist-packages/sklearn/metrics/_classification.py:1308: UndefinedMetricWarning: Precision and F-score are ill-defined and being set to 0.0 in labels with no predicted samples. Use `zero_division` parameter to control this behavior.\n",
            "  _warn_prf(average, modifier, msg_start, len(result))\n"
          ]
        },
        {
          "output_type": "execute_result",
          "data": {
            "text/plain": [
              "{'0': {'f1-score': 0.0, 'precision': 0.0, 'recall': 0.0, 'support': 4},\n",
              " '1': {'f1-score': 0.608695652173913,\n",
              "  'precision': 0.4666666666666667,\n",
              "  'recall': 0.875,\n",
              "  'support': 8},\n",
              " '2': {'f1-score': 0.4615384615384615,\n",
              "  'precision': 0.6,\n",
              "  'recall': 0.375,\n",
              "  'support': 8},\n",
              " 'accuracy': 0.5,\n",
              " 'macro avg': {'f1-score': 0.3567447045707915,\n",
              "  'precision': 0.35555555555555557,\n",
              "  'recall': 0.4166666666666667,\n",
              "  'support': 20},\n",
              " 'weighted avg': {'f1-score': 0.4280936454849498,\n",
              "  'precision': 0.42666666666666664,\n",
              "  'recall': 0.5,\n",
              "  'support': 20}}"
            ]
          },
          "metadata": {},
          "execution_count": 66
        }
      ]
    },
    {
      "cell_type": "markdown",
      "metadata": {
        "id": "oO8VfGQV65Mt"
      },
      "source": [
        "I have selected the Naive Bayes and SVM. Below are metrics of the two models\n",
        "\n",
        "![image.png](data:image/png;base64,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)"
      ]
    },
    {
      "cell_type": "markdown",
      "metadata": {
        "id": "E5mmYIfN8eYV"
      },
      "source": [
        "# **Question 3: House price prediction**"
      ]
    },
    {
      "cell_type": "markdown",
      "metadata": {
        "id": "hsi2y4z88ngX"
      },
      "source": [
        "(40 points). You are required to build a **regression** model to predict the house price with 79 explanatory variables describing (almost) every aspect of residential homes. The purpose of this question is to practice regression analysis, an supervised learning model. The training data, testing data, and data description files can be download here: https://github.com/unt-iialab/info5731_spring2021/blob/main/assignment/assignment4-question3-data.zip. Here is an axample for implementation: https://towardsdatascience.com/linear-regression-in-python-predict-the-bay-areas-home-price-5c91c8378878. \n"
      ]
    },
    {
      "cell_type": "code",
      "metadata": {
        "id": "XfvMKJjIXS5G"
      },
      "source": [
        "# Write your code here\n",
        "train_dataset = pd.read_csv(\"/content/train.csv\")\n",
        "test_dataset = pd.read_csv(\"/content/test.csv\")"
      ],
      "execution_count": 67,
      "outputs": []
    },
    {
      "cell_type": "code",
      "metadata": {
        "colab": {
          "base_uri": "https://localhost:8080/",
          "height": 320
        },
        "id": "T3Biy0E6fnWD",
        "outputId": "b359c8e6-9079-41eb-cdf7-83f8e09064ff"
      },
      "source": [
        "train_dataset.describe()\n"
      ],
      "execution_count": 68,
      "outputs": [
        {
          "output_type": "execute_result",
          "data": {
            "text/html": [
              "<div>\n",
              "<style scoped>\n",
              "    .dataframe tbody tr th:only-of-type {\n",
              "        vertical-align: middle;\n",
              "    }\n",
              "\n",
              "    .dataframe tbody tr th {\n",
              "        vertical-align: top;\n",
              "    }\n",
              "\n",
              "    .dataframe thead th {\n",
              "        text-align: right;\n",
              "    }\n",
              "</style>\n",
              "<table border=\"1\" class=\"dataframe\">\n",
              "  <thead>\n",
              "    <tr style=\"text-align: right;\">\n",
              "      <th></th>\n",
              "      <th>Id</th>\n",
              "      <th>MSSubClass</th>\n",
              "      <th>LotFrontage</th>\n",
              "      <th>LotArea</th>\n",
              "      <th>OverallQual</th>\n",
              "      <th>OverallCond</th>\n",
              "      <th>YearBuilt</th>\n",
              "      <th>YearRemodAdd</th>\n",
              "      <th>MasVnrArea</th>\n",
              "      <th>BsmtFinSF1</th>\n",
              "      <th>BsmtFinSF2</th>\n",
              "      <th>BsmtUnfSF</th>\n",
              "      <th>TotalBsmtSF</th>\n",
              "      <th>1stFlrSF</th>\n",
              "      <th>2ndFlrSF</th>\n",
              "      <th>LowQualFinSF</th>\n",
              "      <th>GrLivArea</th>\n",
              "      <th>BsmtFullBath</th>\n",
              "      <th>BsmtHalfBath</th>\n",
              "      <th>FullBath</th>\n",
              "      <th>HalfBath</th>\n",
              "      <th>BedroomAbvGr</th>\n",
              "      <th>KitchenAbvGr</th>\n",
              "      <th>TotRmsAbvGrd</th>\n",
              "      <th>Fireplaces</th>\n",
              "      <th>GarageYrBlt</th>\n",
              "      <th>GarageCars</th>\n",
              "      <th>GarageArea</th>\n",
              "      <th>WoodDeckSF</th>\n",
              "      <th>OpenPorchSF</th>\n",
              "      <th>EnclosedPorch</th>\n",
              "      <th>3SsnPorch</th>\n",
              "      <th>ScreenPorch</th>\n",
              "      <th>PoolArea</th>\n",
              "      <th>MiscVal</th>\n",
              "      <th>MoSold</th>\n",
              "      <th>YrSold</th>\n",
              "      <th>SalePrice</th>\n",
              "    </tr>\n",
              "  </thead>\n",
              "  <tbody>\n",
              "    <tr>\n",
              "      <th>count</th>\n",
              "      <td>1460.000000</td>\n",
              "      <td>1460.000000</td>\n",
              "      <td>1201.000000</td>\n",
              "      <td>1460.000000</td>\n",
              "      <td>1460.000000</td>\n",
              "      <td>1460.000000</td>\n",
              "      <td>1460.000000</td>\n",
              "      <td>1460.000000</td>\n",
              "      <td>1452.000000</td>\n",
              "      <td>1460.000000</td>\n",
              "      <td>1460.000000</td>\n",
              "      <td>1460.000000</td>\n",
              "      <td>1460.000000</td>\n",
              "      <td>1460.000000</td>\n",
              "      <td>1460.000000</td>\n",
              "      <td>1460.000000</td>\n",
              "      <td>1460.000000</td>\n",
              "      <td>1460.000000</td>\n",
              "      <td>1460.000000</td>\n",
              "      <td>1460.000000</td>\n",
              "      <td>1460.000000</td>\n",
              "      <td>1460.000000</td>\n",
              "      <td>1460.000000</td>\n",
              "      <td>1460.000000</td>\n",
              "      <td>1460.000000</td>\n",
              "      <td>1379.000000</td>\n",
              "      <td>1460.000000</td>\n",
              "      <td>1460.000000</td>\n",
              "      <td>1460.000000</td>\n",
              "      <td>1460.000000</td>\n",
              "      <td>1460.000000</td>\n",
              "      <td>1460.000000</td>\n",
              "      <td>1460.000000</td>\n",
              "      <td>1460.000000</td>\n",
              "      <td>1460.000000</td>\n",
              "      <td>1460.000000</td>\n",
              "      <td>1460.000000</td>\n",
              "      <td>1460.000000</td>\n",
              "    </tr>\n",
              "    <tr>\n",
              "      <th>mean</th>\n",
              "      <td>730.500000</td>\n",
              "      <td>56.897260</td>\n",
              "      <td>70.049958</td>\n",
              "      <td>10516.828082</td>\n",
              "      <td>6.099315</td>\n",
              "      <td>5.575342</td>\n",
              "      <td>1971.267808</td>\n",
              "      <td>1984.865753</td>\n",
              "      <td>103.685262</td>\n",
              "      <td>443.639726</td>\n",
              "      <td>46.549315</td>\n",
              "      <td>567.240411</td>\n",
              "      <td>1057.429452</td>\n",
              "      <td>1162.626712</td>\n",
              "      <td>346.992466</td>\n",
              "      <td>5.844521</td>\n",
              "      <td>1515.463699</td>\n",
              "      <td>0.425342</td>\n",
              "      <td>0.057534</td>\n",
              "      <td>1.565068</td>\n",
              "      <td>0.382877</td>\n",
              "      <td>2.866438</td>\n",
              "      <td>1.046575</td>\n",
              "      <td>6.517808</td>\n",
              "      <td>0.613014</td>\n",
              "      <td>1978.506164</td>\n",
              "      <td>1.767123</td>\n",
              "      <td>472.980137</td>\n",
              "      <td>94.244521</td>\n",
              "      <td>46.660274</td>\n",
              "      <td>21.954110</td>\n",
              "      <td>3.409589</td>\n",
              "      <td>15.060959</td>\n",
              "      <td>2.758904</td>\n",
              "      <td>43.489041</td>\n",
              "      <td>6.321918</td>\n",
              "      <td>2007.815753</td>\n",
              "      <td>180921.195890</td>\n",
              "    </tr>\n",
              "    <tr>\n",
              "      <th>std</th>\n",
              "      <td>421.610009</td>\n",
              "      <td>42.300571</td>\n",
              "      <td>24.284752</td>\n",
              "      <td>9981.264932</td>\n",
              "      <td>1.382997</td>\n",
              "      <td>1.112799</td>\n",
              "      <td>30.202904</td>\n",
              "      <td>20.645407</td>\n",
              "      <td>181.066207</td>\n",
              "      <td>456.098091</td>\n",
              "      <td>161.319273</td>\n",
              "      <td>441.866955</td>\n",
              "      <td>438.705324</td>\n",
              "      <td>386.587738</td>\n",
              "      <td>436.528436</td>\n",
              "      <td>48.623081</td>\n",
              "      <td>525.480383</td>\n",
              "      <td>0.518911</td>\n",
              "      <td>0.238753</td>\n",
              "      <td>0.550916</td>\n",
              "      <td>0.502885</td>\n",
              "      <td>0.815778</td>\n",
              "      <td>0.220338</td>\n",
              "      <td>1.625393</td>\n",
              "      <td>0.644666</td>\n",
              "      <td>24.689725</td>\n",
              "      <td>0.747315</td>\n",
              "      <td>213.804841</td>\n",
              "      <td>125.338794</td>\n",
              "      <td>66.256028</td>\n",
              "      <td>61.119149</td>\n",
              "      <td>29.317331</td>\n",
              "      <td>55.757415</td>\n",
              "      <td>40.177307</td>\n",
              "      <td>496.123024</td>\n",
              "      <td>2.703626</td>\n",
              "      <td>1.328095</td>\n",
              "      <td>79442.502883</td>\n",
              "    </tr>\n",
              "    <tr>\n",
              "      <th>min</th>\n",
              "      <td>1.000000</td>\n",
              "      <td>20.000000</td>\n",
              "      <td>21.000000</td>\n",
              "      <td>1300.000000</td>\n",
              "      <td>1.000000</td>\n",
              "      <td>1.000000</td>\n",
              "      <td>1872.000000</td>\n",
              "      <td>1950.000000</td>\n",
              "      <td>0.000000</td>\n",
              "      <td>0.000000</td>\n",
              "      <td>0.000000</td>\n",
              "      <td>0.000000</td>\n",
              "      <td>0.000000</td>\n",
              "      <td>334.000000</td>\n",
              "      <td>0.000000</td>\n",
              "      <td>0.000000</td>\n",
              "      <td>334.000000</td>\n",
              "      <td>0.000000</td>\n",
              "      <td>0.000000</td>\n",
              "      <td>0.000000</td>\n",
              "      <td>0.000000</td>\n",
              "      <td>0.000000</td>\n",
              "      <td>0.000000</td>\n",
              "      <td>2.000000</td>\n",
              "      <td>0.000000</td>\n",
              "      <td>1900.000000</td>\n",
              "      <td>0.000000</td>\n",
              "      <td>0.000000</td>\n",
              "      <td>0.000000</td>\n",
              "      <td>0.000000</td>\n",
              "      <td>0.000000</td>\n",
              "      <td>0.000000</td>\n",
              "      <td>0.000000</td>\n",
              "      <td>0.000000</td>\n",
              "      <td>0.000000</td>\n",
              "      <td>1.000000</td>\n",
              "      <td>2006.000000</td>\n",
              "      <td>34900.000000</td>\n",
              "    </tr>\n",
              "    <tr>\n",
              "      <th>25%</th>\n",
              "      <td>365.750000</td>\n",
              "      <td>20.000000</td>\n",
              "      <td>59.000000</td>\n",
              "      <td>7553.500000</td>\n",
              "      <td>5.000000</td>\n",
              "      <td>5.000000</td>\n",
              "      <td>1954.000000</td>\n",
              "      <td>1967.000000</td>\n",
              "      <td>0.000000</td>\n",
              "      <td>0.000000</td>\n",
              "      <td>0.000000</td>\n",
              "      <td>223.000000</td>\n",
              "      <td>795.750000</td>\n",
              "      <td>882.000000</td>\n",
              "      <td>0.000000</td>\n",
              "      <td>0.000000</td>\n",
              "      <td>1129.500000</td>\n",
              "      <td>0.000000</td>\n",
              "      <td>0.000000</td>\n",
              "      <td>1.000000</td>\n",
              "      <td>0.000000</td>\n",
              "      <td>2.000000</td>\n",
              "      <td>1.000000</td>\n",
              "      <td>5.000000</td>\n",
              "      <td>0.000000</td>\n",
              "      <td>1961.000000</td>\n",
              "      <td>1.000000</td>\n",
              "      <td>334.500000</td>\n",
              "      <td>0.000000</td>\n",
              "      <td>0.000000</td>\n",
              "      <td>0.000000</td>\n",
              "      <td>0.000000</td>\n",
              "      <td>0.000000</td>\n",
              "      <td>0.000000</td>\n",
              "      <td>0.000000</td>\n",
              "      <td>5.000000</td>\n",
              "      <td>2007.000000</td>\n",
              "      <td>129975.000000</td>\n",
              "    </tr>\n",
              "    <tr>\n",
              "      <th>50%</th>\n",
              "      <td>730.500000</td>\n",
              "      <td>50.000000</td>\n",
              "      <td>69.000000</td>\n",
              "      <td>9478.500000</td>\n",
              "      <td>6.000000</td>\n",
              "      <td>5.000000</td>\n",
              "      <td>1973.000000</td>\n",
              "      <td>1994.000000</td>\n",
              "      <td>0.000000</td>\n",
              "      <td>383.500000</td>\n",
              "      <td>0.000000</td>\n",
              "      <td>477.500000</td>\n",
              "      <td>991.500000</td>\n",
              "      <td>1087.000000</td>\n",
              "      <td>0.000000</td>\n",
              "      <td>0.000000</td>\n",
              "      <td>1464.000000</td>\n",
              "      <td>0.000000</td>\n",
              "      <td>0.000000</td>\n",
              "      <td>2.000000</td>\n",
              "      <td>0.000000</td>\n",
              "      <td>3.000000</td>\n",
              "      <td>1.000000</td>\n",
              "      <td>6.000000</td>\n",
              "      <td>1.000000</td>\n",
              "      <td>1980.000000</td>\n",
              "      <td>2.000000</td>\n",
              "      <td>480.000000</td>\n",
              "      <td>0.000000</td>\n",
              "      <td>25.000000</td>\n",
              "      <td>0.000000</td>\n",
              "      <td>0.000000</td>\n",
              "      <td>0.000000</td>\n",
              "      <td>0.000000</td>\n",
              "      <td>0.000000</td>\n",
              "      <td>6.000000</td>\n",
              "      <td>2008.000000</td>\n",
              "      <td>163000.000000</td>\n",
              "    </tr>\n",
              "    <tr>\n",
              "      <th>75%</th>\n",
              "      <td>1095.250000</td>\n",
              "      <td>70.000000</td>\n",
              "      <td>80.000000</td>\n",
              "      <td>11601.500000</td>\n",
              "      <td>7.000000</td>\n",
              "      <td>6.000000</td>\n",
              "      <td>2000.000000</td>\n",
              "      <td>2004.000000</td>\n",
              "      <td>166.000000</td>\n",
              "      <td>712.250000</td>\n",
              "      <td>0.000000</td>\n",
              "      <td>808.000000</td>\n",
              "      <td>1298.250000</td>\n",
              "      <td>1391.250000</td>\n",
              "      <td>728.000000</td>\n",
              "      <td>0.000000</td>\n",
              "      <td>1776.750000</td>\n",
              "      <td>1.000000</td>\n",
              "      <td>0.000000</td>\n",
              "      <td>2.000000</td>\n",
              "      <td>1.000000</td>\n",
              "      <td>3.000000</td>\n",
              "      <td>1.000000</td>\n",
              "      <td>7.000000</td>\n",
              "      <td>1.000000</td>\n",
              "      <td>2002.000000</td>\n",
              "      <td>2.000000</td>\n",
              "      <td>576.000000</td>\n",
              "      <td>168.000000</td>\n",
              "      <td>68.000000</td>\n",
              "      <td>0.000000</td>\n",
              "      <td>0.000000</td>\n",
              "      <td>0.000000</td>\n",
              "      <td>0.000000</td>\n",
              "      <td>0.000000</td>\n",
              "      <td>8.000000</td>\n",
              "      <td>2009.000000</td>\n",
              "      <td>214000.000000</td>\n",
              "    </tr>\n",
              "    <tr>\n",
              "      <th>max</th>\n",
              "      <td>1460.000000</td>\n",
              "      <td>190.000000</td>\n",
              "      <td>313.000000</td>\n",
              "      <td>215245.000000</td>\n",
              "      <td>10.000000</td>\n",
              "      <td>9.000000</td>\n",
              "      <td>2010.000000</td>\n",
              "      <td>2010.000000</td>\n",
              "      <td>1600.000000</td>\n",
              "      <td>5644.000000</td>\n",
              "      <td>1474.000000</td>\n",
              "      <td>2336.000000</td>\n",
              "      <td>6110.000000</td>\n",
              "      <td>4692.000000</td>\n",
              "      <td>2065.000000</td>\n",
              "      <td>572.000000</td>\n",
              "      <td>5642.000000</td>\n",
              "      <td>3.000000</td>\n",
              "      <td>2.000000</td>\n",
              "      <td>3.000000</td>\n",
              "      <td>2.000000</td>\n",
              "      <td>8.000000</td>\n",
              "      <td>3.000000</td>\n",
              "      <td>14.000000</td>\n",
              "      <td>3.000000</td>\n",
              "      <td>2010.000000</td>\n",
              "      <td>4.000000</td>\n",
              "      <td>1418.000000</td>\n",
              "      <td>857.000000</td>\n",
              "      <td>547.000000</td>\n",
              "      <td>552.000000</td>\n",
              "      <td>508.000000</td>\n",
              "      <td>480.000000</td>\n",
              "      <td>738.000000</td>\n",
              "      <td>15500.000000</td>\n",
              "      <td>12.000000</td>\n",
              "      <td>2010.000000</td>\n",
              "      <td>755000.000000</td>\n",
              "    </tr>\n",
              "  </tbody>\n",
              "</table>\n",
              "</div>"
            ],
            "text/plain": [
              "                Id   MSSubClass  ...       YrSold      SalePrice\n",
              "count  1460.000000  1460.000000  ...  1460.000000    1460.000000\n",
              "mean    730.500000    56.897260  ...  2007.815753  180921.195890\n",
              "std     421.610009    42.300571  ...     1.328095   79442.502883\n",
              "min       1.000000    20.000000  ...  2006.000000   34900.000000\n",
              "25%     365.750000    20.000000  ...  2007.000000  129975.000000\n",
              "50%     730.500000    50.000000  ...  2008.000000  163000.000000\n",
              "75%    1095.250000    70.000000  ...  2009.000000  214000.000000\n",
              "max    1460.000000   190.000000  ...  2010.000000  755000.000000\n",
              "\n",
              "[8 rows x 38 columns]"
            ]
          },
          "metadata": {},
          "execution_count": 68
        }
      ]
    },
    {
      "cell_type": "code",
      "metadata": {
        "colab": {
          "base_uri": "https://localhost:8080/"
        },
        "id": "WS16vTKvfpiP",
        "outputId": "856f1d7b-7668-4fe5-a9c6-a35ea9abeb70"
      },
      "source": [
        "print(train_dataset.isnull().sum())\n"
      ],
      "execution_count": 69,
      "outputs": [
        {
          "output_type": "stream",
          "name": "stdout",
          "text": [
            "Id                 0\n",
            "MSSubClass         0\n",
            "MSZoning           0\n",
            "LotFrontage      259\n",
            "LotArea            0\n",
            "                ... \n",
            "MoSold             0\n",
            "YrSold             0\n",
            "SaleType           0\n",
            "SaleCondition      0\n",
            "SalePrice          0\n",
            "Length: 81, dtype: int64\n"
          ]
        }
      ]
    },
    {
      "cell_type": "code",
      "metadata": {
        "colab": {
          "base_uri": "https://localhost:8080/"
        },
        "id": "0_N51RLsftp3",
        "outputId": "5f8f3a62-255d-4b19-9bc9-3a9b93c2ee44"
      },
      "source": [
        "print(test_dataset.isnull().sum())\n"
      ],
      "execution_count": 70,
      "outputs": [
        {
          "output_type": "stream",
          "name": "stdout",
          "text": [
            "Id                 0\n",
            "MSSubClass         0\n",
            "MSZoning           4\n",
            "LotFrontage      227\n",
            "LotArea            0\n",
            "                ... \n",
            "MiscVal            0\n",
            "MoSold             0\n",
            "YrSold             0\n",
            "SaleType           1\n",
            "SaleCondition      0\n",
            "Length: 80, dtype: int64\n"
          ]
        }
      ]
    },
    {
      "cell_type": "code",
      "metadata": {
        "colab": {
          "base_uri": "https://localhost:8080/",
          "height": 843
        },
        "id": "IpiRS8U2fvkP",
        "outputId": "7bcf46f1-c398-4dfe-dd92-5556e2a97656"
      },
      "source": [
        "%matplotlib inline\n",
        "import matplotlib.pyplot as plt\n",
        "train_dataset.hist(bins=50, figsize=(20,15))\n",
        "plt.savefig(\"attribute_histogram_plots\")\n",
        "plt.show()\n"
      ],
      "execution_count": 71,
      "outputs": [
        {
          "output_type": "display_data",
          "data": {
            "image/png": "[encoded data removed]",
            "text/plain": [
              "<Figure size 1440x1080 with 42 Axes>"
            ]
          },
          "metadata": {
            "needs_background": "light"
          }
        }
      ]
    },
    {
      "cell_type": "code",
      "metadata": {
        "colab": {
          "base_uri": "https://localhost:8080/"
        },
        "id": "wci06ncnfxjZ",
        "outputId": "e053a1bb-0596-4300-eab1-3ac5e5c33a43"
      },
      "source": [
        "corr_matrix = train_dataset.corr()\n",
        "corr_matrix[\"SalePrice\"].sort_values(ascending=False)\n"
      ],
      "execution_count": 72,
      "outputs": [
        {
          "output_type": "execute_result",
          "data": {
            "text/plain": [
              "SalePrice        1.000000\n",
              "OverallQual      0.790982\n",
              "GrLivArea        0.708624\n",
              "GarageCars       0.640409\n",
              "GarageArea       0.623431\n",
              "TotalBsmtSF      0.613581\n",
              "1stFlrSF         0.605852\n",
              "FullBath         0.560664\n",
              "TotRmsAbvGrd     0.533723\n",
              "YearBuilt        0.522897\n",
              "YearRemodAdd     0.507101\n",
              "GarageYrBlt      0.486362\n",
              "MasVnrArea       0.477493\n",
              "Fireplaces       0.466929\n",
              "BsmtFinSF1       0.386420\n",
              "LotFrontage      0.351799\n",
              "WoodDeckSF       0.324413\n",
              "2ndFlrSF         0.319334\n",
              "OpenPorchSF      0.315856\n",
              "HalfBath         0.284108\n",
              "LotArea          0.263843\n",
              "BsmtFullBath     0.227122\n",
              "BsmtUnfSF        0.214479\n",
              "BedroomAbvGr     0.168213\n",
              "ScreenPorch      0.111447\n",
              "PoolArea         0.092404\n",
              "MoSold           0.046432\n",
              "3SsnPorch        0.044584\n",
              "BsmtFinSF2      -0.011378\n",
              "BsmtHalfBath    -0.016844\n",
              "MiscVal         -0.021190\n",
              "Id              -0.021917\n",
              "LowQualFinSF    -0.025606\n",
              "YrSold          -0.028923\n",
              "OverallCond     -0.077856\n",
              "MSSubClass      -0.084284\n",
              "EnclosedPorch   -0.128578\n",
              "KitchenAbvGr    -0.135907\n",
              "Name: SalePrice, dtype: float64"
            ]
          },
          "metadata": {},
          "execution_count": 72
        }
      ]
    },
    {
      "cell_type": "code",
      "metadata": {
        "colab": {
          "base_uri": "https://localhost:8080/",
          "height": 282
        },
        "id": "bLAOg_7Df0bv",
        "outputId": "a20d41de-fc21-4b58-b5eb-e0588d5a1f80"
      },
      "source": [
        "plt.scatter(train_dataset['OverallQual'],train_dataset['SalePrice'])"
      ],
      "execution_count": 73,
      "outputs": [
        {
          "output_type": "execute_result",
          "data": {
            "text/plain": [
              "<matplotlib.collections.PathCollection at 0x7f6bc72b7d10>"
            ]
          },
          "metadata": {},
          "execution_count": 73
        },
        {
          "output_type": "display_data",
          "data": {
            "image/png": "[encoded data removed]",
            "text/plain": [
              "<Figure size 432x288 with 1 Axes>"
            ]
          },
          "metadata": {
            "needs_background": "light"
          }
        }
      ]
    },
    {
      "cell_type": "code",
      "metadata": {
        "colab": {
          "base_uri": "https://localhost:8080/",
          "height": 282
        },
        "id": "ZaETEds6f3Qr",
        "outputId": "19446ab8-83bc-478f-f35f-13b772e1cc5e"
      },
      "source": [
        "plt.scatter(train_dataset['GrLivArea'],train_dataset['SalePrice'])"
      ],
      "execution_count": 74,
      "outputs": [
        {
          "output_type": "execute_result",
          "data": {
            "text/plain": [
              "<matplotlib.collections.PathCollection at 0x7f6bc7500bd0>"
            ]
          },
          "metadata": {},
          "execution_count": 74
        },
        {
          "output_type": "display_data",
          "data": {
            "image/png": "[encoded data removed]",
            "text/plain": [
              "<Figure size 432x288 with 1 Axes>"
            ]
          },
          "metadata": {
            "needs_background": "light"
          }
        }
      ]
    },
    {
      "cell_type": "code",
      "metadata": {
        "colab": {
          "base_uri": "https://localhost:8080/",
          "height": 282
        },
        "id": "45IEnjEWg5CG",
        "outputId": "962c1ed9-f439-44a7-cedc-0da463eebc38"
      },
      "source": [
        "plt.scatter(train_dataset['GarageCars'],train_dataset['SalePrice'])"
      ],
      "execution_count": 75,
      "outputs": [
        {
          "output_type": "execute_result",
          "data": {
            "text/plain": [
              "<matplotlib.collections.PathCollection at 0x7f6be07820d0>"
            ]
          },
          "metadata": {},
          "execution_count": 75
        },
        {
          "output_type": "display_data",
          "data": {
            "image/png": "[encoded data removed]",
            "text/plain": [
              "<Figure size 432x288 with 1 Axes>"
            ]
          },
          "metadata": {
            "needs_background": "light"
          }
        }
      ]
    },
    {
      "cell_type": "code",
      "metadata": {
        "colab": {
          "base_uri": "https://localhost:8080/",
          "height": 282
        },
        "id": "azfQjkxrg-8s",
        "outputId": "cb82699d-8903-44f1-f11c-dd5d44928a20"
      },
      "source": [
        "train_dataset.boxplot(column=['OverallQual', 'GrLivArea', 'GarageCars', 'GarageArea'])\n"
      ],
      "execution_count": 76,
      "outputs": [
        {
          "output_type": "execute_result",
          "data": {
            "text/plain": [
              "<matplotlib.axes._subplots.AxesSubplot at 0x7f6bdfcda6d0>"
            ]
          },
          "metadata": {},
          "execution_count": 76
        },
        {
          "output_type": "display_data",
          "data": {
            "image/png": "[encoded data removed]",
            "text/plain": [
              "<Figure size 432x288 with 1 Axes>"
            ]
          },
          "metadata": {
            "needs_background": "light"
          }
        }
      ]
    },
    {
      "cell_type": "code",
      "metadata": {
        "colab": {
          "base_uri": "https://localhost:8080/",
          "height": 282
        },
        "id": "JyCgj3K2hCTH",
        "outputId": "ec899263-71ba-41c4-e73c-c188fa600ebf"
      },
      "source": [
        "train_dataset.boxplot(column=['TotalBsmtSF', '1stFlrSF', 'FullBath', 'SalePrice'])\n"
      ],
      "execution_count": 77,
      "outputs": [
        {
          "output_type": "execute_result",
          "data": {
            "text/plain": [
              "<matplotlib.axes._subplots.AxesSubplot at 0x7f6bdfb79810>"
            ]
          },
          "metadata": {},
          "execution_count": 77
        },
        {
          "output_type": "display_data",
          "data": {
            "image/png": "[encoded data removed]",
            "text/plain": [
              "<Figure size 432x288 with 1 Axes>"
            ]
          },
          "metadata": {
            "needs_background": "light"
          }
        }
      ]
    },
    {
      "cell_type": "code",
      "metadata": {
        "id": "PDAvhPr4ilED"
      },
      "source": [
        "train_dataset.fillna(0, inplace = True)\n",
        "test_dataset.fillna(0, inplace = True)\n"
      ],
      "execution_count": 78,
      "outputs": []
    },
    {
      "cell_type": "code",
      "metadata": {
        "id": "p4hQ8L7_hE24"
      },
      "source": [
        "from sklearn.preprocessing import LabelEncoder\n",
        "columns = ('GarageCond', 'LandContour', 'RoofStyle', 'RoofMatl', 'Heating', 'MiscFeature', 'SaleType', 'GarageType', 'Electrical', 'SaleCondition', 'Foundation', 'Exterior1st', 'Exterior2nd', 'MasVnrType', 'FireplaceQu', 'LotConfig', 'Neighborhood', 'Condition1', 'Condition2', 'Utilities', 'BldgType', 'HouseStyle','PoolQC', 'BsmtQual', 'BsmtCond', 'GarageQual','BsmtExposure', 'ExterQual', 'ExterCond','HeatingQC', 'KitchenQual', 'BsmtFinType1','BsmtFinType2', 'Functional', 'Fence', 'GarageFinish', 'LandSlope','LotShape', 'PavedDrive', 'Street', 'Alley', 'CentralAir', 'MSSubClass', 'OverallCond', 'YrSold', 'MoSold', 'MSZoning')\n",
        "for column in columns:\n",
        "    encoder = LabelEncoder()\n",
        "    encoder.fit(list(train_dataset[column].values))\n",
        "    train_dataset[column] = encoder.transform(list(train_dataset[column].values))"
      ],
      "execution_count": 79,
      "outputs": []
    },
    {
      "cell_type": "code",
      "metadata": {
        "id": "1gqZlLqFhG_l"
      },
      "source": [
        "for column in columns:\n",
        "    encoder_test = LabelEncoder()\n",
        "    encoder_test.fit(list(test_dataset[column].values))\n",
        "    test_dataset[column] = encoder_test.transform(list(test_dataset[column].values))\n"
      ],
      "execution_count": 80,
      "outputs": []
    },
    {
      "cell_type": "code",
      "metadata": {
        "id": "_v9XNhY-iZlu"
      },
      "source": [
        "x_values = train_dataset[train_dataset.columns[:80]] \n",
        "x_test_values = test_dataset[test_dataset.columns[:80]]\n",
        "y_values = train_dataset['SalePrice']\n"
      ],
      "execution_count": 81,
      "outputs": []
    },
    {
      "cell_type": "code",
      "metadata": {
        "colab": {
          "base_uri": "https://localhost:8080/"
        },
        "id": "zQuCRzNJif0i",
        "outputId": "ffaca2ca-cd56-44c4-d290-596b72bf7a8c"
      },
      "source": [
        "from sklearn.linear_model import LinearRegression\n",
        "reg_model = LinearRegression()\n",
        "reg_model.fit(x_values, y_values)\n",
        "reg_model.score(x_values, y_values)\n"
      ],
      "execution_count": 82,
      "outputs": [
        {
          "output_type": "execute_result",
          "data": {
            "text/plain": [
              "0.8679043761275973"
            ]
          },
          "metadata": {},
          "execution_count": 82
        }
      ]
    },
    {
      "cell_type": "code",
      "metadata": {
        "colab": {
          "base_uri": "https://localhost:8080/",
          "height": 423
        },
        "id": "Ks7bxwLJihmu",
        "outputId": "71a56f6f-c424-4b89-8633-5eaa4e289e76"
      },
      "source": [
        "# Predicting the House Sale Price\n",
        "predicted = reg_model.predict(x_test_values)\n",
        "pd.DataFrame({'Predicted House Price Values': predicted})\n"
      ],
      "execution_count": 83,
      "outputs": [
        {
          "output_type": "execute_result",
          "data": {
            "text/html": [
              "<div>\n",
              "<style scoped>\n",
              "    .dataframe tbody tr th:only-of-type {\n",
              "        vertical-align: middle;\n",
              "    }\n",
              "\n",
              "    .dataframe tbody tr th {\n",
              "        vertical-align: top;\n",
              "    }\n",
              "\n",
              "    .dataframe thead th {\n",
              "        text-align: right;\n",
              "    }\n",
              "</style>\n",
              "<table border=\"1\" class=\"dataframe\">\n",
              "  <thead>\n",
              "    <tr style=\"text-align: right;\">\n",
              "      <th></th>\n",
              "      <th>Predicted House Price Values</th>\n",
              "    </tr>\n",
              "  </thead>\n",
              "  <tbody>\n",
              "    <tr>\n",
              "      <th>0</th>\n",
              "      <td>61193.197323</td>\n",
              "    </tr>\n",
              "    <tr>\n",
              "      <th>1</th>\n",
              "      <td>111326.720904</td>\n",
              "    </tr>\n",
              "    <tr>\n",
              "      <th>2</th>\n",
              "      <td>116488.715460</td>\n",
              "    </tr>\n",
              "    <tr>\n",
              "      <th>3</th>\n",
              "      <td>136402.379346</td>\n",
              "    </tr>\n",
              "    <tr>\n",
              "      <th>4</th>\n",
              "      <td>135085.606164</td>\n",
              "    </tr>\n",
              "    <tr>\n",
              "      <th>...</th>\n",
              "      <td>...</td>\n",
              "    </tr>\n",
              "    <tr>\n",
              "      <th>1454</th>\n",
              "      <td>29583.161170</td>\n",
              "    </tr>\n",
              "    <tr>\n",
              "      <th>1455</th>\n",
              "      <td>4756.354147</td>\n",
              "    </tr>\n",
              "    <tr>\n",
              "      <th>1456</th>\n",
              "      <td>105989.553797</td>\n",
              "    </tr>\n",
              "    <tr>\n",
              "      <th>1457</th>\n",
              "      <td>71921.408420</td>\n",
              "    </tr>\n",
              "    <tr>\n",
              "      <th>1458</th>\n",
              "      <td>190201.777909</td>\n",
              "    </tr>\n",
              "  </tbody>\n",
              "</table>\n",
              "<p>1459 rows × 1 columns</p>\n",
              "</div>"
            ],
            "text/plain": [
              "      Predicted House Price Values\n",
              "0                     61193.197323\n",
              "1                    111326.720904\n",
              "2                    116488.715460\n",
              "3                    136402.379346\n",
              "4                    135085.606164\n",
              "...                            ...\n",
              "1454                  29583.161170\n",
              "1455                   4756.354147\n",
              "1456                 105989.553797\n",
              "1457                  71921.408420\n",
              "1458                 190201.777909\n",
              "\n",
              "[1459 rows x 1 columns]"
            ]
          },
          "metadata": {},
          "execution_count": 83
        }
      ]
    },
    {
      "cell_type": "code",
      "metadata": {
        "id": "CeSQFLjrixLm"
      },
      "source": [
        ""
      ],
      "execution_count": 83,
      "outputs": []
    }
  ]
}